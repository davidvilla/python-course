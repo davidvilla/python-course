{
 "metadata": {
  "name": "",
  "signature": "sha256:0cd7c1aec6451af38f6010b732221eb8ec1211e77da32a8909c1fd7fe20da3c6"
 },
 "nbformat": 3,
 "nbformat_minor": 0,
 "worksheets": [
  {
   "cells": [
    {
     "cell_type": "markdown",
     "metadata": {},
     "source": [
      "# M\u00f3dulos\n",
      "\n",
      "Los m\u00f3dulos son el modo en que Python organiza el c\u00f3digo para su reutilizaci\u00f3n (muy similar a las librer\u00edas). La librer\u00eda define autom\u00e1ticamente un _espacio de nombres_ con el mismo nombre. Para hacer disponible una librer\u00eda se utiliza **import**:"
     ]
    },
    {
     "cell_type": "code",
     "collapsed": false,
     "input": [
      "import math\n",
      "math.cos(0)"
     ],
     "language": "python",
     "metadata": {},
     "outputs": [
      {
       "metadata": {},
       "output_type": "pyout",
       "prompt_number": 1,
       "text": [
        "1.0"
       ]
      }
     ],
     "prompt_number": 1
    },
    {
     "cell_type": "markdown",
     "metadata": {},
     "source": [
      "Se puede importar un m\u00f3dulo con un nombre diferente por comodidad o para evitar un conflicto de nombres:"
     ]
    },
    {
     "cell_type": "code",
     "collapsed": false,
     "input": [
      "import multiprocessing as multiproc\n",
      "dir(multiproc)\n",
      "multiproc.cpu_count()"
     ],
     "language": "python",
     "metadata": {},
     "outputs": [
      {
       "metadata": {},
       "output_type": "pyout",
       "prompt_number": 2,
       "text": [
        "8"
       ]
      }
     ],
     "prompt_number": 2
    },
    {
     "cell_type": "markdown",
     "metadata": {},
     "source": [
      "Es posible importar \u00fanicamente los s\u00edmbolos que se necesitan: "
     ]
    },
    {
     "cell_type": "code",
     "collapsed": false,
     "input": [
      "from math import cos, sin\n",
      "cos(0)"
     ],
     "language": "python",
     "metadata": {},
     "outputs": [
      {
       "metadata": {},
       "output_type": "pyout",
       "prompt_number": 3,
       "text": [
        "1.0"
       ]
      }
     ],
     "prompt_number": 3
    },
    {
     "cell_type": "markdown",
     "metadata": {},
     "source": [
      "Por \u00fatimo, existe la posibildad de importar todos los s\u00edmbolos de un m\u00f3dulo. Esto est\u00e1 desaconsejado porque produce \u00abcontaminaci\u00f3n del espacio de nombres\u00bb (_namespace pollution_)."
     ]
    },
    {
     "cell_type": "code",
     "collapsed": false,
     "input": [
      "from sys import *\n",
      "version_info"
     ],
     "language": "python",
     "metadata": {},
     "outputs": [
      {
       "metadata": {},
       "output_type": "pyout",
       "prompt_number": 4,
       "text": [
        "sys.version_info(major=2, minor=7, micro=7, releaselevel='final', serial=0)"
       ]
      }
     ],
     "prompt_number": 4
    },
    {
     "cell_type": "markdown",
     "metadata": {},
     "source": [
      "## Crear un m\u00f3dulo\n",
      "\n",
      "Para crear un nuevo m\u00f3dulo basta escribir un fichero que incluya una serie de funciones, variables o clases y colocarlo en la ruta de b\u00fasqueda de Python: PYTHONPATH"
     ]
    },
    {
     "cell_type": "code",
     "collapsed": false,
     "input": [
      "path"
     ],
     "language": "python",
     "metadata": {},
     "outputs": [
      {
       "metadata": {},
       "output_type": "pyout",
       "prompt_number": 5,
       "text": [
        "['',\n",
        " '/home/david/repos/qoogol',\n",
        " '/usr/lib/python2.7',\n",
        " '/usr/lib/python2.7/plat-i386-linux-gnu',\n",
        " '/usr/lib/python2.7/lib-tk',\n",
        " '/usr/lib/python2.7/lib-old',\n",
        " '/usr/lib/python2.7/lib-dynload',\n",
        " '/usr/local/lib/python2.7/dist-packages',\n",
        " '/usr/lib/python2.7/dist-packages',\n",
        " '/usr/lib/python2.7/dist-packages/PILcompat',\n",
        " '/usr/lib/python2.7/dist-packages/gst-0.10',\n",
        " '/usr/lib/python2.7/dist-packages/gtk-2.0',\n",
        " '/usr/lib/pymodules/python2.7',\n",
        " '/usr/lib/python2.7/dist-packages/IPython/extensions']"
       ]
      }
     ],
     "prompt_number": 5
    },
    {
     "cell_type": "code",
     "collapsed": false,
     "input": [
      "!cat code/factorial.py"
     ],
     "language": "python",
     "metadata": {},
     "outputs": [
      {
       "output_type": "stream",
       "stream": "stdout",
       "text": [
        "#!/usr/bin/env python\r\n",
        "# -*- mode:python; coding:utf-8; tab-width:4 -*-\r\n",
        "\r\n",
        "def factorial(n):\r\n",
        "    if n == 0:\r\n",
        "        return 1\r\n",
        "\r\n",
        "    return n * factorial(n - 1)\r\n"
       ]
      }
     ],
     "prompt_number": 4
    },
    {
     "cell_type": "code",
     "collapsed": false,
     "input": [
      "import sys\n",
      "sys.path.append(\"./code\")\n",
      "\n",
      "import factorial\n",
      "factorial.factorial(50)"
     ],
     "language": "python",
     "metadata": {},
     "outputs": [
      {
       "metadata": {},
       "output_type": "pyout",
       "prompt_number": 22,
       "text": [
        "30414093201713378043612608166064768844377641568960512000000000000L"
       ]
      }
     ],
     "prompt_number": 22
    },
    {
     "cell_type": "markdown",
     "metadata": {},
     "source": [
      "## Programa principal de un m\u00f3dulo\n",
      "\n",
      "Cuando un fichero Python tiene c\u00f3digo en la primera columna funciona como una funci\u00f3n principal. Al importar ese fichero, ese c\u00f3digo se ejecutar\u00e1. Si queremos que ese c\u00f3digo se ejecuta \u00fanicamente cuando se lanza espec\u00edficamente ese fichero (y no al importarlo) se puede hacer lo siquiente:"
     ]
    },
    {
     "cell_type": "code",
     "collapsed": false,
     "input": [
      "if __name__ == '__main__':\n",
      "    pass  # c\u00f3digo que no se ejecuta con \"import\""
     ],
     "language": "python",
     "metadata": {},
     "outputs": [],
     "prompt_number": 1
    }
   ],
   "metadata": {}
  }
 ]
}