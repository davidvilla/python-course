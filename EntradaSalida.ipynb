{
 "metadata": {
  "name": "",
  "signature": "sha256:ccb8d6fa10c7f37938f0da20bcf26d527b8db971cf40372f8653b2a088adb832"
 },
 "nbformat": 3,
 "nbformat_minor": 0,
 "worksheets": [
  {
   "cells": [
    {
     "cell_type": "markdown",
     "metadata": {},
     "source": [
      "## Entrada/Salida est\u00e1ndar\n",
      "\n",
      "El m\u00f3dulo `sys` ofrece tres descriptores de fichero abiertos, habitual de los sistemas POSIX:\n",
      "\n",
      "- `sys.stdin`: entrada est\u00e1ndar\n",
      "- `sys.stdout`: salida est\u00e1ndar\n",
      "- `sys.stderr`: salida de error est\u00e1ndar.\n",
      "\n",
      "Para leer (de la entrada) o escribir (en las salidas) se utilizan respectivamente los m\u00e9todos `read()` y `write()`:"
     ]
    },
    {
     "cell_type": "code",
     "collapsed": false,
     "input": [
      "import sys\n",
      "sys.stdin.read()"
     ],
     "language": "python",
     "metadata": {},
     "outputs": [
      {
       "metadata": {},
       "output_type": "pyout",
       "prompt_number": 1,
       "text": [
        "''"
       ]
      }
     ],
     "prompt_number": 1
    },
    {
     "cell_type": "markdown",
     "metadata": {},
     "source": [
      "La funci\u00f3n _builtin_ `raw_input()` lee de `sys.stdin`."
     ]
    },
    {
     "cell_type": "code",
     "collapsed": false,
     "input": [
      "user_input = raw_input()"
     ],
     "language": "python",
     "metadata": {},
     "outputs": [
      {
       "name": "stdout",
       "output_type": "stream",
       "stream": "stdout",
       "text": [
        "hola\n"
       ]
      }
     ],
     "prompt_number": 33
    },
    {
     "cell_type": "code",
     "collapsed": false,
     "input": [
      "sys.stdout.write(\"Escribiendo en stdout\")\n",
      "sys.stdout.write(\" m\u00e1s\")"
     ],
     "language": "python",
     "metadata": {},
     "outputs": [
      {
       "output_type": "stream",
       "stream": "stdout",
       "text": [
        "Escribiendo en stdout m\u00e1s"
       ]
      }
     ],
     "prompt_number": 34
    },
    {
     "cell_type": "markdown",
     "metadata": {},
     "source": [
      "La funci\u00f3n `print()` escribe tambi\u00e9n sobre `stdout`:"
     ]
    },
    {
     "cell_type": "code",
     "collapsed": false,
     "input": [
      "print(\"escribiendo con print\")\n",
      "print(\"m\u00e1s\")"
     ],
     "language": "python",
     "metadata": {},
     "outputs": [
      {
       "output_type": "stream",
       "stream": "stdout",
       "text": [
        "escribiendo con print\n",
        "m\u00e1s\n"
       ]
      }
     ],
     "prompt_number": 35
    },
    {
     "cell_type": "code",
     "collapsed": false,
     "input": [
      "sys.stderr.write(\"Escribiendo en stderr\")"
     ],
     "language": "python",
     "metadata": {},
     "outputs": [
      {
       "output_type": "stream",
       "stream": "stderr",
       "text": [
        "Escribiendo en stderr"
       ]
      }
     ],
     "prompt_number": 5
    },
    {
     "cell_type": "markdown",
     "metadata": {},
     "source": [
      "## Ficheros\n",
      "\n",
      "La estrada/salida de datos a ficheros se realiza principalmente mediante la clase `file`. Veamos el uso b\u00e1sico."
     ]
    },
    {
     "cell_type": "code",
     "collapsed": false,
     "input": [
      "fd = file('tmp/foo', 'w')\n",
      "fd.write(\"hello hello\\n\")\n",
      "fd.write(\"una segunda l\u00ednea\\n\")\n",
      "fd.write(\"y la \u00faltima\")\n",
      "fd"
     ],
     "language": "python",
     "metadata": {},
     "outputs": [
      {
       "metadata": {},
       "output_type": "pyout",
       "prompt_number": 6,
       "text": [
        "<open file 'tmp/foo', mode 'w' at 0x7f6be112e9c0>"
       ]
      }
     ],
     "prompt_number": 6
    },
    {
     "cell_type": "code",
     "collapsed": false,
     "input": [
      "fd.close()\n",
      "fd"
     ],
     "language": "python",
     "metadata": {},
     "outputs": [
      {
       "metadata": {},
       "output_type": "pyout",
       "prompt_number": 7,
       "text": [
        "<closed file 'tmp/foo', mode 'w' at 0x7f6be112e9c0>"
       ]
      }
     ],
     "prompt_number": 7
    },
    {
     "cell_type": "code",
     "collapsed": false,
     "input": [
      "fd = file('tmp/foo')\n",
      "fd.closed"
     ],
     "language": "python",
     "metadata": {},
     "outputs": [
      {
       "metadata": {},
       "output_type": "pyout",
       "prompt_number": 8,
       "text": [
        "False"
       ]
      }
     ],
     "prompt_number": 8
    },
    {
     "cell_type": "markdown",
     "metadata": {},
     "source": [
      "El descriptor POSIX es accesible es accesible con el m\u00e9todo `fileno()`."
     ]
    },
    {
     "cell_type": "code",
     "collapsed": false,
     "input": [
      "fd.fileno()"
     ],
     "language": "python",
     "metadata": {},
     "outputs": [
      {
       "metadata": {},
       "output_type": "pyout",
       "prompt_number": 9,
       "text": [
        "59"
       ]
      }
     ],
     "prompt_number": 9
    },
    {
     "cell_type": "code",
     "collapsed": false,
     "input": [
      "fd.mode"
     ],
     "language": "python",
     "metadata": {},
     "outputs": [
      {
       "metadata": {},
       "output_type": "pyout",
       "prompt_number": 10,
       "text": [
        "'r'"
       ]
      }
     ],
     "prompt_number": 10
    },
    {
     "cell_type": "code",
     "collapsed": false,
     "input": [
      "fd.name"
     ],
     "language": "python",
     "metadata": {},
     "outputs": [
      {
       "metadata": {},
       "output_type": "pyout",
       "prompt_number": 11,
       "text": [
        "'tmp/foo'"
       ]
      }
     ],
     "prompt_number": 11
    },
    {
     "cell_type": "code",
     "collapsed": false,
     "input": [
      "fd.readline()"
     ],
     "language": "python",
     "metadata": {},
     "outputs": [
      {
       "metadata": {},
       "output_type": "pyout",
       "prompt_number": 12,
       "text": [
        "'hello hello\\n'"
       ]
      }
     ],
     "prompt_number": 12
    },
    {
     "cell_type": "markdown",
     "metadata": {},
     "source": [
      "Obtener la posici\u00f3n del puntero:"
     ]
    },
    {
     "cell_type": "code",
     "collapsed": false,
     "input": [
      "fd.tell()"
     ],
     "language": "python",
     "metadata": {},
     "outputs": [
      {
       "metadata": {},
       "output_type": "pyout",
       "prompt_number": 13,
       "text": [
        "12"
       ]
      }
     ],
     "prompt_number": 13
    },
    {
     "cell_type": "code",
     "collapsed": false,
     "input": [
      "fd.readlines()"
     ],
     "language": "python",
     "metadata": {},
     "outputs": [
      {
       "metadata": {},
       "output_type": "pyout",
       "prompt_number": 14,
       "text": [
        "['una segunda l\\xc3\\xadnea\\n', 'y la \\xc3\\xbaltima']"
       ]
      }
     ],
     "prompt_number": 14
    },
    {
     "cell_type": "markdown",
     "metadata": {},
     "source": [
      "Mover el puntero al comienzo."
     ]
    },
    {
     "cell_type": "code",
     "collapsed": false,
     "input": [
      "fd.seek(0)"
     ],
     "language": "python",
     "metadata": {},
     "outputs": [],
     "prompt_number": 15
    },
    {
     "cell_type": "markdown",
     "metadata": {},
     "source": [
      "El fichero es iterable:"
     ]
    },
    {
     "cell_type": "code",
     "collapsed": false,
     "input": [
      "for line in fd:\n",
      "    print(line),"
     ],
     "language": "python",
     "metadata": {},
     "outputs": [
      {
       "output_type": "stream",
       "stream": "stdout",
       "text": [
        "hello hello\n",
        "una segunda l\u00ednea\n",
        "y la \u00faltima\n"
       ]
      }
     ],
     "prompt_number": 16
    },
    {
     "cell_type": "markdown",
     "metadata": {},
     "source": [
      "El m\u00e9todo `read()` acepta la cantidad de bytes a leer. Si no se indica lee todo lo posible."
     ]
    },
    {
     "cell_type": "code",
     "collapsed": false,
     "input": [
      "fd.seek(0)\n",
      "fd.read()"
     ],
     "language": "python",
     "metadata": {},
     "outputs": [
      {
       "metadata": {},
       "output_type": "pyout",
       "prompt_number": 17,
       "text": [
        "'hello hello\\nuna segunda l\\xc3\\xadnea\\ny la \\xc3\\xbaltima'"
       ]
      }
     ],
     "prompt_number": 17
    },
    {
     "cell_type": "code",
     "collapsed": false,
     "input": [
      "fd.seek(0)\n",
      "fd.read(17)"
     ],
     "language": "python",
     "metadata": {},
     "outputs": [
      {
       "metadata": {},
       "output_type": "pyout",
       "prompt_number": 18,
       "text": [
        "'hello hello\\nuna s'"
       ]
      }
     ],
     "prompt_number": 18
    },
    {
     "cell_type": "markdown",
     "metadata": {},
     "source": [
      "## E/S POSIX\n",
      "\n",
      "El m\u00f3dulo `os` ofrece funciones a las llamadas al sistema POSIX para manejo de ficheros:"
     ]
    },
    {
     "cell_type": "code",
     "collapsed": false,
     "input": [
      "import os\n",
      "fd = os.open('tmp/foo', os.O_RDONLY)\n",
      "fd"
     ],
     "language": "python",
     "metadata": {},
     "outputs": [
      {
       "metadata": {},
       "output_type": "pyout",
       "prompt_number": 19,
       "text": [
        "60"
       ]
      }
     ],
     "prompt_number": 19
    },
    {
     "cell_type": "code",
     "collapsed": false,
     "input": [
      "os.read(fd, 20)"
     ],
     "language": "python",
     "metadata": {},
     "outputs": [
      {
       "metadata": {},
       "output_type": "pyout",
       "prompt_number": 20,
       "text": [
        "'hello hello\\nuna segu'"
       ]
      }
     ],
     "prompt_number": 20
    },
    {
     "cell_type": "code",
     "collapsed": false,
     "input": [
      "os.close(fd)"
     ],
     "language": "python",
     "metadata": {},
     "outputs": [],
     "prompt_number": 21
    },
    {
     "cell_type": "markdown",
     "metadata": {},
     "source": [
      "Es posible obtener el descriptor entero de un `file` con el m\u00e9todo `fileno()`. Tambi\u00e9n es posible crear un objeto `file` a partir de un descriptor entero con `os.fdopen()`:"
     ]
    },
    {
     "cell_type": "code",
     "collapsed": false,
     "input": [
      "fd = os.open('tmp/foo', os.O_RDONLY)\n",
      "os.fdopen(fd)"
     ],
     "language": "python",
     "metadata": {},
     "outputs": [
      {
       "metadata": {},
       "output_type": "pyout",
       "prompt_number": 22,
       "text": [
        "<open file '<fdopen>', mode 'r' at 0x7f6be112eae0>"
       ]
      }
     ],
     "prompt_number": 22
    },
    {
     "cell_type": "markdown",
     "metadata": {},
     "source": [
      "## Buffering\n",
      "\n",
      "El fichero no entrega inmediatamente los datos al disco. Por defecto, se crea con un buffer. Es posible \"volcar\" ese buffer expl\u00edcitamente con el m\u00e9todo `flush()`."
     ]
    },
    {
     "cell_type": "code",
     "collapsed": false,
     "input": [
      "fd = file('tmp/bar', 'w')\n",
      "fd.write(\"some text\")"
     ],
     "language": "python",
     "metadata": {},
     "outputs": [],
     "prompt_number": 23
    },
    {
     "cell_type": "code",
     "collapsed": false,
     "input": [
      "!cat tmp/bar"
     ],
     "language": "python",
     "metadata": {},
     "outputs": [],
     "prompt_number": 24
    },
    {
     "cell_type": "code",
     "collapsed": false,
     "input": [
      "fd.flush()"
     ],
     "language": "python",
     "metadata": {},
     "outputs": [],
     "prompt_number": 25
    },
    {
     "cell_type": "code",
     "collapsed": false,
     "input": [
      "!cat tmp/bar"
     ],
     "language": "python",
     "metadata": {},
     "outputs": [
      {
       "output_type": "stream",
       "stream": "stdout",
       "text": [
        "some text"
       ]
      }
     ],
     "prompt_number": 26
    },
    {
     "cell_type": "code",
     "collapsed": false,
     "input": [
      "fd.close()"
     ],
     "language": "python",
     "metadata": {},
     "outputs": [],
     "prompt_number": 27
    },
    {
     "cell_type": "markdown",
     "metadata": {},
     "source": [
      "Tambi\u00e9n es posible definir el tama\u00f1o de ese buffer (que puede ser 0):"
     ]
    },
    {
     "cell_type": "code",
     "collapsed": false,
     "input": [
      "fd = file('tmp/bar', 'w', 0)\n",
      "fd.write(\"some text\")"
     ],
     "language": "python",
     "metadata": {},
     "outputs": [],
     "prompt_number": 28
    },
    {
     "cell_type": "code",
     "collapsed": false,
     "input": [
      "!cat tmp/bar"
     ],
     "language": "python",
     "metadata": {},
     "outputs": [
      {
       "output_type": "stream",
       "stream": "stdout",
       "text": [
        "some text"
       ]
      }
     ],
     "prompt_number": 29
    },
    {
     "cell_type": "code",
     "collapsed": false,
     "input": [
      "fd.close()"
     ],
     "language": "python",
     "metadata": {},
     "outputs": [],
     "prompt_number": 30
    },
    {
     "cell_type": "markdown",
     "metadata": {},
     "source": [
      "## Redirecci\u00f3n de la entrada/salida est\u00e1ndar\n",
      "\n",
      "Se pueden substituir los descritores stdin, stdout y stderr por simple asignaci\u00f3n. Esto se puede utilizar por ejemplo para reducir el buffer de stdout."
     ]
    },
    {
     "cell_type": "code",
     "collapsed": false,
     "input": [
      "# sys.stdout = os.fdopen(1, 'w', 0)\n",
      "# sys.stdout.write(\"hi!\")"
     ],
     "language": "python",
     "metadata": {},
     "outputs": [],
     "prompt_number": 31
    },
    {
     "cell_type": "markdown",
     "metadata": {},
     "source": [
      "## Memory files\n",
      "\n",
      "[`StringIO`](https://docs.python.org/2/library/stringio.html) permite crear objetos que tienen la misma interfaz que `file` pero que almacenan el contenido en memoria."
     ]
    },
    {
     "cell_type": "code",
     "collapsed": false,
     "input": [
      "import StringIO\n",
      "\n",
      "fd = StringIO.StringIO()\n",
      "fd.write('foo bar')\n",
      "fd.write('fuzz')\n",
      "\n",
      "print(fd.getvalue())\n",
      "\n",
      "fd.close()"
     ],
     "language": "python",
     "metadata": {},
     "outputs": [
      {
       "output_type": "stream",
       "stream": "stdout",
       "text": [
        "foo barfuzz\n"
       ]
      }
     ],
     "prompt_number": 32
    }
   ],
   "metadata": {}
  }
 ]
}