{
 "metadata": {
  "name": "",
  "signature": "sha256:fedebed6f9ac17e3171d28dda6398ed75dd1c322ce5470fa7520291005485fd5"
 },
 "nbformat": 3,
 "nbformat_minor": 0,
 "worksheets": [
  {
   "cells": [
    {
     "cell_type": "markdown",
     "metadata": {},
     "source": [
      "# Testing\n",
      "\n",
      "Utilidades b\u00e1sicas para testing unitario que incorpora la librer\u00eda est\u00e1ndar de Python.\n",
      "\n",
      "## docstrings\n",
      "\n",
      "Son cadenas especiales que explican el uso b\u00e1sico de una base o funci\u00f3n. Est\u00e1n pensadas para el usuario de la funci\u00f3n, no para el desarrolador de la misma. Se colocan bajo la \"cabecera\" de la funci\u00f3n o clase."
     ]
    },
    {
     "cell_type": "code",
     "collapsed": false,
     "input": [
      "def factorial(x):\n",
      "    \"\"\"\n",
      "    Return the factorial of x.\n",
      "    \"\"\"\n",
      "    return 1 if not x else x * factorial(x - 1)"
     ],
     "language": "python",
     "metadata": {},
     "outputs": [],
     "prompt_number": 16
    },
    {
     "cell_type": "code",
     "collapsed": false,
     "input": [
      "help(factorial)"
     ],
     "language": "python",
     "metadata": {},
     "outputs": [
      {
       "output_type": "stream",
       "stream": "stdout",
       "text": [
        "Help on function factorial in module __main__:\n",
        "\n",
        "factorial(x)\n",
        "    Return the factorial of x.\n",
        "\n"
       ]
      }
     ],
     "prompt_number": 17
    },
    {
     "cell_type": "markdown",
     "metadata": {},
     "source": [
      "Esta cadena se almacena como un atributo de la funci\u00f3n (con nombre \\_\\_doc\\_\\_):"
     ]
    },
    {
     "cell_type": "code",
     "collapsed": false,
     "input": [
      "print(factorial.__doc__)"
     ],
     "language": "python",
     "metadata": {},
     "outputs": [
      {
       "output_type": "stream",
       "stream": "stdout",
       "text": [
        "\n",
        "    Return the factorial of x.\n",
        "    \n"
       ]
      }
     ],
     "prompt_number": 18
    },
    {
     "cell_type": "markdown",
     "metadata": {},
     "source": [
      "S\u00ed, las funciones tambi\u00e9n son objetos."
     ]
    },
    {
     "cell_type": "code",
     "collapsed": false,
     "input": [
      "print(type(factorial))\n",
      "print(\"---\")\n",
      "print(dir(factorial))"
     ],
     "language": "python",
     "metadata": {},
     "outputs": [
      {
       "output_type": "stream",
       "stream": "stdout",
       "text": [
        "<type 'function'>\n",
        "---\n",
        "['__call__', '__class__', '__closure__', '__code__', '__defaults__', '__delattr__', '__dict__', '__doc__', '__format__', '__get__', '__getattribute__', '__globals__', '__hash__', '__init__', '__module__', '__name__', '__new__', '__reduce__', '__reduce_ex__', '__repr__', '__setattr__', '__sizeof__', '__str__', '__subclasshook__', 'func_closure', 'func_code', 'func_defaults', 'func_dict', 'func_doc', 'func_globals', 'func_name']\n"
       ]
      }
     ],
     "prompt_number": 19
    },
    {
     "cell_type": "markdown",
     "metadata": {},
     "source": [
      "Los _docstrings_ pueden contener ejemplos de uso, lo que ayuda a entender la finalidad de la funci\u00f3n. Adem\u00e1s sirven para probar la funci\u00f3n ([doctest](https://docs.python.org/2/library/doctest.html))."
     ]
    },
    {
     "cell_type": "code",
     "collapsed": false,
     "input": [
      "%%file tmp/factorial.py\n",
      "def factorial(x):\n",
      "    \"\"\"\n",
      "    Return the factorial of x.\n",
      "    \n",
      "    >>> factorial(0)\n",
      "    1\n",
      "    >>> factorial(6)\n",
      "    720\n",
      "    \"\"\"\n",
      "    return 1 if not x else x * factorial(x - 1)"
     ],
     "language": "python",
     "metadata": {},
     "outputs": [
      {
       "output_type": "stream",
       "stream": "stdout",
       "text": [
        "Overwriting tmp/factorial.py\n"
       ]
      }
     ],
     "prompt_number": 20
    },
    {
     "cell_type": "markdown",
     "metadata": {},
     "source": [
      "Veamos c\u00f3mo ejecutar esta prueba (desde un programa Python):"
     ]
    },
    {
     "cell_type": "code",
     "collapsed": false,
     "input": [
      "import doctest\n",
      "doctest.testmod()"
     ],
     "language": "python",
     "metadata": {},
     "outputs": [
      {
       "metadata": {},
       "output_type": "pyout",
       "prompt_number": 21,
       "text": [
        "TestResults(failed=0, attempted=0)"
       ]
      }
     ],
     "prompt_number": 21
    },
    {
     "cell_type": "markdown",
     "metadata": {},
     "source": [
      "Tambi\u00e9n se puede ejecutar desde un terminal:"
     ]
    },
    {
     "cell_type": "code",
     "collapsed": false,
     "input": [
      "!python -m doctest -v tmp/factorial.py"
     ],
     "language": "python",
     "metadata": {},
     "outputs": [
      {
       "output_type": "stream",
       "stream": "stdout",
       "text": [
        "Trying:\r\n",
        "    factorial(0)\r\n",
        "Expecting:\r\n",
        "    1\r\n",
        "ok\r\n",
        "Trying:\r\n",
        "    factorial(6)\r\n",
        "Expecting:\r\n",
        "    720\r\n",
        "ok\r\n",
        "1 items had no tests:\r\n",
        "    factorial\r\n",
        "1 items passed all tests:\r\n",
        "   2 tests in factorial.factorial\r\n",
        "2 tests in 2 items.\r\n",
        "2 passed and 0 failed.\r\n",
        "Test passed.\r\n"
       ]
      }
     ],
     "prompt_number": 22
    },
    {
     "cell_type": "markdown",
     "metadata": {},
     "source": [
      "## El m\u00f3dulo [unittest](https://docs.python.org/2/library/unittest.html)\n",
      "\n",
      "Es un m\u00f3dulo para crear test unitarios. Es muy similar a los framework de testing habituales en otros lenguajes, como JUnit (Java). Con **unittest** las pruebas unitarias consisten en crear clases que heredan de la clase **unittest.TestCase**. Cada m\u00e9todo de la clase que empiece con **test\\_** es una prueba indipendiente. Recuerda que las pruebas unitarias deben cumplir FIRST para serlo.\n",
      "* **F**ast\n",
      "* **I**ndependent (o **I**solated)\n",
      "* **R**epeatable\n",
      "* **S**elf-validating\n",
      "* **T**imely"
     ]
    },
    {
     "cell_type": "markdown",
     "metadata": {},
     "source": [
      "Probemos (_testemos_) la funci\u00f3n factorial:"
     ]
    },
    {
     "cell_type": "code",
     "collapsed": false,
     "input": [
      "%%file test/factorial_tests.py\n",
      "\n",
      "import sys\n",
      "import unittest\n",
      "sys.path.append(\"./tmp\")\n",
      "\n",
      "from factorial import factorial\n",
      "\n",
      "class FactorialTests(unittest.TestCase):\n",
      "    def test_factorial_0(self):\n",
      "        self.assertEquals(factorial(0), 1)\n",
      "        \n",
      "    def test_factorial_6(self):\n",
      "        self.assertEquals(factorial(6), 720)"
     ],
     "language": "python",
     "metadata": {},
     "outputs": [
      {
       "output_type": "stream",
       "stream": "stdout",
       "text": [
        "Overwriting test/factorial_tests.py\n"
       ]
      }
     ],
     "prompt_number": 23
    },
    {
     "cell_type": "markdown",
     "metadata": {},
     "source": [
      "Se pueden ejecutar con el m\u00f3dulo est\u00e1ndar:"
     ]
    },
    {
     "cell_type": "code",
     "collapsed": false,
     "input": [
      "!python -m unittest -v test.factorial_tests"
     ],
     "language": "python",
     "metadata": {},
     "outputs": [
      {
       "output_type": "stream",
       "stream": "stdout",
       "text": [
        "test_factorial_0 (test.factorial_tests.FactorialTests) ... ok\r\n",
        "test_factorial_6 (test.factorial_tests.FactorialTests) ... ok\r\n",
        "\r\n",
        "----------------------------------------------------------------------\r\n",
        "Ran 2 tests in 0.000s\r\n",
        "\r\n",
        "OK\r\n"
       ]
      }
     ],
     "prompt_number": 24
    },
    {
     "cell_type": "markdown",
     "metadata": {},
     "source": [
      "O con otros _runners_, como **python-nose**:"
     ]
    },
    {
     "cell_type": "code",
     "collapsed": false,
     "input": [
      "!nosetests -v test/factorial_tests.py"
     ],
     "language": "python",
     "metadata": {},
     "outputs": [
      {
       "output_type": "stream",
       "stream": "stdout",
       "text": [
        "test_factorial_0 (test.factorial_tests.FactorialTests) ... ok\r\n",
        "test_factorial_6 (test.factorial_tests.FactorialTests) ... ok\r\n",
        "\r\n",
        "----------------------------------------------------------------------\r\n",
        "Ran 2 tests in 0.001s\r\n",
        "\r\n",
        "OK\r\n"
       ]
      }
     ],
     "prompt_number": 25
    },
    {
     "cell_type": "markdown",
     "metadata": {},
     "source": [
      "## OK, FAIL y ERROR"
     ]
    },
    {
     "cell_type": "code",
     "collapsed": false,
     "input": [
      "%%file test/sample.py\n",
      "\n",
      "from unittest import TestCase\n",
      "import socket\n",
      "\n",
      "class SampleTest(TestCase):\n",
      "    def test_ok(self):\n",
      "        self.assertEquals(1, 1)\n",
      "        \n",
      "    def test_fail(self):\n",
      "        self.assertEquals(1, 0)\n",
      "        \n",
      "    def test_error(self):\n",
      "        1/0"
     ],
     "language": "python",
     "metadata": {},
     "outputs": [
      {
       "output_type": "stream",
       "stream": "stdout",
       "text": [
        "Overwriting test/sample.py\n"
       ]
      }
     ],
     "prompt_number": 26
    },
    {
     "cell_type": "code",
     "collapsed": false,
     "input": [
      "!nosetests -v test/sample.py"
     ],
     "language": "python",
     "metadata": {},
     "outputs": [
      {
       "output_type": "stream",
       "stream": "stdout",
       "text": [
        "test_error (test.sample.SampleTest) ... ERROR\r\n",
        "test_fail (test.sample.SampleTest) ... FAIL\r\n",
        "test_ok (test.sample.SampleTest) ... ok\r\n",
        "\r\n",
        "======================================================================\r\n",
        "ERROR: test_error (test.sample.SampleTest)\r\n",
        "----------------------------------------------------------------------\r\n",
        "Traceback (most recent call last):\r\n",
        "  File \"/home/david/repos/python-intro/test/sample.py\", line 13, in test_error\r\n",
        "    1/0\r\n",
        "ZeroDivisionError: integer division or modulo by zero\r\n",
        "\r\n",
        "======================================================================\r\n",
        "FAIL: test_fail (test.sample.SampleTest)\r\n",
        "----------------------------------------------------------------------\r\n",
        "Traceback (most recent call last):\r\n",
        "  File \"/home/david/repos/python-intro/test/sample.py\", line 10, in test_fail\r\n",
        "    self.assertEquals(1, 0)\r\n",
        "AssertionError: 1 != 0\r\n",
        "\r\n",
        "----------------------------------------------------------------------\r\n",
        "Ran 3 tests in 0.002s\r\n",
        "\r\n",
        "FAILED (errors=1, failures=1)\r\n"
       ]
      }
     ],
     "prompt_number": 27
    },
    {
     "cell_type": "markdown",
     "metadata": {},
     "source": [
      "Como vemos en esta salida, una prueba puede producir 3 tres resultados diferentes:\n",
      "* OK: no ocurri\u00f3 ning\u00fan error y todas las aserciones se cumplieron.\n",
      "* FAIL: Alguna aserci\u00f3n fall\u00f3.\n",
      "* ERROR: Se produjo un error en la propia prueba (probablemente una excepci\u00f3n no capturada)."
     ]
    },
    {
     "cell_type": "markdown",
     "metadata": {},
     "source": [
      "**[E]** Escribe un testcase para la clase BankAccount y prueba los m\u00e9todos **deposit()**, **transfer_to()** y la versi\u00f3n modificada de **withdraw()** que lanza excepci\u00f3n."
     ]
    },
    {
     "cell_type": "code",
     "collapsed": false,
     "input": [
      "from unittest import TestCase\n",
      "from bank import BankAccount\n",
      "\n",
      "class BankAccountTest(TestCase):\n",
      "    def test_deposit(self):\n",
      "        self.account = BankAccount()\n",
      "        self.account.deposit(300)\n",
      "        self.assertEquals(self.account.balance, 300)\n",
      "\n",
      "    def test_withdraw(self):\n",
      "        self.account = BankAccount()\n",
      "        self.account.deposit(300)\n",
      "        self.account.withdraw(100)\n",
      "        self.assertEquals(self.account.balance, 200)\n",
      "\n",
      "    def test_withdraw_raises_NotEnoughBalance(self):\n",
      "        self.account = BankAccount()\n",
      "        self.account.deposit(300)\n",
      "        with self.assertRaises(NotEnoughBalance):\n",
      "            self.account.withdraw(400)"
     ],
     "language": "python",
     "metadata": {},
     "outputs": [],
     "prompt_number": 29
    },
    {
     "cell_type": "markdown",
     "metadata": {},
     "source": [
      "### setUp y tearDown\n",
      "\n",
      "Es habitual que varias pruebas necesiten condiciones de comienzo similares, por ejemplo, una instancia de la clase que se est\u00e1 probando. En ese caso se puede utilizar un m\u00e9todo especial que debe llamarse **setUp**, que ser\u00e1 ejecutado antes de cada prueba. Existe otro m\u00e9todo similar (llamado **tearDown**) que se ejecuta despu\u00e9s de cada prueba y que se puede utilizar para labores de cierre y limpieza, o quiz\u00e1 comprobaci\u00f3n de alguna postcondici\u00f3n com\u00fan."
     ]
    },
    {
     "cell_type": "code",
     "collapsed": false,
     "input": [
      "from unittest import TestCase\n",
      "from bank import BankAccount\n",
      "\n",
      "class BankAccountTest(TestCase):\n",
      "    def setUp(self):\n",
      "        self.account = BankAccount()\n",
      "        self.account.deposit(300)\n",
      "\n",
      "    def test_deposit(self):\n",
      "        self.assertEquals(self.account.balance, 300)\n",
      "\n",
      "    def test_withdraw(self):\n",
      "        self.account.withdraw(100)\n",
      "        self.assertEquals(self.account.balance, 200)\n",
      "\n",
      "    def test_withdraw_raises_NotEnoughBalance(self):\n",
      "        with self.assertRaises(NotEnoughBalance):\n",
      "            self.account.withdraw(400)\n",
      "\n",
      "    def tearDown(self):\n",
      "        assert self.account.balance >= 0"
     ],
     "language": "python",
     "metadata": {},
     "outputs": [],
     "prompt_number": 30
    },
    {
     "cell_type": "markdown",
     "metadata": {},
     "source": [
      "## TDD\n",
      "\n",
      "[ToDo]"
     ]
    },
    {
     "cell_type": "code",
     "collapsed": false,
     "input": [
      "from IPython.display import SVG\n",
      "SVG('figures/tdd.svg')"
     ],
     "language": "python",
     "metadata": {},
     "outputs": [
      {
       "metadata": {},
       "output_type": "pyout",
       "prompt_number": 31,
       "svg": [
        "<svg height=\"216.25258\" id=\"svg2\" inkscape:version=\"0.48.1 r9760\" sodipodi:docname=\"Documento nuevo 1\" version=\"1.1\" width=\"282.15833\" xmlns=\"http://www.w3.org/2000/svg\" xmlns:cc=\"http://creativecommons.org/ns#\" xmlns:dc=\"http://purl.org/dc/elements/1.1/\" xmlns:inkscape=\"http://www.inkscape.org/namespaces/inkscape\" xmlns:rdf=\"http://www.w3.org/1999/02/22-rdf-syntax-ns#\" xmlns:sodipodi=\"http://sodipodi.sourceforge.net/DTD/sodipodi-0.dtd\" xmlns:svg=\"http://www.w3.org/2000/svg\">\n",
        "  <defs id=\"defs4\">\n",
        "    <marker id=\"Arrow1Mend\" inkscape:stockid=\"Arrow1Mend\" orient=\"auto\" refX=\"0\" refY=\"0\" style=\"overflow:visible\">\n",
        "      <path d=\"M 0,0 5,-5 -12.5,0 5,5 0,0 z\" id=\"path3864\" inkscape:connector-curvature=\"0\" style=\"fill-rule:evenodd;stroke:#000000;stroke-width:1pt;marker-start:none\" transform=\"matrix(-0.4,0,0,-0.4,-4,0)\"/>\n",
        "    </marker>\n",
        "    <marker id=\"Arrow1Lend\" inkscape:stockid=\"Arrow1Lend\" orient=\"auto\" refX=\"0\" refY=\"0\" style=\"overflow:visible\">\n",
        "      <path d=\"M 0,0 5,-5 -12.5,0 5,5 0,0 z\" id=\"path3858\" inkscape:connector-curvature=\"0\" style=\"fill-rule:evenodd;stroke:#000000;stroke-width:1pt;marker-start:none\" transform=\"matrix(-0.8,0,0,-0.8,-10,0)\"/>\n",
        "    </marker>\n",
        "    <marker id=\"Arrow1Mend-7\" inkscape:stockid=\"Arrow1Mend\" orient=\"auto\" refX=\"0\" refY=\"0\" style=\"overflow:visible\">\n",
        "      <path d=\"M 0,0 5,-5 -12.5,0 5,5 0,0 z\" id=\"path3864-2\" inkscape:connector-curvature=\"0\" style=\"fill-rule:evenodd;stroke:#000000;stroke-width:1pt;marker-start:none\" transform=\"matrix(-0.4,0,0,-0.4,-4,0)\"/>\n",
        "    </marker>\n",
        "    <marker id=\"Arrow1Mend-76\" inkscape:stockid=\"Arrow1Mend\" orient=\"auto\" refX=\"0\" refY=\"0\" style=\"overflow:visible\">\n",
        "      <path d=\"M 0,0 5,-5 -12.5,0 5,5 0,0 z\" id=\"path3864-0\" inkscape:connector-curvature=\"0\" style=\"fill-rule:evenodd;stroke:#000000;stroke-width:1pt;marker-start:none\" transform=\"matrix(-0.4,0,0,-0.4,-4,0)\"/>\n",
        "    </marker>\n",
        "    <marker id=\"Arrow1Mend-2\" inkscape:stockid=\"Arrow1Mend\" orient=\"auto\" refX=\"0\" refY=\"0\" style=\"overflow:visible\">\n",
        "      <path d=\"M 0,0 5,-5 -12.5,0 5,5 0,0 z\" id=\"path3864-4\" inkscape:connector-curvature=\"0\" style=\"fill-rule:evenodd;stroke:#000000;stroke-width:1pt;marker-start:none\" transform=\"matrix(-0.4,0,0,-0.4,-4,0)\"/>\n",
        "    </marker>\n",
        "  </defs>\n",
        "  <sodipodi:namedview bordercolor=\"#666666\" borderopacity=\"1.0\" fit-margin-bottom=\"0\" fit-margin-left=\"0\" fit-margin-right=\"0\" fit-margin-top=\"0\" id=\"base\" inkscape:current-layer=\"layer1\" inkscape:cx=\"223.0993\" inkscape:cy=\"114.42088\" inkscape:document-units=\"px\" inkscape:pageopacity=\"0.0\" inkscape:pageshadow=\"2\" inkscape:window-height=\"991\" inkscape:window-maximized=\"1\" inkscape:window-width=\"1920\" inkscape:window-x=\"1920\" inkscape:window-y=\"30\" inkscape:zoom=\"2.3451323\" pagecolor=\"#ffffff\" showgrid=\"false\"/>\n",
        "  <metadata id=\"metadata7\">\n",
        "    <rdf:RDF>\n",
        "      <cc:Work rdf:about=\"\">\n",
        "        <dc:format>image/svg+xml</dc:format>\n",
        "        <dc:type rdf:resource=\"http://purl.org/dc/dcmitype/StillImage\"/>\n",
        "        <dc:title/>\n",
        "      </cc:Work>\n",
        "    </rdf:RDF>\n",
        "  </metadata>\n",
        "  <g id=\"layer1\" inkscape:groupmode=\"layer\" inkscape:label=\"Capa 1\" transform=\"translate(-107.625,-70.935434)\">\n",
        "    <g id=\"g3079\" transform=\"translate(-21.320747,0)\">\n",
        "      <path d=\"m 322.36987,115.74125 c 0,18.48695 -23.95953,33.47359 -53.5151,33.47359 -29.55558,0 -53.51511,-14.98664 -53.51511,-33.47359 0,-18.486955 23.95953,-33.473592 53.51511,-33.473592 29.55557,0 53.5151,14.986637 53.5151,33.473592 z\" id=\"path2985\" sodipodi:cx=\"268.85477\" sodipodi:cy=\"115.74125\" sodipodi:rx=\"53.515106\" sodipodi:ry=\"33.473591\" sodipodi:type=\"arc\" style=\"fill:#ff5555;fill-opacity:1;stroke:#000000;stroke-width:0.5;stroke-linecap:round;stroke-linejoin:round;stroke-miterlimit:4;stroke-opacity:1;stroke-dasharray:none;stroke-dashoffset:0\"/>\n",
        "      <text id=\"text2987\" sodipodi:linespacing=\"89.999998%\" style=\"font-size:27.32753372px;font-style:normal;font-weight:normal;text-align:center;line-height:89.99999762%;letter-spacing:0px;word-spacing:0px;text-anchor:middle;fill:#000000;fill-opacity:1;stroke:none;font-family:Sans\" x=\"269.75098\" xml:space=\"preserve\" y=\"124.23579\"><tspan id=\"tspan2991\" sodipodi:role=\"line\" style=\"font-size:27.32753372px;font-style:normal;font-variant:normal;font-weight:normal;font-stretch:normal;text-align:center;line-height:89.99999762%;writing-mode:lr-tb;text-anchor:middle;font-family:Sans;-inkscape-font-specification:Sans\" x=\"269.75098\" y=\"124.23579\">fail</tspan></text>\n",
        "    </g>\n",
        "    <g id=\"g3074\" transform=\"translate(-41.452833,12.264152)\">\n",
        "      <path d=\"m 322.36987,115.74125 c 0,18.48695 -23.95953,33.47359 -53.5151,33.47359 -29.55558,0 -53.51511,-14.98664 -53.51511,-33.47359 0,-18.486955 23.95953,-33.473592 53.51511,-33.473592 29.55557,0 53.5151,14.986637 53.5151,33.473592 z\" id=\"path2985-1\" sodipodi:cx=\"268.85477\" sodipodi:cy=\"115.74125\" sodipodi:rx=\"53.515106\" sodipodi:ry=\"33.473591\" sodipodi:type=\"arc\" style=\"fill:#8dd35f;fill-opacity:1;stroke:#000000;stroke-width:0.5;stroke-linecap:round;stroke-linejoin:round;stroke-miterlimit:4;stroke-opacity:1;stroke-dasharray:none;stroke-dashoffset:0\" transform=\"translate(96.156624,101.2736)\"/>\n",
        "      <text id=\"text2987-2\" sodipodi:linespacing=\"89.999998%\" style=\"font-size:27.32753372px;font-style:normal;font-weight:normal;text-align:center;line-height:89.99999762%;letter-spacing:0px;word-spacing:0px;text-anchor:middle;fill:#000000;fill-opacity:1;stroke:none;font-family:Sans\" x=\"364.31085\" xml:space=\"preserve\" y=\"227.20262\"><tspan id=\"tspan2991-8\" sodipodi:role=\"line\" style=\"font-size:27.32753372px;font-style:normal;font-variant:normal;font-weight:normal;font-stretch:normal;text-align:center;line-height:89.99999762%;writing-mode:lr-tb;text-anchor:middle;font-family:Sans;-inkscape-font-specification:Sans\" x=\"364.31085\" y=\"227.20262\">ok</tspan></text>\n",
        "    </g>\n",
        "    <g id=\"g3069\" transform=\"translate(-4.660379,12.264152)\">\n",
        "      <path d=\"m 322.36987,115.74125 c 0,18.48695 -23.95953,33.47359 -53.5151,33.47359 -29.55558,0 -53.51511,-14.98664 -53.51511,-33.47359 0,-18.486955 23.95953,-33.473592 53.51511,-33.473592 29.55557,0 53.5151,14.986637 53.5151,33.473592 z\" id=\"path2985-1-6\" sodipodi:cx=\"268.85477\" sodipodi:cy=\"115.74125\" sodipodi:rx=\"53.515106\" sodipodi:ry=\"33.473591\" sodipodi:type=\"arc\" style=\"fill:#ffffff;fill-opacity:1;stroke:#000000;stroke-width:0.5;stroke-linecap:round;stroke-linejoin:round;stroke-miterlimit:4;stroke-opacity:1;stroke-dasharray:none;stroke-dashoffset:0\" transform=\"translate(-93.171715,101.2736)\"/>\n",
        "      <text id=\"text2987-2-1\" sodipodi:linespacing=\"89.999998%\" style=\"font-size:21.78348732px;font-style:normal;font-weight:normal;text-align:center;line-height:89.99999762%;letter-spacing:0px;word-spacing:0px;text-anchor:middle;fill:#000000;fill-opacity:1;stroke:none;font-family:Sans\" x=\"174.7045\" xml:space=\"preserve\" y=\"225.13579\"><tspan id=\"tspan2991-8-0\" sodipodi:role=\"line\" style=\"font-size:21.78348732px;font-style:normal;font-variant:normal;font-weight:normal;font-stretch:normal;text-align:center;line-height:89.99999762%;writing-mode:lr-tb;text-anchor:middle;font-family:Sans;-inkscape-font-specification:Sans\" x=\"174.7045\" y=\"225.13579\">refactor</tspan></text>\n",
        "    </g>\n",
        "    <path d=\"m 285.2708,261.95489 c -24.28106,12.07757 -48.35869,13.28136 -74.6955,0.0546\" id=\"path4848-3\" inkscape:connector-curvature=\"0\" sodipodi:nodetypes=\"cc\" style=\"fill:none;stroke:#000000;stroke-width:1.62113202px;stroke-linecap:butt;stroke-linejoin:miter;stroke-opacity:1;marker-mid:none;marker-end:url(#Arrow1Mend)\"/>\n",
        "    <path d=\"m 165.60479,190.63813 c 1.21732,-23.69147 6.0783,-37.7356 24.84124,-57.01644\" id=\"path4964\" inkscape:connector-curvature=\"0\" sodipodi:nodetypes=\"cc\" style=\"fill:none;stroke:#000000;stroke-width:1.5565269px;stroke-linecap:butt;stroke-linejoin:miter;stroke-opacity:1;marker-mid:none;marker-end:url(#Arrow1Mend)\"/>\n",
        "    <path d=\"m 301.70113,130.74968 c 17.5824,17.83561 25.12045,31.22745 27.04425,57.84603\" id=\"path4976\" inkscape:connector-curvature=\"0\" sodipodi:nodetypes=\"cc\" style=\"fill:none;stroke:#000000;stroke-width:1.57974613px;stroke-linecap:butt;stroke-linejoin:miter;stroke-opacity:1;marker-mid:none;marker-end:url(#Arrow1Mend)\"/>\n",
        "  </g>\n",
        "</svg>"
       ],
       "text": [
        "<IPython.core.display.SVG at 0x7faaf8295c90>"
       ]
      }
     ],
     "prompt_number": 31
    }
   ],
   "metadata": {}
  }
 ]
}