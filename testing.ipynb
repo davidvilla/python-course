{
 "metadata": {
  "name": "",
  "signature": "sha256:27de5da3f79811fb32d5a9484787e193c0ce9de5ff3fa9aed18eb2d38e6286a9"
 },
 "nbformat": 3,
 "nbformat_minor": 0,
 "worksheets": [
  {
   "cells": [
    {
     "cell_type": "markdown",
     "metadata": {},
     "source": [
      "# Testing\n",
      "\n",
      "Utilidades b\u00e1sicas para testing unitario que incorpora la librer\u00eda est\u00e1ndar de Python.\n",
      "\n",
      "## docstrings\n",
      "\n",
      "Son cadenas especiales que explican el uso b\u00e1sico de una base o funci\u00f3n. Est\u00e1n pensadas para el usuario de la funci\u00f3n, no para el desarrolador de la misma. Se colocan bajo la \"cabecera\" de la funci\u00f3n o clase."
     ]
    },
    {
     "cell_type": "code",
     "collapsed": false,
     "input": [
      "def factorial(x):\n",
      "    \"\"\"\n",
      "    Return the factorial of x.\n",
      "    \"\"\"\n",
      "    return 1 if not x else x * factorial(x - 1)"
     ],
     "language": "python",
     "metadata": {},
     "outputs": [],
     "prompt_number": 104
    },
    {
     "cell_type": "code",
     "collapsed": false,
     "input": [
      "help(factorial)"
     ],
     "language": "python",
     "metadata": {},
     "outputs": [
      {
       "output_type": "stream",
       "stream": "stdout",
       "text": [
        "Help on function factorial in module __main__:\n",
        "\n",
        "factorial(x)\n",
        "    Return the factorial of x.\n",
        "\n"
       ]
      }
     ],
     "prompt_number": 105
    },
    {
     "cell_type": "markdown",
     "metadata": {},
     "source": [
      "Esta cadena se almacena como un atributo de la funci\u00f3n (con nombre \\_\\_doc\\_\\_):"
     ]
    },
    {
     "cell_type": "code",
     "collapsed": false,
     "input": [
      "print(factorial.__doc__)"
     ],
     "language": "python",
     "metadata": {},
     "outputs": [
      {
       "output_type": "stream",
       "stream": "stdout",
       "text": [
        "\n",
        "    Return the factorial of x.\n",
        "    \n"
       ]
      }
     ],
     "prompt_number": 106
    },
    {
     "cell_type": "markdown",
     "metadata": {},
     "source": [
      "S\u00ed, las funciones tambi\u00e9n son objetos."
     ]
    },
    {
     "cell_type": "code",
     "collapsed": false,
     "input": [
      "print(type(factorial))\n",
      "print(\"---\")\n",
      "print(dir(factorial))"
     ],
     "language": "python",
     "metadata": {},
     "outputs": [
      {
       "output_type": "stream",
       "stream": "stdout",
       "text": [
        "<type 'function'>\n",
        "---\n",
        "['__call__', '__class__', '__closure__', '__code__', '__defaults__', '__delattr__', '__dict__', '__doc__', '__format__', '__get__', '__getattribute__', '__globals__', '__hash__', '__init__', '__module__', '__name__', '__new__', '__reduce__', '__reduce_ex__', '__repr__', '__setattr__', '__sizeof__', '__str__', '__subclasshook__', 'func_closure', 'func_code', 'func_defaults', 'func_dict', 'func_doc', 'func_globals', 'func_name']\n"
       ]
      }
     ],
     "prompt_number": 107
    },
    {
     "cell_type": "markdown",
     "metadata": {},
     "source": [
      "Los _docstrings_ pueden contener ejemplos de uso, lo que ayuda a entender la finalidad de la funci\u00f3n. Adem\u00e1s sirven para probar la funci\u00f3n ([doctest](https://docs.python.org/2/library/doctest.html))."
     ]
    },
    {
     "cell_type": "code",
     "collapsed": false,
     "input": [
      "%%file tmp/factorial.py\n",
      "def factorial(x):\n",
      "    \"\"\"\n",
      "    Return the factorial of x.\n",
      "    \n",
      "    >>> factorial(0)\n",
      "    1\n",
      "    >>> factorial(6)\n",
      "    720\n",
      "    \"\"\"\n",
      "    return 1 if not x else x * factorial(x - 1)"
     ],
     "language": "python",
     "metadata": {},
     "outputs": [
      {
       "output_type": "stream",
       "stream": "stdout",
       "text": [
        "Overwriting tmp/factorial.py\n"
       ]
      }
     ],
     "prompt_number": 108
    },
    {
     "cell_type": "markdown",
     "metadata": {},
     "source": [
      "Veamos c\u00f3mo ejecutar esta prueba (desde un programa Python):"
     ]
    },
    {
     "cell_type": "code",
     "collapsed": false,
     "input": [
      "import doctest\n",
      "doctest.testmod()"
     ],
     "language": "python",
     "metadata": {},
     "outputs": [
      {
       "metadata": {},
       "output_type": "pyout",
       "prompt_number": 109,
       "text": [
        "TestResults(failed=0, attempted=0)"
       ]
      }
     ],
     "prompt_number": 109
    },
    {
     "cell_type": "markdown",
     "metadata": {},
     "source": [
      "Tambi\u00e9n se puede ejecutar desde un terminal:"
     ]
    },
    {
     "cell_type": "code",
     "collapsed": false,
     "input": [
      "!python -m doctest -v tmp/factorial.py"
     ],
     "language": "python",
     "metadata": {},
     "outputs": [
      {
       "output_type": "stream",
       "stream": "stdout",
       "text": [
        "Trying:\r\n",
        "    factorial(0)\r\n",
        "Expecting:\r\n",
        "    1\r\n",
        "ok\r\n",
        "Trying:\r\n",
        "    factorial(6)\r\n",
        "Expecting:\r\n",
        "    720\r\n",
        "ok\r\n",
        "1 items had no tests:\r\n",
        "    factorial\r\n",
        "1 items passed all tests:\r\n",
        "   2 tests in factorial.factorial\r\n",
        "2 tests in 2 items.\r\n",
        "2 passed and 0 failed.\r\n",
        "Test passed.\r\n"
       ]
      }
     ],
     "prompt_number": 110
    },
    {
     "cell_type": "markdown",
     "metadata": {},
     "source": [
      "## El m\u00f3dulo [unittest](https://docs.python.org/2/library/unittest.html)\n",
      "\n",
      "Es un m\u00f3dulo para crear test unitarios. Es muy similar a los framework de testing habituales en otros lenguajes, como JUnit (Java). Con **unittest** las pruebas unitarias consisten en crear clases que heredan de la clase **unittest.TestCase**. Cada m\u00e9todo de la clase que empiece con **test\\_** es una prueba indipendiente. Recuerda que las pruebas unitarias deben cumplir FIRST para serlo.\n",
      "* **F**ast\n",
      "* **I**ndependent (o **I**solated)\n",
      "* **R**epeatable\n",
      "* **S**elf-validating\n",
      "* **T**imely"
     ]
    },
    {
     "cell_type": "markdown",
     "metadata": {},
     "source": [
      "Probemos (_testemos_) la funci\u00f3n factorial:"
     ]
    },
    {
     "cell_type": "code",
     "collapsed": false,
     "input": [
      "%%file test/factorial_tests.py\n",
      "\n",
      "import sys\n",
      "import unittest\n",
      "sys.path.append(\"./tmp\")\n",
      "\n",
      "from factorial import factorial\n",
      "\n",
      "class FactorialTests(unittest.TestCase):\n",
      "    def test_factorial_0(self):\n",
      "        self.assertEquals(factorial(0), 1)\n",
      "        \n",
      "    def test_factorial_6(self):\n",
      "        self.assertEquals(factorial(6), 720)"
     ],
     "language": "python",
     "metadata": {},
     "outputs": [
      {
       "output_type": "stream",
       "stream": "stdout",
       "text": [
        "Overwriting test/factorial_tests.py\n"
       ]
      }
     ],
     "prompt_number": 111
    },
    {
     "cell_type": "markdown",
     "metadata": {},
     "source": [
      "Se pueden ejecutar con el m\u00f3dulo est\u00e1ndar:"
     ]
    },
    {
     "cell_type": "code",
     "collapsed": false,
     "input": [
      "!python -m unittest -v test.factorial_tests"
     ],
     "language": "python",
     "metadata": {},
     "outputs": [
      {
       "output_type": "stream",
       "stream": "stdout",
       "text": [
        "test_factorial_0 (test.factorial_tests.FactorialTests) ... ok\r\n",
        "test_factorial_6 (test.factorial_tests.FactorialTests) ... ok\r\n",
        "\r\n",
        "----------------------------------------------------------------------\r\n",
        "Ran 2 tests in 0.000s\r\n",
        "\r\n",
        "OK\r\n"
       ]
      }
     ],
     "prompt_number": 112
    },
    {
     "cell_type": "markdown",
     "metadata": {},
     "source": [
      "O con otros _runners_, como **python-nose**:"
     ]
    },
    {
     "cell_type": "code",
     "collapsed": false,
     "input": [
      "!nosetests -v test/factorial_tests.py"
     ],
     "language": "python",
     "metadata": {},
     "outputs": [
      {
       "output_type": "stream",
       "stream": "stdout",
       "text": [
        "test_factorial_0 (test.factorial_tests.FactorialTests) ... ok\r\n",
        "test_factorial_6 (test.factorial_tests.FactorialTests) ... ok\r\n",
        "\r\n",
        "----------------------------------------------------------------------\r\n",
        "Ran 2 tests in 0.001s\r\n",
        "\r\n",
        "OK\r\n"
       ]
      }
     ],
     "prompt_number": 113
    },
    {
     "cell_type": "markdown",
     "metadata": {},
     "source": [
      "## OK, FAIL y ERROR"
     ]
    },
    {
     "cell_type": "code",
     "collapsed": false,
     "input": [
      "%%file test/sample.py\n",
      "\n",
      "from unittest import TestCase\n",
      "import socket\n",
      "\n",
      "class SampleTest(TestCase):\n",
      "    def test_ok(self):\n",
      "        self.assertEquals(1, 1)\n",
      "        \n",
      "    def test_fail(self):\n",
      "        self.assertEquals(1, 0)\n",
      "        \n",
      "    def test_error(self):\n",
      "        1/0"
     ],
     "language": "python",
     "metadata": {},
     "outputs": [
      {
       "output_type": "stream",
       "stream": "stdout",
       "text": [
        "Overwriting test/sample.py\n"
       ]
      }
     ],
     "prompt_number": 123
    },
    {
     "cell_type": "code",
     "collapsed": false,
     "input": [
      "!nosetests -v test/sample.py"
     ],
     "language": "python",
     "metadata": {},
     "outputs": [
      {
       "output_type": "stream",
       "stream": "stdout",
       "text": [
        "test_error (test.sample.SampleTest) ... ERROR\r\n",
        "test_fail (test.sample.SampleTest) ... FAIL\r\n",
        "test_ok (test.sample.SampleTest) ... ok\r\n",
        "\r\n",
        "======================================================================\r\n",
        "ERROR: test_error (test.sample.SampleTest)\r\n",
        "----------------------------------------------------------------------\r\n",
        "Traceback (most recent call last):\r\n",
        "  File \"/home/david/repos/python-intro/test/sample.py\", line 13, in test_error\r\n",
        "    1/0\r\n",
        "ZeroDivisionError: integer division or modulo by zero\r\n",
        "\r\n",
        "======================================================================\r\n",
        "FAIL: test_fail (test.sample.SampleTest)\r\n",
        "----------------------------------------------------------------------\r\n",
        "Traceback (most recent call last):\r\n",
        "  File \"/home/david/repos/python-intro/test/sample.py\", line 10, in test_fail\r\n",
        "    self.assertEquals(1, 0)\r\n",
        "AssertionError: 1 != 0\r\n",
        "\r\n",
        "----------------------------------------------------------------------\r\n",
        "Ran 3 tests in 0.002s\r\n",
        "\r\n",
        "FAILED (errors=1, failures=1)\r\n"
       ]
      }
     ],
     "prompt_number": 126
    },
    {
     "cell_type": "markdown",
     "metadata": {},
     "source": [
      "Como vemos en esta salida, una prueba puede producir 3 tres resultados diferentes:\n",
      "* OK: no ocurri\u00f3 ning\u00fan error y todas las aserciones se cumplieron.\n",
      "* FAIL: Alguna aserci\u00f3n fall\u00f3.\n",
      "* ERROR: Se produjo un error en la propia prueba (probablemente una excepci\u00f3n no capturada)."
     ]
    },
    {
     "cell_type": "markdown",
     "metadata": {},
     "source": [
      "**[E]** Escribe un testcase para la clase BankAccount y prueba los m\u00e9todos **deposit()**, **transfer_to()** y la versi\u00f3n modificada de **withdraw()** que lanza excepci\u00f3n."
     ]
    },
    {
     "cell_type": "code",
     "collapsed": false,
     "input": [
      "from unittest import TestCase\n",
      "from bank import BankAccount\n",
      "\n",
      "class BankAccountTest(TestCase):\n",
      "    def test_deposit(self):\n",
      "        self.account = BankAccount()\n",
      "        self.account.deposit(300)\n",
      "        self.assertEquals(self.account.balance, 300)\n",
      "\n",
      "    def test_withdraw(self):\n",
      "        self.account = BankAccount()\n",
      "        self.account.deposit(300)\n",
      "        self.account.withdraw(100)\n",
      "        self.assertEquals(self.account.balance, 200)\n",
      "\n",
      "    def test_withdraw_raises_NotEnoughBalance(self):\n",
      "        self.account = BankAccount()\n",
      "        self.account.deposit(300)\n",
      "        with self.assertRaises(NotEnoughBalance):\n",
      "            self.account.withdraw(400)"
     ],
     "language": "python",
     "metadata": {},
     "outputs": [],
     "prompt_number": 128
    },
    {
     "cell_type": "markdown",
     "metadata": {},
     "source": [
      "### setUp y tearDown\n",
      "\n",
      "Es habitual que varias pruebas necesiten condiciones de comienzo similares, por ejemplo, una instancia de la clase que se est\u00e1 probando. En ese caso se puede utilizar un m\u00e9todo especial que debe llamarse **setUp**, que ser\u00e1 ejecutado antes de cada prueba. Existe otro m\u00e9todo similar (llamado **tearDown**) que se ejecuta despu\u00e9s de cada prueba y que se puede utilizar para labores de cierre y limpieza, o quiz\u00e1 comprobaci\u00f3n de alguna postcondici\u00f3n com\u00fan."
     ]
    },
    {
     "cell_type": "code",
     "collapsed": false,
     "input": [
      "from unittest import TestCase\n",
      "from bank import BankAccount\n",
      "\n",
      "class BankAccountTest(TestCase):\n",
      "    def setUp(self):\n",
      "        self.account = BankAccount()\n",
      "        self.account.deposit(300)\n",
      "\n",
      "    def test_deposit(self):\n",
      "        self.assertEquals(self.account.balance, 300)\n",
      "\n",
      "    def test_withdraw(self):\n",
      "        self.account.withdraw(100)\n",
      "        self.assertEquals(self.account.balance, 200)\n",
      "\n",
      "    def test_withdraw_raises_NotEnoughBalance(self):\n",
      "        with self.assertRaises(NotEnoughBalance):\n",
      "            self.account.withdraw(400)\n",
      "\n",
      "    def tearDown(self):\n",
      "        assert self.account.balance >= 0"
     ],
     "language": "python",
     "metadata": {},
     "outputs": [],
     "prompt_number": 127
    }
   ],
   "metadata": {}
  }
 ]
}