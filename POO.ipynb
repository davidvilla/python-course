{
 "metadata": {
  "name": "",
  "signature": "sha256:3363bcc205b9a8a1e7d275d341bdbe1391f4a7d55ebf674a3f7939689a363eb1"
 },
 "nbformat": 3,
 "nbformat_minor": 0,
 "worksheets": [
  {
   "cells": [
    {
     "cell_type": "markdown",
     "metadata": {},
     "source": [
      "# Programaci\u00f3n orientada a objetos\n",
      "\n",
      "El soporte de POO de Python es bastante completo, comparable a Java, C# o C++. El concepto esencial de \"objeto\" se refiere a la existencia de un estado persistente. Las funciones solo operan en relaci\u00f3n a sus par\u00e1metros para obtener un resultado y, por regla general, no tienen estado.\n",
      "\n",
      "Los objetos sin embargo tienen **atributos**, que son datos accesibles por los m\u00e9todos (funciones asociadas al objeto) entre invocaciones sucesivas durante la vida del objeto. Los objetos que tienen los mismo m\u00e9todos y los mismo atributos son **instancias de una misma clase**. Las clases se definen con la palabra reservada **class**: "
     ]
    },
    {
     "cell_type": "code",
     "collapsed": false,
     "input": [
      "class BankAccount(object):\n",
      "    def __init__(self):\n",
      "        self.balance = 0\n",
      "\n",
      "    def withdraw(self, amount):\n",
      "        self.balance -= amount\n",
      "        return self.balance\n",
      "\n",
      "    def deposit(self, amount):\n",
      "        self.balance += amount\n",
      "        return self.balance\n",
      "    \n",
      "# ejemplo extraido de \"python-practice-book\""
     ],
     "language": "python",
     "metadata": {},
     "outputs": [],
     "prompt_number": 3
    },
    {
     "cell_type": "markdown",
     "metadata": {},
     "source": [
      "En este ejemplo:\n",
      "* Todos los m\u00e9todos tienen un primer par\u00e1metro llamado **self** que representa a la instancia.\n",
      "* El m\u00e9todo __init__ es un m\u00e9todo especial que se utiliza para inicializar los atributos (no es estrictamente un constructor).\n",
      "* La clase BankAccount hereda de **object** porque es una clase del [nuevo estilo](https://www.python.org/doc/newstyle/) (en python-3 todas lo son)."
     ]
    },
    {
     "cell_type": "markdown",
     "metadata": {},
     "source": [
      "A continuaci\u00f3n crearemos 2 instancias de esta clase:"
     ]
    },
    {
     "cell_type": "code",
     "collapsed": false,
     "input": [
      "account_a = BankAccount()\n",
      "account_b = BankAccount()\n",
      "\n",
      "account_a.balance"
     ],
     "language": "python",
     "metadata": {},
     "outputs": [
      {
       "metadata": {},
       "output_type": "pyout",
       "prompt_number": 12,
       "text": [
        "0"
       ]
      }
     ],
     "prompt_number": 12
    },
    {
     "cell_type": "code",
     "collapsed": false,
     "input": [
      "account_a.deposit(200)"
     ],
     "language": "python",
     "metadata": {},
     "outputs": [
      {
       "metadata": {},
       "output_type": "pyout",
       "prompt_number": 13,
       "text": [
        "200"
       ]
      }
     ],
     "prompt_number": 13
    },
    {
     "cell_type": "code",
     "collapsed": false,
     "input": [
      "account_a.deposit(100)"
     ],
     "language": "python",
     "metadata": {},
     "outputs": [
      {
       "metadata": {},
       "output_type": "pyout",
       "prompt_number": 14,
       "text": [
        "300"
       ]
      }
     ],
     "prompt_number": 14
    },
    {
     "cell_type": "markdown",
     "metadata": {},
     "source": [
      "* **[E]**: A\u00f1ade un m\u00e9todo **transfer_to(self, account, amount)**\n",
      "* **[E]**: Modifica el m\u00e9todo **withdraw()** para que eleve una excepci\u00f3n si se intenta retirar una cantidad mayor a la que hay en cuenta."
     ]
    },
    {
     "cell_type": "markdown",
     "metadata": {},
     "source": [
      "## El atributo **\\_\\_dict\\_\\_**\n",
      "\n",
      "Es un diccionario que contiene todos los atributos y m\u00e9todos de la clase:"
     ]
    },
    {
     "cell_type": "code",
     "collapsed": false,
     "input": [
      "BankAccount.__dict__"
     ],
     "language": "python",
     "metadata": {},
     "outputs": [
      {
       "metadata": {},
       "output_type": "pyout",
       "prompt_number": 39,
       "text": [
        "<dictproxy {'__dict__': <attribute '__dict__' of 'BankAccount' objects>,\n",
        " '__doc__': None,\n",
        " '__init__': <function __main__.__init__>,\n",
        " '__module__': '__main__',\n",
        " '__weakref__': <attribute '__weakref__' of 'BankAccount' objects>,\n",
        " 'deposit': <function __main__.deposit>,\n",
        " 'withdraw': <function __main__.withdraw>}>"
       ]
      }
     ],
     "prompt_number": 39
    },
    {
     "cell_type": "markdown",
     "metadata": {},
     "source": [
      "Si se aplica a una instancia, contiene los atributos:"
     ]
    },
    {
     "cell_type": "code",
     "collapsed": false,
     "input": [
      "account_a.__dict__"
     ],
     "language": "python",
     "metadata": {},
     "outputs": [
      {
       "metadata": {},
       "output_type": "pyout",
       "prompt_number": 38,
       "text": [
        "{'balance': 300}"
       ]
      }
     ],
     "prompt_number": 38
    },
    {
     "cell_type": "markdown",
     "metadata": {},
     "source": [
      "## M\u00e9todos de clase\n",
      "\n",
      "M\u00e9todos que toman la clase como estado. No requieren una instancia."
     ]
    },
    {
     "cell_type": "code",
     "collapsed": false,
     "input": [
      "class A(object):\n",
      "    _size = 20\n",
      "    \n",
      "    @classmethod\n",
      "    def size(cls):\n",
      "        return cls._size\n",
      "\n",
      "A.size()"
     ],
     "language": "python",
     "metadata": {},
     "outputs": [
      {
       "metadata": {},
       "output_type": "pyout",
       "prompt_number": 50,
       "text": [
        "20"
       ]
      }
     ],
     "prompt_number": 50
    },
    {
     "cell_type": "code",
     "collapsed": false,
     "input": [
      "A().size()"
     ],
     "language": "python",
     "metadata": {},
     "outputs": [
      {
       "metadata": {},
       "output_type": "pyout",
       "prompt_number": 51,
       "text": [
        "20"
       ]
      }
     ],
     "prompt_number": 51
    },
    {
     "cell_type": "markdown",
     "metadata": {},
     "source": [
      "## M\u00e9todos \"est\u00e1ticos\"\n",
      "\n",
      "Son simples funciones vinculadas al \u00e1mbito de la clase."
     ]
    },
    {
     "cell_type": "code",
     "collapsed": false,
     "input": [
      "class A(object):\n",
      "    @staticmethod\n",
      "    def show():\n",
      "        return \"static\"\n",
      "    \n",
      "A().show()"
     ],
     "language": "python",
     "metadata": {},
     "outputs": [
      {
       "metadata": {},
       "output_type": "pyout",
       "prompt_number": 55,
       "text": [
        "'static'"
       ]
      }
     ],
     "prompt_number": 55
    },
    {
     "cell_type": "markdown",
     "metadata": {},
     "source": [
      "## Herencia\n",
      "(como medio de espacializaci\u00f3n)\n",
      "\n",
      "La herencia de implementaci\u00f3n permite crear clases que heredan el comportamiento de otra clase, pero aplicando un comportamiento especial en alg\u00fan aspecto:"
     ]
    },
    {
     "cell_type": "code",
     "collapsed": false,
     "input": [
      "class MinimumBalanceException(Exception):\n",
      "    pass\n",
      "\n",
      "class MinimumBalanceAccount(BankAccount):\n",
      "    def __init__(self, minimum_balance):\n",
      "        super(MinimumBalanceAccount, self).__init__()\n",
      "        self.minimum_balance = minimum_balance\n",
      "\n",
      "    def withdraw(self, amount):\n",
      "        if self.balance - amount < self.minimum_balance:\n",
      "            raise MinimumBalanceException(self.balance - amount)\n",
      "            \n",
      "        BankAccount.withdraw(self, amount)\n",
      "        \n",
      "minimum_account = MinimumBalanceAccount(100)\n",
      "minimum_account.deposit(400)\n",
      "minimum_account.withdraw(350)"
     ],
     "language": "python",
     "metadata": {},
     "outputs": [
      {
       "ename": "MinimumBalanceException",
       "evalue": "50",
       "output_type": "pyerr",
       "traceback": [
        "\u001b[0;31m---------------------------------------------------------------------------\u001b[0m\n\u001b[0;31mMinimumBalanceException\u001b[0m                   Traceback (most recent call last)",
        "\u001b[0;32m<ipython-input-21-3349631294df>\u001b[0m in \u001b[0;36m<module>\u001b[0;34m()\u001b[0m\n\u001b[1;32m     15\u001b[0m \u001b[0mminimum_account\u001b[0m \u001b[0;34m=\u001b[0m \u001b[0mMinimumBalanceAccount\u001b[0m\u001b[0;34m(\u001b[0m\u001b[0;36m100\u001b[0m\u001b[0;34m)\u001b[0m\u001b[0;34m\u001b[0m\u001b[0m\n\u001b[1;32m     16\u001b[0m \u001b[0mminimum_account\u001b[0m\u001b[0;34m.\u001b[0m\u001b[0mdeposit\u001b[0m\u001b[0;34m(\u001b[0m\u001b[0;36m400\u001b[0m\u001b[0;34m)\u001b[0m\u001b[0;34m\u001b[0m\u001b[0m\n\u001b[0;32m---> 17\u001b[0;31m \u001b[0mminimum_account\u001b[0m\u001b[0;34m.\u001b[0m\u001b[0mwithdraw\u001b[0m\u001b[0;34m(\u001b[0m\u001b[0;36m350\u001b[0m\u001b[0;34m)\u001b[0m\u001b[0;34m\u001b[0m\u001b[0m\n\u001b[0m",
        "\u001b[0;32m<ipython-input-21-3349631294df>\u001b[0m in \u001b[0;36mwithdraw\u001b[0;34m(self, amount)\u001b[0m\n\u001b[1;32m      9\u001b[0m     \u001b[0;32mdef\u001b[0m \u001b[0mwithdraw\u001b[0m\u001b[0;34m(\u001b[0m\u001b[0mself\u001b[0m\u001b[0;34m,\u001b[0m \u001b[0mamount\u001b[0m\u001b[0;34m)\u001b[0m\u001b[0;34m:\u001b[0m\u001b[0;34m\u001b[0m\u001b[0m\n\u001b[1;32m     10\u001b[0m         \u001b[0;32mif\u001b[0m \u001b[0mself\u001b[0m\u001b[0;34m.\u001b[0m\u001b[0mbalance\u001b[0m \u001b[0;34m-\u001b[0m \u001b[0mamount\u001b[0m \u001b[0;34m<\u001b[0m \u001b[0mself\u001b[0m\u001b[0;34m.\u001b[0m\u001b[0mminimum_balance\u001b[0m\u001b[0;34m:\u001b[0m\u001b[0;34m\u001b[0m\u001b[0m\n\u001b[0;32m---> 11\u001b[0;31m             \u001b[0;32mraise\u001b[0m \u001b[0mMinimumBalanceException\u001b[0m\u001b[0;34m(\u001b[0m\u001b[0mself\u001b[0m\u001b[0;34m.\u001b[0m\u001b[0mbalance\u001b[0m \u001b[0;34m-\u001b[0m \u001b[0mamount\u001b[0m\u001b[0;34m)\u001b[0m\u001b[0;34m\u001b[0m\u001b[0m\n\u001b[0m\u001b[1;32m     12\u001b[0m \u001b[0;34m\u001b[0m\u001b[0m\n\u001b[1;32m     13\u001b[0m         \u001b[0mBankAccount\u001b[0m\u001b[0;34m.\u001b[0m\u001b[0mwithdraw\u001b[0m\u001b[0;34m(\u001b[0m\u001b[0mself\u001b[0m\u001b[0;34m,\u001b[0m \u001b[0mamount\u001b[0m\u001b[0;34m)\u001b[0m\u001b[0;34m\u001b[0m\u001b[0m\n",
        "\u001b[0;31mMinimumBalanceException\u001b[0m: 50"
       ]
      }
     ],
     "prompt_number": 21
    },
    {
     "cell_type": "markdown",
     "metadata": {},
     "source": [
      "## Informaci\u00f3n de tipo\n",
      "\n",
      "Tipo de un objeto:"
     ]
    },
    {
     "cell_type": "code",
     "collapsed": false,
     "input": [
      "type(account_a)"
     ],
     "language": "python",
     "metadata": {},
     "outputs": [
      {
       "metadata": {},
       "output_type": "pyout",
       "prompt_number": 23,
       "text": [
        "__main__.BankAccount"
       ]
      }
     ],
     "prompt_number": 23
    },
    {
     "cell_type": "code",
     "collapsed": false,
     "input": [
      "type(minimum_account)"
     ],
     "language": "python",
     "metadata": {},
     "outputs": [
      {
       "metadata": {},
       "output_type": "pyout",
       "prompt_number": 25,
       "text": [
        "__main__.MinimumBalanceAccount"
       ]
      }
     ],
     "prompt_number": 25
    },
    {
     "cell_type": "markdown",
     "metadata": {},
     "source": [
      "Pertenencia a una clase:"
     ]
    },
    {
     "cell_type": "code",
     "collapsed": false,
     "input": [
      "help(isinstance)"
     ],
     "language": "python",
     "metadata": {},
     "outputs": [
      {
       "output_type": "stream",
       "stream": "stdout",
       "text": [
        "Help on built-in function isinstance in module __builtin__:\n",
        "\n",
        "isinstance(...)\n",
        "    isinstance(object, class-or-type-or-tuple) -> bool\n",
        "    \n",
        "    Return whether an object is an instance of a class or of a subclass thereof.\n",
        "    With a type as second argument, return whether that is the object's type.\n",
        "    The form using a tuple, isinstance(x, (A, B, ...)), is a shortcut for\n",
        "    isinstance(x, A) or isinstance(x, B) or ... (etc.).\n",
        "\n"
       ]
      }
     ],
     "prompt_number": 29
    },
    {
     "cell_type": "code",
     "collapsed": false,
     "input": [
      "isinstance(account_a, BankAccount)"
     ],
     "language": "python",
     "metadata": {},
     "outputs": [
      {
       "metadata": {},
       "output_type": "pyout",
       "prompt_number": 28,
       "text": [
        "True"
       ]
      }
     ],
     "prompt_number": 28
    },
    {
     "cell_type": "code",
     "collapsed": false,
     "input": [
      "isinstance(account_a, MinimumBalanceAccount)"
     ],
     "language": "python",
     "metadata": {},
     "outputs": [
      {
       "metadata": {},
       "output_type": "pyout",
       "prompt_number": 30,
       "text": [
        "False"
       ]
      }
     ],
     "prompt_number": 30
    },
    {
     "cell_type": "markdown",
     "metadata": {},
     "source": [
      "Comprobaci\u00f3n de la jerarqu\u00eda:"
     ]
    },
    {
     "cell_type": "code",
     "collapsed": false,
     "input": [
      "help(issubclass)"
     ],
     "language": "python",
     "metadata": {},
     "outputs": [
      {
       "output_type": "stream",
       "stream": "stdout",
       "text": [
        "Help on built-in function issubclass in module __builtin__:\n",
        "\n",
        "issubclass(...)\n",
        "    issubclass(C, B) -> bool\n",
        "    \n",
        "    Return whether class C is a subclass (i.e., a derived class) of class B.\n",
        "    When using a tuple as the second argument issubclass(X, (A, B, ...)),\n",
        "    is a shortcut for issubclass(X, A) or issubclass(X, B) or ... (etc.).\n",
        "\n"
       ]
      }
     ],
     "prompt_number": 33
    },
    {
     "cell_type": "code",
     "collapsed": false,
     "input": [
      "issubclass(MinimumBalanceAccount, BankAccount)"
     ],
     "language": "python",
     "metadata": {},
     "outputs": [
      {
       "metadata": {},
       "output_type": "pyout",
       "prompt_number": 35,
       "text": [
        "True"
       ]
      }
     ],
     "prompt_number": 35
    },
    {
     "cell_type": "code",
     "collapsed": false,
     "input": [
      "issubclass(MinimumBalanceAccount, object)"
     ],
     "language": "python",
     "metadata": {},
     "outputs": [
      {
       "metadata": {},
       "output_type": "pyout",
       "prompt_number": 36,
       "text": [
        "True"
       ]
      }
     ],
     "prompt_number": 36
    },
    {
     "cell_type": "markdown",
     "metadata": {},
     "source": [
      "## De primera clase\n",
      "\n",
      "Tanto las clases como los m\u00e9todos son _ciudadanos de primera clase_, es decir, se pueden almacenar, pasar por par\u00e1metro o usar como valor de retorno:"
     ]
    },
    {
     "cell_type": "code",
     "collapsed": false,
     "input": [
      "f = account_a.deposit\n",
      "f(100)"
     ],
     "language": "python",
     "metadata": {},
     "outputs": [
      {
       "metadata": {},
       "output_type": "pyout",
       "prompt_number": 69,
       "text": [
        "400"
       ]
      }
     ],
     "prompt_number": 69
    },
    {
     "cell_type": "code",
     "collapsed": false,
     "input": [
      "BankAccount"
     ],
     "language": "python",
     "metadata": {},
     "outputs": [
      {
       "metadata": {},
       "output_type": "pyout",
       "prompt_number": 57,
       "text": [
        "__main__.BankAccount"
       ]
      }
     ],
     "prompt_number": 57
    },
    {
     "cell_type": "code",
     "collapsed": false,
     "input": [
      "class A(object):\n",
      "    pass\n",
      "\n",
      "class B(A):\n",
      "    pass\n",
      "\n",
      "def make(cls):\n",
      "    return cls()\n",
      "\n",
      "a = make(A)\n",
      "a"
     ],
     "language": "python",
     "metadata": {},
     "outputs": [
      {
       "metadata": {},
       "output_type": "pyout",
       "prompt_number": 70,
       "text": [
        "<__main__.A at 0x7fec903b9050>"
       ]
      }
     ],
     "prompt_number": 70
    },
    {
     "cell_type": "markdown",
     "metadata": {},
     "source": [
      "**type** es la clase de las clases, en decir, una metaclase. Concretamente es la superclase de todas las metaclases."
     ]
    },
    {
     "cell_type": "code",
     "collapsed": false,
     "input": [
      "type(A)"
     ],
     "language": "python",
     "metadata": {},
     "outputs": [
      {
       "metadata": {},
       "output_type": "pyout",
       "prompt_number": 71,
       "text": [
        "type"
       ]
      }
     ],
     "prompt_number": 71
    },
    {
     "cell_type": "code",
     "collapsed": false,
     "input": [
      "type(type)"
     ],
     "language": "python",
     "metadata": {},
     "outputs": [
      {
       "metadata": {},
       "output_type": "pyout",
       "prompt_number": 73,
       "text": [
        "type"
       ]
      }
     ],
     "prompt_number": 73
    },
    {
     "cell_type": "markdown",
     "metadata": {},
     "source": [
      "Creando una clase al vuelo con **type()**:"
     ]
    },
    {
     "cell_type": "code",
     "collapsed": false,
     "input": [
      "SomeClass = type(\"SomeClass\", (), {})\n",
      "some = SomeClass()\n",
      "some"
     ],
     "language": "python",
     "metadata": {},
     "outputs": [
      {
       "metadata": {},
       "output_type": "pyout",
       "prompt_number": 4,
       "text": [
        "<__main__.SomeClass at 0x7fe509914710>"
       ]
      }
     ],
     "prompt_number": 4
    },
    {
     "cell_type": "markdown",
     "metadata": {},
     "source": [
      "## Introspecci\u00f3n"
     ]
    },
    {
     "cell_type": "code",
     "collapsed": false,
     "input": [
      "B.__bases__"
     ],
     "language": "python",
     "metadata": {},
     "outputs": [
      {
       "metadata": {},
       "output_type": "pyout",
       "prompt_number": 62,
       "text": [
        "(__main__.A,)"
       ]
      }
     ],
     "prompt_number": 62
    },
    {
     "cell_type": "code",
     "collapsed": false,
     "input": [
      "A.__subclasses__()"
     ],
     "language": "python",
     "metadata": {},
     "outputs": [
      {
       "metadata": {},
       "output_type": "pyout",
       "prompt_number": 64,
       "text": [
        "[__main__.B]"
       ]
      }
     ],
     "prompt_number": 64
    },
    {
     "cell_type": "code",
     "collapsed": false,
     "input": [
      "B.mro()"
     ],
     "language": "python",
     "metadata": {},
     "outputs": [
      {
       "metadata": {},
       "output_type": "pyout",
       "prompt_number": 67,
       "text": [
        "[__main__.B, __main__.A, object]"
       ]
      }
     ],
     "prompt_number": 67
    },
    {
     "cell_type": "code",
     "collapsed": false,
     "input": [
      "some.__class__"
     ],
     "language": "python",
     "metadata": {},
     "outputs": [
      {
       "metadata": {},
       "output_type": "pyout",
       "prompt_number": 5,
       "text": [
        "__main__.SomeClass"
       ]
      }
     ],
     "prompt_number": 5
    }
   ],
   "metadata": {}
  }
 ]
}