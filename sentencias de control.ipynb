{
 "metadata": {
  "name": "",
  "signature": "sha256:38d5d85930c8a8be21453dc90f2f5d6f95ad27e411af972493c8f61b01c8e221"
 },
 "nbformat": 3,
 "nbformat_minor": 0,
 "worksheets": [
  {
   "cells": [
    {
     "cell_type": "markdown",
     "metadata": {},
     "source": [
      "# Sentencias de control\n",
      "\n",
      "## Condicionales\n",
      "\n",
      "La sentencia condicional por autonomasia es **if**. La sentencia **if** conlleva la evaluaci\u00f3n de una condici\u00f3n l\u00f3gica que implica una bifurcaci\u00f3n en el flujo de ejecuci\u00f3n del programa. Esto a su vez nos lleva a la definci\u00f3n de bloque. \n",
      "\n",
      "El bloque es un conjunto de sentencias que conceptualmente se ejecutar\u00e1n como una unidad  (asumeindo que no se produce un error que interrumpa la ejecuci\u00f3n). Por ejemplo, en el lenguaje C, los bloques se identifican como secuancias de sentencias entre llaves. El Python el bloque se define de una forma un tanto particular: la indentaci\u00f3n. Es decir, el nivel de indentaci\u00f3n determina qu\u00e9 instrucci\u00f3n son parte del mismo bloque."
     ]
    },
    {
     "cell_type": "code",
     "collapsed": false,
     "input": [
      "if 5 > 2:\n",
      "    print(\"1 sentencia 1\")\n",
      "    print(\"2 sentencia 2\")\n",
      "else:\n",
      "    print(\"3 imposible\")\n",
      "print(\"4 fin\")"
     ],
     "language": "python",
     "metadata": {},
     "outputs": [
      {
       "output_type": "stream",
       "stream": "stdout",
       "text": [
        "1 sentencia 1\n",
        "2 sentencia 2\n",
        "4 fin\n"
       ]
      }
     ],
     "prompt_number": 4
    },
    {
     "cell_type": "markdown",
     "metadata": {},
     "source": [
      "En este ejemplo se puede comporbar f\u00e1cilmente que las dos primeras invocaciones a **print** forman un bloque que se ejecuta cuando la condici\u00f3n se cumple, mientras que el tercero se ejecutar\u00eda en el caso contrario. La cuarta invocaci\u00f3n se ejecuta siempre porque est\u00e1 fuera del cuerpo del condicional (en el mismo nivel de indentaci\u00f3n). Tambi\u00e9n se puede comprobar que para crear un bloque se utilizar el car\u00e1cter dos-puntos (:).\n",
      "\n",
      "Por tanto:\n",
      "\n",
      "    En Python la indentaci\u00f3n no es una cuesti\u00f3n est\u00e9tica, sino que determina la organizaci\u00f3n del c\u00f3digo\n",
      "    \n",
      "Existe una combinaci\u00f3n de **else** + **if** llamada **elif** que permite ahorrar algo de c\u00f3digo y simplificar la sentencia."
     ]
    },
    {
     "cell_type": "markdown",
     "metadata": {},
     "source": [
      "## Operadores l\u00f3gicos y relacionales"
     ]
    },
    {
     "cell_type": "markdown",
     "metadata": {},
     "source": [
      "Est\u00e1n disponibles los habituales:\n",
      "\n",
      "* igual: **==**\n",
      "* mayor (igual) **>**, **>=**\n",
      "* menos (igual) **<**, **<=**\n",
      "* distinto: **!=**\n",
      "* negado (para valores l\u00f3gicos): **not**"
     ]
    },
    {
     "cell_type": "markdown",
     "metadata": {},
     "source": [
      "## **while**"
     ]
    },
    {
     "cell_type": "markdown",
     "metadata": {},
     "source": [
      "El bucle **while** es conceptualmente el m\u00e1s simple. Est\u00e1 compuesto por una condici\u00f3n l\u00f3gica y un bloque. Mientras la condici\u00f3n se cumpla el bloque se seguir\u00e1 ejecuando:"
     ]
    },
    {
     "cell_type": "code",
     "collapsed": false,
     "input": [
      "a = 3\n",
      "while a > 0:\n",
      "    print(\"sigue\")\n",
      "    a = a - 1"
     ],
     "language": "python",
     "metadata": {},
     "outputs": [
      {
       "output_type": "stream",
       "stream": "stdout",
       "text": [
        "sigue\n",
        "sigue\n",
        "sigue\n"
       ]
      }
     ],
     "prompt_number": 5
    },
    {
     "cell_type": "markdown",
     "metadata": {},
     "source": [
      "## for\n",
      "\n",
      "En los lenguajes modernos el bucle **for** ha cambiado respecto a los lenguajes cl\u00e1sico como C. Python utiliza la modaliza un **for** cuyo \u00fanico objetivo es iterar un contenedor. La variable de control va tomando cada uno de los valores almacenados en el contenedor en cada una de las iteraciones."
     ]
    },
    {
     "cell_type": "code",
     "collapsed": false,
     "input": [
      "fruits = ['orange', 'strawberry', 'pineapple']\n",
      "for fruit in fruits:\n",
      "    print(fruit)"
     ],
     "language": "python",
     "metadata": {},
     "outputs": [
      {
       "output_type": "stream",
       "stream": "stdout",
       "text": [
        "orange\n",
        "strawberry\n",
        "pineapple\n"
       ]
      }
     ],
     "prompt_number": 7
    },
    {
     "cell_type": "markdown",
     "metadata": {},
     "source": [
      "Esto es m\u00e1s \u00fatil que tener un contador para recorrrer el contenedor en la mayor\u00eda de los casos. Pero, para los casos en los que se requiera disponer del contador se puede utilizar la funci\u00f3n *+enumerate()**."
     ]
    },
    {
     "cell_type": "code",
     "collapsed": false,
     "input": [
      "fruits = ['orange', 'strawberry', 'pineapple']\n",
      "for index, fruit in enumerate(fruits):\n",
      "    print(index, fruit)"
     ],
     "language": "python",
     "metadata": {},
     "outputs": [
      {
       "output_type": "stream",
       "stream": "stdout",
       "text": [
        "(0, 'orange')\n",
        "(1, 'strawberry')\n",
        "(2, 'pineapple')\n"
       ]
      }
     ],
     "prompt_number": 8
    },
    {
     "cell_type": "markdown",
     "metadata": {},
     "source": [
      "El **for** de Python tambi\u00e9n dispone de las palabras reservadas **break** y **continue**, que tiene el comportamiento habitual en otros lenguajes."
     ]
    },
    {
     "cell_type": "markdown",
     "metadata": {},
     "source": [
      "Si se necesita un bucle **for** cuya variable de control toma valores entre dos dados (t\u00edpicamente entre 0 y n-1) se puede utilizar la funci\u00f3n **range**, que devuelve una lista de enteros:"
     ]
    },
    {
     "cell_type": "code",
     "collapsed": false,
     "input": [
      "for i in range(8):\n",
      "    print(i)"
     ],
     "language": "python",
     "metadata": {},
     "outputs": [
      {
       "output_type": "stream",
       "stream": "stdout",
       "text": [
        "0\n",
        "1\n",
        "2\n",
        "3\n",
        "4\n",
        "5\n",
        "6\n",
        "7\n"
       ]
      }
     ],
     "prompt_number": 1
    }
   ],
   "metadata": {}
  }
 ]
}