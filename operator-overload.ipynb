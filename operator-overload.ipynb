{
 "metadata": {
  "name": "",
  "signature": "sha256:72c374b9e3182bcd795fe4b3613b90376da5dcbc5617717f97cec358b98c37b9"
 },
 "nbformat": 3,
 "nbformat_minor": 0,
 "worksheets": [
  {
   "cells": [
    {
     "cell_type": "markdown",
     "metadata": {},
     "source": [
      "## Sobrecarga de operadores\n",
      "\n",
      "Los [m\u00e9todos especiales](https://docs.python.org/2/reference/datamodel.html) (no todos) son los siguientes:\n",
      "\n",
      "* \\_\\_new\\_\\_ - al crear una nueva instancia.\n",
      "* \\_\\_init\\_\\_ - justo despu\u00e9s de crear la instancia.\n",
      "* \\_\\_del\\_\\_ - justo antes de destruir la instancia.\n",
      "* \\_\\_repr\\_\\_ - invocado por repr() para representar la instancia.\n",
      "* \\_\\_str\\_\\_ - invocado por str() para convertir la instancia a cadena.\n",
      "* \\_\\_lt\\_\\_ - al utilizar el operador \"<\"\n",
      "* \\_\\_le\\_\\_ - \"<=\"\n",
      "* \\_\\_eq\\_\\_ - \"==\"\n",
      "* \\_\\_ne\\_\\_ - \"!=\"\n",
      "* \\_\\_gt\\_\\_ - \">\"\n",
      "* \\_\\_ge\\_\\_ - \">=\"\n",
      "* \\_\\_cmp\\_\\_ - para comparar la instancia con otro objeto. Retorna negativo, 0 o positivo se forma similar al strcmp() de C.\n",
      "* \\_\\_hash\\_\\_ - invocador por hash() para obtener un valor de hashing para la instancia.\n",
      "* \\_\\_nonzero\\_\\_ - invocado cuando se intenta convertir la instancia a un valor l\u00f3gico.\n",
      "* \\_\\_unicode\\_\\_ - invocado por unicode() para convertir la instancia en una cadena unicode.\n",
      "* \\_\\_getattr\\_\\_(key) - para obtener un atributo de la instancia (si no existe)\n",
      "* \\_\\_setattr\\_\\_(key, value) - para dar valor a un atributo.\n",
      "* \\_\\_delattr\\_\\_ - para destruir un atributo.\n",
      "* \\_\\_getattribute\\_\\_(key, value) - para obtener un atributo de la instancia (aunque exista).https://docs.python.org/2/reference/datamodel.html\n",
      "* \\_\\_call\\_\\_ - al invocar la instancia (al usarla como una funci\u00f3n).\n",
      "* \\_\\_len\\_\\_ - al usar len() para obtener la cantidad de elementos de un contenedor.\n",
      "* \\_\\_getitem\\_\\_(key) - al indexar la instancia para acceso, con y = instancia[x]\n",
      "* \\_\\_setitem\\_\\_(key, value) - al indexar  la instancia para modificar, con instancia[x] = y\n",
      "* \\_\\_delitem\\_\\_ - al borrar un elemento indexado.\n",
      "* \\_\\_iter\\_\\_ - para devolver un iterador.\n",
      "* \\_\\_reversed\\_\\_ -  al invocar reversed() para obtener un iterador desde el final.\n",
      "* \\_\\_contains\\_\\_ - al utilizar el operador \"in\" para comprobar si un objeto est\u00e1 en el contenedor.\n",
      "* \\_\\_getslice\\_\\_ - para aplicar un slice \"x:y\"\n",
      "* \\_\\_add\\_\\_ - al aplicar el operador de suma \"+\"\n",
      "* \\_\\_sub\\_\\_ - \"-\"\n",
      "* \\_\\_mul\\_\\_ - \"*\"\n",
      "* \\_\\_mod\\_\\_ - \"%\"\n",
      "* \\_\\_pow\\_\\_ - \"\\*\\*\"\n",
      "* \\_\\_lshift\\_\\_ - \"<<\"\n",
      "* \\_\\_rshift\\_\\_ - \">>\"\n",
      "* \\_\\_and\\_\\_ - \"&\"\n",
      "* \\_\\_or\\_\\_ - \"|\"\n",
      "* \\_\\_xor\\_\\_ - \"^\"\n",
      "* \\_\\_iadd\\_\\_ - \"+=\" y todas las correspondientes para los operadores anteriores: isub, imul, ...\n",
      "* \\_\\_radd\\_\\_ - En una expresi\u00f3n binaria (a + b) si el operador + (\\_\\_add\\_\\_) no est\u00e1 definido para \"a\" se busca el \\_\\_radd\\_\\_ para \"b\". Todos los operadores anteriores tienen esta modalidad: rsub, rmul, ...\n",
      "* \\_\\_neg\\_\\_ - \"-\" unario\n",
      "* \\_\\_pos\\_\\_ - \"+\" unario\n",
      "* \\_\\_abs\\_\\_ - al invocar abs()\n",
      "* \\_\\_invert\\_\\_ - \"~\""
     ]
    },
    {
     "cell_type": "markdown",
     "metadata": {},
     "source": [
      "## Una clase **Vector**\n",
      "\n",
      "La implementaci\u00f3n de los operadores '+' y '\\*' de las listas Python difiere mucho de lo que podr\u00edamos esperar desde el punto de vista matem\u00e9tico: "
     ]
    },
    {
     "cell_type": "code",
     "collapsed": false,
     "input": [
      "a = [1, 2, 3]\n",
      "print(a + [4, 5, 6])\n",
      "print(a * 2)"
     ],
     "language": "python",
     "metadata": {},
     "outputs": [
      {
       "output_type": "stream",
       "stream": "stdout",
       "text": [
        "[1, 2, 3, 4, 5, 6]\n",
        "[1, 2, 3, 1, 2, 3]\n"
       ]
      }
     ],
     "prompt_number": 16
    },
    {
     "cell_type": "markdown",
     "metadata": {},
     "source": [
      "Crearemos una clase Vector (como una especializaci\u00f3n de **list**) para que estar operaciones se comporten como lo har\u00edan en un vector."
     ]
    },
    {
     "cell_type": "code",
     "collapsed": false,
     "input": [
      "import itertools\n",
      "\n",
      "class NotMatchingShapes(Exception):\n",
      "    pass\n",
      "\n",
      "class Vector(list):   \n",
      "    def __add__(self, other):\n",
      "        if len(self) != len(other):\n",
      "            raise NotMatchingShapes\n",
      "            \n",
      "        return Vector([x+y for x,y in zip(self, other)])\n",
      "\n",
      "v1 = Vector([1, 2, 3])\n",
      "v1 + [4, 5, 6]"
     ],
     "language": "python",
     "metadata": {},
     "outputs": [
      {
       "metadata": {},
       "output_type": "pyout",
       "prompt_number": 1,
       "text": [
        "[5, 7, 9]"
       ]
      }
     ],
     "prompt_number": 1
    },
    {
     "cell_type": "code",
     "collapsed": false,
     "input": [
      "class Vector(list):   \n",
      "    def __add__(self, other):\n",
      "        if len(self) != len(other):\n",
      "            raise NotMatchingShapes\n",
      "            \n",
      "        return Vector([x+y for x,y in zip(self, other)])\n",
      "\n",
      "    def __mul__(self, other):\n",
      "        if isinstance(other, Vector):\n",
      "            return Vector([x*y for x,y in zip(self, other)])\n",
      "        \n",
      "        return Vector([x*other for x in self])\n",
      "    \n",
      "    def __repr__(self):\n",
      "        return \"Vector({})\".format(list.__repr__(self))\n",
      "    \n",
      "v1 = Vector([1, 2, 3])\n",
      "print(v1 * 3)\n",
      "print(v1 * Vector([4, 5 ,6]))"
     ],
     "language": "python",
     "metadata": {},
     "outputs": [
      {
       "output_type": "stream",
       "stream": "stdout",
       "text": [
        "Vector([3, 6, 9])\n",
        "Vector([4, 10, 18])\n"
       ]
      }
     ],
     "prompt_number": 14
    }
   ],
   "metadata": {}
  }
 ]
}