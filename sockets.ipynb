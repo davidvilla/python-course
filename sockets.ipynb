{
 "metadata": {
  "name": "",
  "signature": "sha256:4c841a0fa1e84fdaf791b2539164bf1069c66776c110fdba20d95dc910261bb1"
 },
 "nbformat": 3,
 "nbformat_minor": 0,
 "worksheets": [
  {
   "cells": [
    {
     "cell_type": "markdown",
     "metadata": {},
     "source": [
      "## La clase `socket`\n",
      "\n",
      "Las utilizdades b\u00e1sicas para comunicaciones est\u00e1n en el m\u00f3dulo `socket`. La utiler\u00eda principal es la clase `socket`:"
     ]
    },
    {
     "cell_type": "code",
     "collapsed": false,
     "input": [
      "import socket\n",
      "\n",
      "s = socket.socket(socket.AF_INET, socket.SOCK_STREAM)\n",
      "s.connect(('www.deimos-space.com', 80))\n",
      "s.send('GET http://www.deimos-space.com/\\n')\n",
      "page = s.recv(1024)\n",
      "s.close()\n",
      "\n",
      "print(page)"
     ],
     "language": "python",
     "metadata": {},
     "outputs": [
      {
       "output_type": "stream",
       "stream": "stdout",
       "text": [
        "\n",
        "<!DOCTYPE html PUBLIC \"-//W3C//DTD XHTML 1.0 Transitional//EN\" \"http://www.w3.org/TR/xhtml1/DTD/xhtml1-transitional.dtd\">\n",
        "\n",
        "<html xmlns=\"http://www.w3.org/1999/xhtml\">\n",
        "<head>\n",
        "\t<title>\n",
        "\t\tElecnor Deimos: Bienvenida\t</title>\n",
        "\t\n",
        "\t<meta http-equiv=\"content-type\" content=\"text/html\" ; charset=\"utf-8\">\n",
        "\t<link rel=\"shortcut icon\" type=\"image/x-icon\" href=\"/images/favicon.ico\"/>\n",
        "\n",
        "\t<link rel=\"stylesheet\" type=\"text/css\" href=\"http://www.deimos-space.com/css/style.css+sprite_style.css+jquery.countdown.css.pagespeed.cc.kUmeVF3fw4.css\"/>\n",
        "\t\n",
        "\n",
        "\t<!--fancybox-->\n",
        "    \t<!--[if lt IE 7]>\n",
        "       \t<script type=\"text/javascript\" src=\"/js/unitpngfix.js\"></script>\n",
        "    \t<![endif]-->\n",
        "\t\n",
        "\t<link rel=\"stylesheet\" type=\"text/css\" href=\"/fancybox/jquery.fancybox-1.3.0.css\" media=\"screen\"/>\n",
        "\t<link rel=\"stylesheet\" type=\"text/css\" href=\"/css/bandas_home.css\">\t<script type=\"text/javascript\" src=\"/js/jquery-1.4.1.min.js\"></script>\n",
        "\t<script type=\"text/javascript\" src=\"/fancybox/jquery.mousewheel-3.0.2.pack.js\"></script>\n",
        "\t<script type=\"text/javascri\n"
       ]
      }
     ],
     "prompt_number": 12
    },
    {
     "cell_type": "markdown",
     "metadata": {},
     "source": [
      "El repositorio https://bitbucket.org/arco_group/upper contiene ejemplos de clientes y servidores muy sencillos de TCP y UDP."
     ]
    }
   ],
   "metadata": {}
  }
 ]
}