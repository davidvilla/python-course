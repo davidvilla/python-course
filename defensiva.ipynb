{
 "metadata": {
  "name": "",
  "signature": "sha256:3687402e24defb57315976effee8792ef7ed778a580c6beb1a8b0d5418ac48f6"
 },
 "nbformat": 3,
 "nbformat_minor": 0,
 "worksheets": [
  {
   "cells": [
    {
     "cell_type": "markdown",
     "metadata": {
      "slideshow": {
       "slide_type": "slide"
      }
     },
     "source": [
      "# Programaci\u00f3n defensiva\n",
      "\n",
      "Es una t\u00e9cnica que trata de acotar todas las situaciones an\u00f3malas. La m\u00e1s habitual es la validaci\u00f3n de par\u00e1metros:"
     ]
    },
    {
     "cell_type": "code",
     "collapsed": false,
     "input": [
      "def sqrt(x):\n",
      "    assert x > 0, \"error: valor negativo\"\n",
      "    pass\n",
      "    \n",
      "sqrt(-2)"
     ],
     "language": "python",
     "metadata": {},
     "outputs": [
      {
       "ename": "AssertionError",
       "evalue": "error: valor negativo",
       "output_type": "pyerr",
       "traceback": [
        "\u001b[0;31m---------------------------------------------------------------------------\u001b[0m\n\u001b[0;31mAssertionError\u001b[0m                            Traceback (most recent call last)",
        "\u001b[0;32m<ipython-input-6-91bbf0c1a20c>\u001b[0m in \u001b[0;36m<module>\u001b[0;34m()\u001b[0m\n\u001b[1;32m      3\u001b[0m     \u001b[0;32mpass\u001b[0m\u001b[0;34m\u001b[0m\u001b[0m\n\u001b[1;32m      4\u001b[0m \u001b[0;34m\u001b[0m\u001b[0m\n\u001b[0;32m----> 5\u001b[0;31m \u001b[0msqrt\u001b[0m\u001b[0;34m(\u001b[0m\u001b[0;34m-\u001b[0m\u001b[0;36m2\u001b[0m\u001b[0;34m)\u001b[0m\u001b[0;34m\u001b[0m\u001b[0m\n\u001b[0m",
        "\u001b[0;32m<ipython-input-6-91bbf0c1a20c>\u001b[0m in \u001b[0;36msqrt\u001b[0;34m(x)\u001b[0m\n\u001b[1;32m      1\u001b[0m \u001b[0;32mdef\u001b[0m \u001b[0msqrt\u001b[0m\u001b[0;34m(\u001b[0m\u001b[0mx\u001b[0m\u001b[0;34m)\u001b[0m\u001b[0;34m:\u001b[0m\u001b[0;34m\u001b[0m\u001b[0m\n\u001b[0;32m----> 2\u001b[0;31m     \u001b[0;32massert\u001b[0m \u001b[0mx\u001b[0m \u001b[0;34m>\u001b[0m \u001b[0;36m0\u001b[0m\u001b[0;34m,\u001b[0m \u001b[0;34m\"error: valor negativo\"\u001b[0m\u001b[0;34m\u001b[0m\u001b[0m\n\u001b[0m\u001b[1;32m      3\u001b[0m     \u001b[0;32mpass\u001b[0m\u001b[0;34m\u001b[0m\u001b[0m\n\u001b[1;32m      4\u001b[0m \u001b[0;34m\u001b[0m\u001b[0m\n\u001b[1;32m      5\u001b[0m \u001b[0msqrt\u001b[0m\u001b[0;34m(\u001b[0m\u001b[0;34m-\u001b[0m\u001b[0;36m2\u001b[0m\u001b[0;34m)\u001b[0m\u001b[0;34m\u001b[0m\u001b[0m\n",
        "\u001b[0;31mAssertionError\u001b[0m: error: valor negativo"
       ]
      }
     ],
     "prompt_number": 6
    },
    {
     "cell_type": "markdown",
     "metadata": {},
     "source": [
      "Pero se puede utilizar para muchas otras cosas:\n",
      "* Comprobaci\u00f3n de tipos\n",
      "* Precondiciones y postcondiciones\n",
      "* Control de invariantes y _sanity checks_"
     ]
    },
    {
     "cell_type": "markdown",
     "metadata": {},
     "source": [
      "## Pruebas autom\u00e1ticas\n",
      "\n",
      "La funci\u00f3n **assert()** permite hacer pruebas autom\u00e1ticas rudimentarias:"
     ]
    },
    {
     "cell_type": "code",
     "collapsed": false,
     "input": [
      "assert(abs(3) == 3)\n",
      "assert(abs(-9) == 9)"
     ],
     "language": "python",
     "metadata": {},
     "outputs": [],
     "prompt_number": 5
    },
    {
     "cell_type": "markdown",
     "metadata": {},
     "source": [
      "Cuando escribamos una funci\u00f3n o m\u00e9todo debemos probar los casos t\u00edpicos y los valores l\u00edmite para comprobar que se comporta seg\u00fan lo esperado. En pr\u00f3ximas sesiones veremos c\u00f3mo crear aut\u00e9nticos tests unitarios y c\u00f3mo ejecutarlos con facilidad."
     ]
    },
    {
     "cell_type": "markdown",
     "metadata": {},
     "source": [
      "Para hacer comprobaciones en funciones que devuelven flotantes, debemos comprobar la diferencia con el error admitido."
     ]
    },
    {
     "cell_type": "code",
     "collapsed": false,
     "input": [
      "import math\n",
      "assert(abs(math.sin(1) - 0.84) <= 0.01)"
     ],
     "language": "python",
     "metadata": {},
     "outputs": [],
     "prompt_number": 11
    },
    {
     "cell_type": "markdown",
     "metadata": {},
     "source": [
      "Para comprobar que una instrucci\u00f3n eleva una excepci\u00f3n se puede generar un error de aserci\u00f3n de no producirse:"
     ]
    },
    {
     "cell_type": "code",
     "collapsed": false,
     "input": [
      "try:\n",
      "    math.sqrt(-2)\n",
      "    raise AssertException(\"Exception ValueError not raised\")\n",
      "except ValueError:\n",
      "    pass"
     ],
     "language": "python",
     "metadata": {},
     "outputs": [],
     "prompt_number": 10
    },
    {
     "cell_type": "markdown",
     "metadata": {},
     "source": [
      "Este tipo de pruebas puede ser suficiente para pruebas muy sencillas, pero para pruebas unitarias completas y bien organizadas se aconseja utilizar el m\u00f3dulo **unittest**."
     ]
    }
   ],
   "metadata": {}
  }
 ]
}