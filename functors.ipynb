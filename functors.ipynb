{
 "metadata": {
  "name": "",
  "signature": "sha256:585a41454b87af8771b3088e739c5cc4c9e2b6e9155753bed09666780eff5799"
 },
 "nbformat": 3,
 "nbformat_minor": 0,
 "worksheets": [
  {
   "cells": [
    {
     "cell_type": "markdown",
     "metadata": {},
     "source": [
      "## Functors\n",
      "\n",
      "Un _functor_ (function object) es una instancia que puede ser invocada. Esto es gracias al m\u00e9todo especial `__call__`:"
     ]
    },
    {
     "cell_type": "code",
     "collapsed": false,
     "input": [
      "class Mapper(object):\n",
      "    def __init__(self, func):\n",
      "        self.f = func\n",
      "        \n",
      "    def __call__(self, data):\n",
      "        return map(self.f, data)\n",
      "    \n",
      "square = Mapper(lambda x:x**2)\n",
      "square(range(6))"
     ],
     "language": "python",
     "metadata": {},
     "outputs": [
      {
       "metadata": {},
       "output_type": "pyout",
       "prompt_number": 3,
       "text": [
        "[0, 1, 4, 9, 16, 25]"
       ]
      }
     ],
     "prompt_number": 3
    },
    {
     "cell_type": "markdown",
     "metadata": {},
     "source": [
      "Un decorador por medio de un functor:"
     ]
    },
    {
     "cell_type": "code",
     "collapsed": false,
     "input": [
      "class trace(object):\n",
      "    def __init__(self, func):\n",
      "        self.func = func\n",
      "        \n",
      "    def __call__(self, *args, **kargs):\n",
      "        print(\"-- before calling to {}\".format(self.func))\n",
      "        retval = self.func(*args, **kargs)\n",
      "        print(\"-- after calling to {}\".format(self.func))\n",
      "\n",
      "@trace\n",
      "def bob_say(what):\n",
      "    print(\"Bob says '{}'\".format(what))\n",
      "    \n",
      "bob_say(\"hello\")"
     ],
     "language": "python",
     "metadata": {},
     "outputs": [
      {
       "output_type": "stream",
       "stream": "stdout",
       "text": [
        "-- before calling to <function bob_say at 0x7f9b886d0938>\n",
        "Bob says 'hello'\n",
        "-- after calling to <function bob_say at 0x7f9b886d0938>\n"
       ]
      }
     ],
     "prompt_number": 8
    }
   ],
   "metadata": {}
  }
 ]
}