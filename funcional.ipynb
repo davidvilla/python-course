{
 "metadata": {
  "name": "",
  "signature": "sha256:aad62aa45fc227f8230ddf84d7a6e29835209e86c40d95972176674affdef6ae"
 },
 "nbformat": 3,
 "nbformat_minor": 0,
 "worksheets": [
  {
   "cells": [
    {
     "cell_type": "markdown",
     "metadata": {},
     "source": [
      "# Herramientas de programaci\u00f3n funcional\n",
      "\n",
      "Python proporciona las herramientas b\u00e1sicas de programaci\u00f3n funcional: funciones an\u00f3nimas, map, reduce, filter, closures, etc. Sin embargo, no hace falta aplicar estrictamente el paradigma funcional para sacar partido de estas car\u00e1cteristicas."
     ]
    },
    {
     "cell_type": "markdown",
     "metadata": {},
     "source": [
      "## Funciones an\u00f3nimas\n",
      "\n",
      "Son funciones sin nombres (obviamente). Se crean con la palabra reservada **lambda** y permite crear un _objeto invocable_ temporal, es decir, no exist\u00eda antes y no existir\u00e1 una vez acabada la invocaci\u00f3n. Requiere una lista de argumentos (que puede ser vacia) y un cuerpo (sin **return**)."
     ]
    },
    {
     "cell_type": "code",
     "collapsed": false,
     "input": [
      "(lambda x: x ** 2)(8)"
     ],
     "language": "python",
     "metadata": {},
     "outputs": [
      {
       "metadata": {},
       "output_type": "pyout",
       "prompt_number": 27,
       "text": [
        "64"
       ]
      }
     ],
     "prompt_number": 27
    },
    {
     "cell_type": "markdown",
     "metadata": {},
     "source": [
      "Aunque en la mayor\u00eda de los casos se utilice como un argumento para otra funci\u00f3n, tambi\u00e9n puede ser almacenada, comom cualquier objeto."
     ]
    },
    {
     "cell_type": "code",
     "collapsed": false,
     "input": [
      "f = lambda x: x ** 2\n",
      "f(7)"
     ],
     "language": "python",
     "metadata": {},
     "outputs": [
      {
       "metadata": {},
       "output_type": "pyout",
       "prompt_number": 28,
       "text": [
        "49"
       ]
      }
     ],
     "prompt_number": 28
    },
    {
     "cell_type": "code",
     "collapsed": false,
     "input": [
      "g = lambda:7\n",
      "print(g)\n",
      "print(g())"
     ],
     "language": "python",
     "metadata": {},
     "outputs": [
      {
       "output_type": "stream",
       "stream": "stdout",
       "text": [
        "<function <lambda> at 0x7fdcd10aa8c0>\n",
        "7\n"
       ]
      }
     ],
     "prompt_number": 29
    },
    {
     "cell_type": "markdown",
     "metadata": {},
     "source": [
      "## map()\n",
      "\n",
      "Dados una funci\u00f3n y un _iterable_, la funci\u00f3n **map()** aplica la funci\u00f3n a cada elemento del iterable y crea una lista."
     ]
    },
    {
     "cell_type": "code",
     "collapsed": false,
     "input": [
      "help(map)"
     ],
     "language": "python",
     "metadata": {},
     "outputs": [
      {
       "output_type": "stream",
       "stream": "stdout",
       "text": [
        "Help on built-in function map in module __builtin__:\n",
        "\n",
        "map(...)\n",
        "    map(function, sequence[, sequence, ...]) -> list\n",
        "    \n",
        "    Return a list of the results of applying the function to the items of\n",
        "    the argument sequence(s).  If more than one sequence is given, the\n",
        "    function is called with an argument list consisting of the corresponding\n",
        "    item of each sequence, substituting None for missing values when not all\n",
        "    sequences have the same length.  If the function is None, return a list of\n",
        "    the items of the sequence (or a list of tuples if more than one sequence).\n",
        "\n"
       ]
      }
     ],
     "prompt_number": 30
    },
    {
     "cell_type": "code",
     "collapsed": false,
     "input": [
      "def square(x):\n",
      "    return x ** 2\n",
      "\n",
      "numbers = range(20)\n",
      "print(map(square, numbers))"
     ],
     "language": "python",
     "metadata": {},
     "outputs": [
      {
       "output_type": "stream",
       "stream": "stdout",
       "text": [
        "[0, 1, 4, 9, 16, 25, 36, 49, 64, 81, 100, 121, 144, 169, 196, 225, 256, 289, 324, 361]\n"
       ]
      }
     ],
     "prompt_number": 31
    },
    {
     "cell_type": "markdown",
     "metadata": {},
     "source": [
      "Con una funci\u00f3n an\u00f3nima:"
     ]
    },
    {
     "cell_type": "code",
     "collapsed": false,
     "input": [
      "print(map(lambda x: x**2, range(20)))"
     ],
     "language": "python",
     "metadata": {},
     "outputs": [
      {
       "output_type": "stream",
       "stream": "stdout",
       "text": [
        "[0, 1, 4, 9, 16, 25, 36, 49, 64, 81, 100, 121, 144, 169, 196, 225, 256, 289, 324, 361]\n"
       ]
      }
     ],
     "prompt_number": 32
    },
    {
     "cell_type": "code",
     "collapsed": false,
     "input": [
      "print(map(str.upper, \"foo bar fuzz\".split()))"
     ],
     "language": "python",
     "metadata": {},
     "outputs": [
      {
       "output_type": "stream",
       "stream": "stdout",
       "text": [
        "['FOO', 'BAR', 'FUZZ']\n"
       ]
      }
     ],
     "prompt_number": 33
    },
    {
     "cell_type": "markdown",
     "metadata": {},
     "source": [
      "## filter()\n",
      "\n",
      "Dado un iterable y un predicado (una funci\u00f3n que devuelve un booleano) retorna los elementos que cumplen el predicado."
     ]
    },
    {
     "cell_type": "code",
     "collapsed": false,
     "input": [
      "help(filter)"
     ],
     "language": "python",
     "metadata": {},
     "outputs": [
      {
       "output_type": "stream",
       "stream": "stdout",
       "text": [
        "Help on built-in function filter in module __builtin__:\n",
        "\n",
        "filter(...)\n",
        "    filter(function or None, sequence) -> list, tuple, or string\n",
        "    \n",
        "    Return those items of sequence for which function(item) is true.  If\n",
        "    function is None, return the items that are true.  If sequence is a tuple\n",
        "    or string, return the same type, else return a list.\n",
        "\n"
       ]
      }
     ],
     "prompt_number": 34
    },
    {
     "cell_type": "code",
     "collapsed": false,
     "input": [
      "filter(lambda x: not x % 3, range(1, 30))"
     ],
     "language": "python",
     "metadata": {},
     "outputs": [
      {
       "metadata": {},
       "output_type": "pyout",
       "prompt_number": 1,
       "text": [
        "[3, 6, 9, 12, 15, 18, 21, 24, 27]"
       ]
      }
     ],
     "prompt_number": 1
    },
    {
     "cell_type": "code",
     "collapsed": false,
     "input": [
      "filter(lambda x: x.isupper(), \"HolA\")"
     ],
     "language": "python",
     "metadata": {},
     "outputs": [
      {
       "metadata": {},
       "output_type": "pyout",
       "prompt_number": 4,
       "text": [
        "'HA'"
       ]
      }
     ],
     "prompt_number": 4
    },
    {
     "cell_type": "code",
     "collapsed": false,
     "input": [
      "filter(str.isupper, \"HolA\")"
     ],
     "language": "python",
     "metadata": {},
     "outputs": [
      {
       "metadata": {},
       "output_type": "pyout",
       "prompt_number": 7,
       "text": [
        "'HA'"
       ]
      }
     ],
     "prompt_number": 7
    },
    {
     "cell_type": "code",
     "collapsed": false,
     "input": [
      "str.isupper(\"A\")"
     ],
     "language": "python",
     "metadata": {},
     "outputs": [
      {
       "metadata": {},
       "output_type": "pyout",
       "prompt_number": 9,
       "text": [
        "True"
       ]
      }
     ],
     "prompt_number": 9
    },
    {
     "cell_type": "markdown",
     "metadata": {},
     "source": [
      "## reduce()\n",
      "\n",
      "Aplica una funci\u00f3n a una secuencia de valores tomados dos a dos acumulando el resultado."
     ]
    },
    {
     "cell_type": "code",
     "collapsed": false,
     "input": [
      "help(reduce)"
     ],
     "language": "python",
     "metadata": {},
     "outputs": [
      {
       "output_type": "stream",
       "stream": "stdout",
       "text": [
        "Help on built-in function reduce in module __builtin__:\n",
        "\n",
        "reduce(...)\n",
        "    reduce(function, sequence[, initial]) -> value\n",
        "    \n",
        "    Apply a function of two arguments cumulatively to the items of a sequence,\n",
        "    from left to right, so as to reduce the sequence to a single value.\n",
        "    For example, reduce(lambda x, y: x+y, [1, 2, 3, 4, 5]) calculates\n",
        "    ((((1+2)+3)+4)+5).  If initial is present, it is placed before the items\n",
        "    of the sequence in the calculation, and serves as a default when the\n",
        "    sequence is empty.\n",
        "\n"
       ]
      }
     ],
     "prompt_number": 36
    },
    {
     "cell_type": "code",
     "collapsed": false,
     "input": [
      "reduce(lambda x,y:x+y, range(5))"
     ],
     "language": "python",
     "metadata": {},
     "outputs": [
      {
       "metadata": {},
       "output_type": "pyout",
       "prompt_number": 13,
       "text": [
        "10"
       ]
      }
     ],
     "prompt_number": 13
    },
    {
     "cell_type": "code",
     "collapsed": false,
     "input": [
      "import operator\n",
      "reduce(operator.add, range(5))"
     ],
     "language": "python",
     "metadata": {},
     "outputs": [
      {
       "metadata": {},
       "output_type": "pyout",
       "prompt_number": 11,
       "text": [
        "10"
       ]
      }
     ],
     "prompt_number": 11
    },
    {
     "cell_type": "code",
     "collapsed": false,
     "input": [
      "f = lambda x: reduce(operator.mul, range(1, x+1), 1)\n",
      "f(6)"
     ],
     "language": "python",
     "metadata": {},
     "outputs": [
      {
       "metadata": {},
       "output_type": "pyout",
       "prompt_number": 18,
       "text": [
        "720"
       ]
      }
     ],
     "prompt_number": 18
    },
    {
     "cell_type": "code",
     "collapsed": false,
     "input": [
      "reduce(operator.add, map(lambda x:x**2, range(5)))"
     ],
     "language": "python",
     "metadata": {},
     "outputs": [
      {
       "metadata": {},
       "output_type": "pyout",
       "prompt_number": 19,
       "text": [
        "30"
       ]
      }
     ],
     "prompt_number": 19
    },
    {
     "cell_type": "markdown",
     "metadata": {},
     "source": [
      "## Comprensi\u00f3n de listas\n",
      "\n",
      "Se trata de una expresi\u00f3n que genera una lista, normalmente aplicando una transformaci\u00f3n a partir de otro objeto iterable. Es por tanto equivalente a la funci\u00f3n **map()**."
     ]
    },
    {
     "cell_type": "code",
     "collapsed": false,
     "input": [
      "# con map\n",
      "map_squares = map(lambda x: x**2, range(20))\n",
      "print(map_squares)\n",
      "\n",
      "# con LC (list comprenhension)\n",
      "lc_squares = [x**2 for x in range(20)]\n",
      "print(lc_squares)"
     ],
     "language": "python",
     "metadata": {},
     "outputs": [
      {
       "output_type": "stream",
       "stream": "stdout",
       "text": [
        "[0, 1, 4, 9, 16, 25, 36, 49, 64, 81, 100, 121, 144, 169, 196, 225, 256, 289, 324, 361]\n",
        "[0, 1, 4, 9, 16, 25, 36, 49, 64, 81, 100, 121, 144, 169, 196, 225, 256, 289, 324, 361]\n"
       ]
      }
     ],
     "prompt_number": 39
    },
    {
     "cell_type": "code",
     "collapsed": false,
     "input": [
      "[2**x for x in range(16)] "
     ],
     "language": "python",
     "metadata": {},
     "outputs": [
      {
       "metadata": {},
       "output_type": "pyout",
       "prompt_number": 40,
       "text": [
        "[1, 2, 4, 8, 16, 32, 64, 128, 256, 512, 1024, 2048, 4096, 8192, 16384, 32768]"
       ]
      }
     ],
     "prompt_number": 40
    },
    {
     "cell_type": "markdown",
     "metadata": {},
     "source": [
      "De hecho es m\u00e1s potente que **map()**, porque se puede aplicar a varios iteradores."
     ]
    },
    {
     "cell_type": "code",
     "collapsed": false,
     "input": [
      "print( [x+y+z for x in 'abc' for y in '12' for z in 'XYZ'] )"
     ],
     "language": "python",
     "metadata": {},
     "outputs": [
      {
       "output_type": "stream",
       "stream": "stdout",
       "text": [
        "['a1X', 'a1Y', 'a1Z', 'a2X', 'a2Y', 'a2Z', 'b1X', 'b1Y', 'b1Z', 'b2X', 'b2Y', 'b2Z', 'c1X', 'c1Y', 'c1Z', 'c2X', 'c2Y', 'c2Z']\n"
       ]
      }
     ],
     "prompt_number": 41
    },
    {
     "cell_type": "markdown",
     "metadata": {},
     "source": [
      "Y uno de los iteradores puede depender del otro:"
     ]
    },
    {
     "cell_type": "code",
     "collapsed": false,
     "input": [
      "[x for y in [1, 2, 3] for x in range(y+1)]"
     ],
     "language": "python",
     "metadata": {},
     "outputs": [
      {
       "metadata": {},
       "output_type": "pyout",
       "prompt_number": 42,
       "text": [
        "[0, 1, 0, 1, 2, 0, 1, 2, 3]"
       ]
      }
     ],
     "prompt_number": 42
    },
    {
     "cell_type": "markdown",
     "metadata": {},
     "source": [
      "Y es anidable (para crear estructuras anidadas):"
     ]
    },
    {
     "cell_type": "code",
     "collapsed": false,
     "input": [
      "[[x+y for x in 'abc'] for y in '12']"
     ],
     "language": "python",
     "metadata": {},
     "outputs": [
      {
       "metadata": {},
       "output_type": "pyout",
       "prompt_number": 43,
       "text": [
        "[['a1', 'b1', 'c1'], ['a2', 'b2', 'c2']]"
       ]
      }
     ],
     "prompt_number": 43
    },
    {
     "cell_type": "markdown",
     "metadata": {},
     "source": [
      "Permite adem\u00e1s que la inserci\u00f3n en la lista resultante sea condicionada. Por tanto, m\u00e1s potente que **filter()**:"
     ]
    },
    {
     "cell_type": "code",
     "collapsed": false,
     "input": [
      "filter_3_multiples = filter(lambda x: not x % 3, range(1, 30))\n",
      "print(filter_3_multiples)\n",
      "\n",
      "lc_3_multiples = [x for x in range(1, 30) if not x % 3]\n",
      "print(lc_3_multiples)"
     ],
     "language": "python",
     "metadata": {},
     "outputs": [
      {
       "output_type": "stream",
       "stream": "stdout",
       "text": [
        "[3, 6, 9, 12, 15, 18, 21, 24, 27]\n",
        "[3, 6, 9, 12, 15, 18, 21, 24, 27]\n"
       ]
      }
     ],
     "prompt_number": 44
    },
    {
     "cell_type": "markdown",
     "metadata": {},
     "source": [
      "## Comprensi\u00f3n de conjuntos\n",
      "\n",
      "Equivalente a la comprensi\u00f3n de listas para generar conjuntos. En lugar de corchetes \"[]\" se utilizan llaves \"{}\":"
     ]
    },
    {
     "cell_type": "code",
     "collapsed": false,
     "input": [
      "{ord(x) for x in \"foo bar fuzz\"}"
     ],
     "language": "python",
     "metadata": {},
     "outputs": [
      {
       "metadata": {},
       "output_type": "pyout",
       "prompt_number": 45,
       "text": [
        "{32, 97, 98, 102, 111, 114, 117, 122}"
       ]
      }
     ],
     "prompt_number": 45
    },
    {
     "cell_type": "markdown",
     "metadata": {},
     "source": [
      "## Comprensi\u00f3n de diccionarios\n",
      "\n",
      "Tambi\u00e9n se especifican con llaves, pero se contruyen pares \"clave:valor\""
     ]
    },
    {
     "cell_type": "code",
     "collapsed": false,
     "input": [
      "grades ={\"john\":3, \"mary\":5}\n",
      "{key.upper():value for key,value in grades.items()}"
     ],
     "language": "python",
     "metadata": {},
     "outputs": [
      {
       "metadata": {},
       "output_type": "pyout",
       "prompt_number": 23,
       "text": [
        "{'JOHN': 3, 'MARY': 5}"
       ]
      }
     ],
     "prompt_number": 23
    },
    {
     "cell_type": "code",
     "collapsed": false,
     "input": [
      "grades.items()"
     ],
     "language": "python",
     "metadata": {},
     "outputs": [
      {
       "metadata": {},
       "output_type": "pyout",
       "prompt_number": 25,
       "text": [
        "[('john', 3), ('mary', 5)]"
       ]
      }
     ],
     "prompt_number": 25
    },
    {
     "cell_type": "code",
     "collapsed": false,
     "input": [
      "{x:ord(x) for x in \"hola\"}"
     ],
     "language": "python",
     "metadata": {},
     "outputs": [
      {
       "metadata": {},
       "output_type": "pyout",
       "prompt_number": 27,
       "text": [
        "{'a': 97, 'h': 104, 'l': 108, 'o': 111}"
       ]
      }
     ],
     "prompt_number": 27
    },
    {
     "cell_type": "code",
     "collapsed": false,
     "input": [
      "{category:set() for category in [\"vowels\", \"consonants\"]}"
     ],
     "language": "python",
     "metadata": {},
     "outputs": [
      {
       "metadata": {},
       "output_type": "pyout",
       "prompt_number": 28,
       "text": [
        "{'consonants': set(), 'vowels': set()}"
       ]
      }
     ],
     "prompt_number": 28
    },
    {
     "cell_type": "markdown",
     "metadata": {},
     "source": [
      "## Decoradores\n",
      "\n",
      "Un decorador es una funci\u00f3n que se utiliza para cambiar el comportamiento de otra, es decir, toma una funci\u00f3n como argumento y devuelve otra:"
     ]
    },
    {
     "cell_type": "code",
     "collapsed": false,
     "input": [
      "def bob_say(text):\n",
      "    print(\"Bob says: \" + text)\n",
      "    \n",
      "bob_say(\"hello\")"
     ],
     "language": "python",
     "metadata": {},
     "outputs": [
      {
       "output_type": "stream",
       "stream": "stdout",
       "text": [
        "Bob says: hello\n"
       ]
      }
     ],
     "prompt_number": 47
    },
    {
     "cell_type": "markdown",
     "metadata": {},
     "source": [
      "Escribamos un decorador que genere una traza de las invocaciones."
     ]
    },
    {
     "cell_type": "code",
     "collapsed": false,
     "input": [
      "def trace(func):\n",
      "    def deco(text):\n",
      "        print(\"-- function '{}' invoked\".format(func.__name__))\n",
      "        func(text)\n",
      "        print(\"-- function '{}' ends\".format(func.__name__))\n",
      "    return deco\n",
      "        \n",
      "decorated_bob_say = trace(bob_say)\n",
      "decorated_bob_say(\"bye\")"
     ],
     "language": "python",
     "metadata": {},
     "outputs": [
      {
       "output_type": "stream",
       "stream": "stdout",
       "text": [
        "-- function 'bob_say' invoked\n",
        "Bob says: bye\n",
        "-- function 'bob_say' ends\n"
       ]
      }
     ],
     "prompt_number": 48
    },
    {
     "cell_type": "markdown",
     "metadata": {},
     "source": [
      "Pero lo interesante es que los decoradores se pueden aplicar se una forma m\u00e1s compacta en la la propia definici\u00f3n de la funci\u00f3n:"
     ]
    },
    {
     "cell_type": "code",
     "collapsed": false,
     "input": [
      "@trace\n",
      "def bob_say(text):\n",
      "    print(\"Bob says: \" + text)\n",
      "    \n",
      "bob_say(\"hello\")"
     ],
     "language": "python",
     "metadata": {},
     "outputs": [
      {
       "output_type": "stream",
       "stream": "stdout",
       "text": [
        "-- function 'bob_say' invoked\n",
        "Bob says: hello\n",
        "-- function 'bob_say' ends\n"
       ]
      }
     ],
     "prompt_number": 49
    },
    {
     "cell_type": "markdown",
     "metadata": {},
     "source": [
      "Una funci\u00f3n _thread safe_:"
     ]
    },
    {
     "cell_type": "code",
     "collapsed": false,
     "input": [
      "import threading\n",
      "lock = threading.Lock()\n",
      "\n",
      "def syncronized(func):\n",
      "    def deco():\n",
      "        try:\n",
      "            lock.acquire()\n",
      "            func()\n",
      "        finally:\n",
      "            lock.release()\n",
      "    return deco\n",
      "\n",
      "@syncronized\n",
      "def say():\n",
      "    print(\"hello\")\n",
      "    \n",
      "say()"
     ],
     "language": "python",
     "metadata": {},
     "outputs": [
      {
       "output_type": "stream",
       "stream": "stdout",
       "text": [
        "hello\n"
       ]
      }
     ],
     "prompt_number": 50
    },
    {
     "cell_type": "markdown",
     "metadata": {},
     "source": [
      "## Decoradores con par\u00e1metros"
     ]
    },
    {
     "cell_type": "code",
     "collapsed": false,
     "input": [
      "import threading\n",
      "\n",
      "def syncronized(lock):\n",
      "    def with_lock(func):\n",
      "        def deco():\n",
      "            try:\n",
      "                lock.acquire()\n",
      "                func()\n",
      "            finally:\n",
      "                lock.release()\n",
      "        return deco\n",
      "    return with_lock\n",
      "\n",
      "\n",
      "lock = threading.Lock()\n",
      "@syncronized(lock)\n",
      "def say():\n",
      "    print(\"hello\")\n",
      "    \n",
      "say()"
     ],
     "language": "python",
     "metadata": {},
     "outputs": [
      {
       "output_type": "stream",
       "stream": "stdout",
       "text": [
        "hello\n"
       ]
      }
     ],
     "prompt_number": 54
    },
    {
     "cell_type": "markdown",
     "metadata": {},
     "source": [
      "## Funciones parcialmente especificadas\n",
      "\n",
      "**functools.partial** es un _functor_ que permite crear una funci\u00f3n a partir de otra, _adelantando_ algunos de los par\u00e1metros."
     ]
    },
    {
     "cell_type": "code",
     "collapsed": false,
     "input": [
      "from functools import partial\n",
      "print(partial.__doc__)"
     ],
     "language": "python",
     "metadata": {},
     "outputs": [
      {
       "output_type": "stream",
       "stream": "stdout",
       "text": [
        "partial(func, *args, **keywords) - new function with partial application\n",
        "    of the given arguments and keywords.\n",
        "\n"
       ]
      }
     ],
     "prompt_number": 69
    },
    {
     "cell_type": "code",
     "collapsed": false,
     "input": [
      "def my_pow(x, y):\n",
      "    return x ** y\n",
      "\n",
      "square = partial(my_pow, y=2)\n",
      "print(square(8))\n",
      "\n",
      "cube = partial(my_pow, y=3)\n",
      "print(cube(3))"
     ],
     "language": "python",
     "metadata": {},
     "outputs": [
      {
       "output_type": "stream",
       "stream": "stdout",
       "text": [
        "64\n",
        "27\n"
       ]
      }
     ],
     "prompt_number": 73
    }
   ],
   "metadata": {}
  }
 ]
}