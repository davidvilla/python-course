{
 "metadata": {
  "name": "",
  "signature": "sha256:6d4a857b91222ca41687daa82b56e207d3e724cdf026b65ee21b749b000e27da"
 },
 "nbformat": 3,
 "nbformat_minor": 0,
 "worksheets": [
  {
   "cells": [
    {
     "cell_type": "code",
     "collapsed": false,
     "input": [
      "import netCDF4\n",
      "import numpy as np\n",
      "\n",
      "fd = netCDF4.Dataset('geodetic_an.nc', 'r')\n",
      "for name in fd.variables:\n",
      "    print(name)"
     ],
     "language": "python",
     "metadata": {},
     "outputs": [
      {
       "output_type": "stream",
       "stream": "stdout",
       "text": [
        "latitude_an\n",
        "longitude_an\n",
        "elevation_an\n",
        "latitude_orphan_an\n",
        "longitude_orphan_an\n",
        "elevation_orphan_an\n"
       ]
      }
     ],
     "prompt_number": 17
    },
    {
     "cell_type": "code",
     "collapsed": false,
     "input": [
      "for d in fd.dimensions:\n",
      "    print(d)"
     ],
     "language": "python",
     "metadata": {},
     "outputs": [
      {
       "output_type": "stream",
       "stream": "stdout",
       "text": [
        "rows\n",
        "columns\n",
        "orphan_pixels\n"
       ]
      }
     ],
     "prompt_number": 6
    },
    {
     "cell_type": "code",
     "collapsed": false,
     "input": [
      "latitude = fd.variables['latitude_an']\n",
      "print(latitude)"
     ],
     "language": "python",
     "metadata": {},
     "outputs": [
      {
       "output_type": "stream",
       "stream": "stdout",
       "text": [
        "<type 'netCDF4.Variable'>\n",
        "int32 latitude_an(rows, columns)\n",
        "    standard_name: latitude\n",
        "    long_name: Latitude of detector FOV centre on the earth's surface\n",
        "    units: degrees_north\n",
        "    scale_factor: 1e-06\n",
        "    add_offset: 0.0\n",
        "    valid_min: -91\n",
        "    valid_max: 91\n",
        "    _FillValue: -999\n",
        "unlimited dimensions: \n",
        "current shape = (540, 3136)\n",
        "filling on\n"
       ]
      }
     ],
     "prompt_number": 9
    },
    {
     "cell_type": "code",
     "collapsed": false,
     "input": [
      "print(latitude.ncattrs())"
     ],
     "language": "python",
     "metadata": {},
     "outputs": [
      {
       "output_type": "stream",
       "stream": "stdout",
       "text": [
        "[u'standard_name', u'long_name', u'units', u'scale_factor', u'add_offset', u'valid_min', u'valid_max', u'_FillValue']\n"
       ]
      }
     ],
     "prompt_number": 11
    },
    {
     "cell_type": "code",
     "collapsed": false,
     "input": [
      "print(latitude.units)"
     ],
     "language": "python",
     "metadata": {},
     "outputs": [
      {
       "output_type": "stream",
       "stream": "stdout",
       "text": [
        "degrees_north\n"
       ]
      }
     ],
     "prompt_number": 13
    },
    {
     "cell_type": "code",
     "collapsed": false,
     "input": [
      "latitude[:]"
     ],
     "language": "python",
     "metadata": {},
     "outputs": [
      {
       "metadata": {},
       "output_type": "pyout",
       "prompt_number": 18,
       "text": [
        "masked_array(data =\n",
        " [[-- -- -- ..., 57.515093 57.513109 57.511126]\n",
        " [-- -- -- ..., 57.511027999999996 57.509045 57.507061]\n",
        " [-- -- -- ..., 57.506963999999996 57.504979999999996 57.502997]\n",
        " ..., \n",
        " [-- -- -- ..., 55.317406999999996 55.315528 55.313649999999996]\n",
        " [-- -- -- ..., 55.313289999999995 55.311412 55.309532999999995]\n",
        " [-- -- -- ..., 55.309172999999994 55.307294999999996 55.305416]],\n",
        "             mask =\n",
        " [[ True  True  True ..., False False False]\n",
        " [ True  True  True ..., False False False]\n",
        " [ True  True  True ..., False False False]\n",
        " ..., \n",
        " [ True  True  True ..., False False False]\n",
        " [ True  True  True ..., False False False]\n",
        " [ True  True  True ..., False False False]],\n",
        "       fill_value = -999)"
       ]
      }
     ],
     "prompt_number": 18
    }
   ],
   "metadata": {}
  }
 ]
}