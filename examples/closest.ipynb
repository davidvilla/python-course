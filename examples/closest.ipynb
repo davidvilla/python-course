{
 "metadata": {
  "name": "",
  "signature": "sha256:cee0f1212ce492828f25ccc2f754be1dbbe006944ce045dc072b7ec6530e1abd"
 },
 "nbformat": 3,
 "nbformat_minor": 0,
 "worksheets": [
  {
   "cells": [
    {
     "cell_type": "code",
     "collapsed": false,
     "input": [
      "import math\n",
      "import numpy as np\n",
      "\n",
      "def closest(pos, points):\n",
      "    x0, y0 = pos\n",
      "    dbest, ibest = None, None\n",
      "    for i, (x, y) in enumerate(points):\n",
      "        d = (x - x0) ** 2 + (y - y0) ** 2\n",
      "        if dbest is None or d < dbest:\n",
      "            dbest, ibest = d, i\n",
      "\n",
      "    return dbest, ibest\n",
      "\n",
      "ref = .5, .5\n",
      "points = np.random.rand(10 ** 6, 2)\n",
      "print(points.ndim)\n",
      "print(points.shape)\n",
      "print(points)\n",
      "\n",
      "%timeit closest(ref, points)\n",
      "print(closest(ref, points))"
     ],
     "language": "python",
     "metadata": {},
     "outputs": [
      {
       "output_type": "stream",
       "stream": "stdout",
       "text": [
        "2\n",
        "(1000000, 2)\n",
        "[[ 0.59472432  0.46514771]\n",
        " [ 0.98183227  0.18811625]\n",
        " [ 0.82474897  0.04614071]\n",
        " ..., \n",
        " [ 0.61934535  0.78967652]\n",
        " [ 0.48760346  0.0972289 ]\n",
        " [ 0.1589388   0.30518495]]\n",
        "1 loops, best of 3: 2.99 s per loop"
       ]
      },
      {
       "output_type": "stream",
       "stream": "stdout",
       "text": [
        "\n",
        "(7.9453597471512363e-08, 820675)"
       ]
      },
      {
       "output_type": "stream",
       "stream": "stdout",
       "text": [
        "\n"
       ]
      }
     ],
     "prompt_number": 2
    },
    {
     "cell_type": "code",
     "collapsed": false,
     "input": [
      "def np_closest(pos, points):\n",
      "    x, y = points[:,0], points[:,1]\n",
      "    distances = (x - pos[0]) ** 2 + (y - pos[1]) ** 2\n",
      "    ibest = distances.argmin()\n",
      "    dbest = distances[ibest]\n",
      "    return dbest, ibest\n",
      "\n",
      "%timeit np_closest(ref, points)\n",
      "print(np_closest(ref, points))"
     ],
     "language": "python",
     "metadata": {},
     "outputs": [
      {
       "output_type": "stream",
       "stream": "stdout",
       "text": [
        "100 loops, best of 3: 13 ms per loop\n",
        "(7.9453597471512363e-08, 820675)\n"
       ]
      }
     ],
     "prompt_number": 3
    }
   ],
   "metadata": {}
  }
 ]
}