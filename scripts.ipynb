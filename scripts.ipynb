{
 "metadata": {
  "name": "",
  "signature": "sha256:d7587ffb156ec71e6601fd2e097fd425124528714f7d8cde32b992d74a8afe62"
 },
 "nbformat": 3,
 "nbformat_minor": 0,
 "worksheets": [
  {
   "cells": [
    {
     "cell_type": "markdown",
     "metadata": {},
     "source": [
      "# Scripts\n",
      "\n",
      "Hasta ahora estamos escribiendo el c\u00f3digo Python directamente en el int\u00e9rprete. Obviamente esto no es especialmente c\u00f3modo ni permite reutilzar. Como en cualquier lenguaje, el c\u00f3digo Python se escribe en un fichero de texto, y despu\u00e9s el int\u00e9rprete podr\u00e1 cargarlo y ejecutar la instruccones que contega. La forma ortodoxa de hacer esto es:"
     ]
    },
    {
     "cell_type": "raw",
     "metadata": {},
     "source": [
      "$ python programa.py"
     ]
    },
    {
     "cell_type": "markdown",
     "metadata": {},
     "source": [
      "## Codificaci\u00f3n"
     ]
    },
    {
     "cell_type": "markdown",
     "metadata": {},
     "source": [
      "Sin embargo, para evitar problemas con la codificaci\u00f3n de cadenas y comentarios es importante especificar el _encoding_ con el que est\u00e1 escrito el texto. Para ello basta colocar como primera l\u00ednea del fichero una como la siguiente:"
     ]
    },
    {
     "cell_type": "code",
     "collapsed": false,
     "input": [
      " # -*- coding: utf-8 -*-"
     ],
     "language": "python",
     "metadata": {},
     "outputs": [],
     "prompt_number": 1
    },
    {
     "cell_type": "markdown",
     "metadata": {},
     "source": [
      "UTF-8 es la codificaci\u00f3n m\u00e1s habitual y la recomendada pero es posible usar otras."
     ]
    },
    {
     "cell_type": "markdown",
     "metadata": {},
     "source": [
      "## Shebang"
     ]
    },
    {
     "cell_type": "markdown",
     "metadata": {},
     "source": [
      "Tambi\u00e9n es muy habitual, sobre todo en sistemas POSIX, dar instrucci\u00f3n a la shell (el int\u00e9rprete de comandos) para que pueda ejecutar el programa sin necesidad de que el usuario tenga que indicarlo en l\u00ednea de comandos. Eso permite por ejemplo, que se pueda ejecuar el programa con un doble-click. Para ello se utiliza el _shebang_, que es un comentario especial que indica la ruta al programa que debe usarse para ejectuar **este** fichero."
     ]
    },
    {
     "cell_type": "code",
     "collapsed": false,
     "input": [
      " #!/usr/bin/python"
     ],
     "language": "python",
     "metadata": {},
     "outputs": []
    },
    {
     "cell_type": "markdown",
     "metadata": {},
     "source": [
      "El _shebang_ se coloca por encima de la especificaci\u00f3n de la codificac\u00f3n. Por lo tanto, es muy habitual encontrar muchos programas Python que empiezan con dos l\u00edneas similares a estas:"
     ]
    },
    {
     "cell_type": "code",
     "collapsed": false,
     "input": [
      "#!/usr/bin/python\n",
      "# -*- coding: utf-8 -*-"
     ],
     "language": "python",
     "metadata": {},
     "outputs": [],
     "prompt_number": 2
    },
    {
     "cell_type": "markdown",
     "metadata": {},
     "source": [
      "## Referencias\n",
      "\n",
      "* [PEP0263 - Defining Python Source Code Encodings](http://legacy.python.org/dev/peps/pep-0263)"
     ]
    }
   ],
   "metadata": {}
  }
 ]
}