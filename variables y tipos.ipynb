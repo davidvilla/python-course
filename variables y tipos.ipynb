{
 "metadata": {
  "name": "",
  "signature": "sha256:19c90cde78b2372354b4783b4bf0e915486d2dbcede38640c575d051dcac4df4"
 },
 "nbformat": 3,
 "nbformat_minor": 0,
 "worksheets": [
  {
   "cells": [
    {
     "cell_type": "markdown",
     "metadata": {},
     "source": [
      "# Variables\n",
      "\n",
      "En Python las variables se definen de forma impl\u00edcita, es decir, no es necesario declararlas. La variable tendr\u00e1 el tipo del valor al que hace referencia, y eso puede cambiar en cualquier momento."
     ]
    },
    {
     "cell_type": "code",
     "collapsed": false,
     "input": [
      "a = \"hello\"\n",
      "a"
     ],
     "language": "python",
     "metadata": {},
     "outputs": [
      {
       "metadata": {},
       "output_type": "pyout",
       "prompt_number": 13,
       "text": [
        "'hello'"
       ]
      }
     ],
     "prompt_number": 13
    },
    {
     "cell_type": "code",
     "collapsed": false,
     "input": [
      "a = 3\n",
      "a"
     ],
     "language": "python",
     "metadata": {},
     "outputs": [
      {
       "metadata": {},
       "output_type": "pyout",
       "prompt_number": 14,
       "text": [
        "3"
       ]
      }
     ],
     "prompt_number": 14
    },
    {
     "cell_type": "markdown",
     "metadata": {},
     "source": [
      "Aunque tambi\u00e9n es posible difinir una variable usando un tipo concreto no es muy habitual verlo en c\u00f3digo de producci\u00f3n."
     ]
    },
    {
     "cell_type": "code",
     "collapsed": false,
     "input": [
      "a = str()\n",
      "a"
     ],
     "language": "python",
     "metadata": {},
     "outputs": [
      {
       "metadata": {},
       "output_type": "pyout",
       "prompt_number": 15,
       "text": [
        "''"
       ]
      }
     ],
     "prompt_number": 15
    },
    {
     "cell_type": "markdown",
     "metadata": {},
     "source": [
      "**IMPORTANTE**: Elegir nombres descriptivos para las variables es cr\u00edtico. En este documento se utilizan a veces nombres de variables sin significado porque son ejemplos muy simples. En un programa real deben utilizarse siempore conceptos del dominio de la aplicaci\u00f3n."
     ]
    },
    {
     "cell_type": "markdown",
     "metadata": {},
     "source": [
      "## Tipos b\u00e1sicos\n",
      "\n",
      "Python dispone de los tipos de datos habituales en cualquier lenguaje de programaci\u00f3n moderno.\n",
      "\n",
      "### Enteros\n",
      "\n",
      "El entero (**int**) es el tipo m\u00e1s simple en la mayor\u00eda de los lenguajes. Como cualquier otro tipo, es posible crear un nuevo entero a partir de un literal."
     ]
    },
    {
     "cell_type": "code",
     "collapsed": false,
     "input": [
      "num = 42\n",
      "num"
     ],
     "language": "python",
     "metadata": {},
     "outputs": [
      {
       "metadata": {},
       "output_type": "pyout",
       "prompt_number": 16,
       "text": [
        "42"
       ]
      }
     ],
     "prompt_number": 16
    },
    {
     "cell_type": "markdown",
     "metadata": {},
     "source": [
      "En el caso de Python, el entero tiene una peculiaridad: _no tiene l\u00edmite_, puede ser arbitrariamente largo."
     ]
    },
    {
     "cell_type": "code",
     "collapsed": false,
     "input": [
      "big_number = 100 ** 100\n",
      "big_number"
     ],
     "language": "python",
     "metadata": {},
     "outputs": [
      {
       "metadata": {},
       "output_type": "pyout",
       "prompt_number": 17,
       "text": [
        "100000000000000000000000000000000000000000000000000000000000000000000000000000000000000000000000000000000000000000000000000000000000000000000000000000000000000000000000000000000000000000000000000000000L"
       ]
      }
     ],
     "prompt_number": 17
    },
    {
     "cell_type": "markdown",
     "metadata": {},
     "source": [
      "Efectivamente, el operador <nowiki>**</nowiki> es la potencia. Por supuesto, los enteros de Python disponen de todos los operadores habituales: suma, resta, m\u00faltiplicaci\u00f3n, divisi\u00f3n, divisi\u00f3n entera y m\u00f3dulo. Y tambi\u00e9n operadores a nivel de bits como and, or y desplazamientos: "
     ]
    },
    {
     "cell_type": "code",
     "collapsed": false,
     "input": [
      "a = 32 + 16\n",
      "a"
     ],
     "language": "python",
     "metadata": {},
     "outputs": [
      {
       "metadata": {},
       "output_type": "pyout",
       "prompt_number": 18,
       "text": [
        "48"
       ]
      }
     ],
     "prompt_number": 18
    },
    {
     "cell_type": "code",
     "collapsed": false,
     "input": [
      "3.2//2"
     ],
     "language": "python",
     "metadata": {},
     "outputs": [
      {
       "metadata": {},
       "output_type": "pyout",
       "prompt_number": 19,
       "text": [
        "1.0"
       ]
      }
     ],
     "prompt_number": 19
    },
    {
     "cell_type": "code",
     "collapsed": false,
     "input": [
      "a | 4"
     ],
     "language": "python",
     "metadata": {},
     "outputs": [
      {
       "metadata": {},
       "output_type": "pyout",
       "prompt_number": 20,
       "text": [
        "52"
       ]
      }
     ],
     "prompt_number": 20
    },
    {
     "cell_type": "code",
     "collapsed": false,
     "input": [
      "a & 31"
     ],
     "language": "python",
     "metadata": {},
     "outputs": [
      {
       "metadata": {},
       "output_type": "pyout",
       "prompt_number": 21,
       "text": [
        "16"
       ]
      }
     ],
     "prompt_number": 21
    },
    {
     "cell_type": "code",
     "collapsed": false,
     "input": [
      "a >> 2"
     ],
     "language": "python",
     "metadata": {},
     "outputs": [
      {
       "metadata": {},
       "output_type": "pyout",
       "prompt_number": 22,
       "text": [
        "12"
       ]
      }
     ],
     "prompt_number": 22
    },
    {
     "cell_type": "markdown",
     "metadata": {},
     "source": [
      "A pesar de las apariencias, el listado anterior es una serie de invocaciones a m\u00e9todos, porque como se ha dicho, los enteros tambi\u00e9n son objetos:"
     ]
    },
    {
     "cell_type": "code",
     "collapsed": false,
     "input": [
      "a = 3\n",
      "a.__add__(4)"
     ],
     "language": "python",
     "metadata": {},
     "outputs": [
      {
       "metadata": {},
       "output_type": "pyout",
       "prompt_number": 23,
       "text": [
        "7"
       ]
      }
     ],
     "prompt_number": 23
    },
    {
     "cell_type": "markdown",
     "metadata": {},
     "source": [
      "Esto es porque Python permite realizar sobrecarga de operadores, es decir, el lenguaje permite crear tipos (subclases) que definen el significado de los operadores. Esto se realiza por medio de m\u00e9todos especiales (como el ** \\_\\_add\\_\\_ ** del listado anterior). Volveremos con este tema en posteriores cap\u00edtulos."
     ]
    },
    {
     "cell_type": "markdown",
     "metadata": {},
     "source": [
      "### Flotantes\n",
      "\n",
      "El otro tipo de dato num\u00e9rico esencial es el flotante (**float**). Como en el caso del entero, el **float** de Python tiene precisi\u00f3n y tama\u00f1o arbitr\u00e1rio, lo cual simplifica mucho las cosas cuando se requieren n\u00famero muy grandes. Para definir una variable de tipo **float**, basta como siempre, asignar un literal:"
     ]
    },
    {
     "cell_type": "code",
     "collapsed": false,
     "input": [
      "size = 3.4\n",
      "size"
     ],
     "language": "python",
     "metadata": {},
     "outputs": [
      {
       "metadata": {},
       "output_type": "pyout",
       "prompt_number": 24,
       "text": [
        "3.4"
       ]
      }
     ],
     "prompt_number": 24
    },
    {
     "cell_type": "markdown",
     "metadata": {},
     "source": [
      "Los operadores de Python hacen promoci\u00f3n autom\u00e1tica de tipos cuando se operan por ejemplo enteros con flotantes:"
     ]
    },
    {
     "cell_type": "code",
     "collapsed": false,
     "input": [
      "4 * 4.2"
     ],
     "language": "python",
     "metadata": {},
     "outputs": [
      {
       "metadata": {},
       "output_type": "pyout",
       "prompt_number": 25,
       "text": [
        "16.8"
       ]
      }
     ],
     "prompt_number": 25
    },
    {
     "cell_type": "markdown",
     "metadata": {},
     "source": [
      "Eso no significa que est\u00e9 permitido aplicar cualquier operador a cualquier pareja de operandos. Python a pesar de ser din\u00e1mico es un lenguaje fuertemente tipado:"
     ]
    },
    {
     "cell_type": "code",
     "collapsed": false,
     "input": [
      "\"hello\" + 3.2"
     ],
     "language": "python",
     "metadata": {},
     "outputs": [
      {
       "ename": "TypeError",
       "evalue": "cannot concatenate 'str' and 'float' objects",
       "output_type": "pyerr",
       "traceback": [
        "\u001b[0;31m---------------------------------------------------------------------------\u001b[0m\n\u001b[0;31mTypeError\u001b[0m                                 Traceback (most recent call last)",
        "\u001b[0;32m<ipython-input-26-73d5a9e04006>\u001b[0m in \u001b[0;36m<module>\u001b[0;34m()\u001b[0m\n\u001b[0;32m----> 1\u001b[0;31m \u001b[0;34m\"hello\"\u001b[0m \u001b[0;34m+\u001b[0m \u001b[0;36m3.2\u001b[0m\u001b[0;34m\u001b[0m\u001b[0m\n\u001b[0m",
        "\u001b[0;31mTypeError\u001b[0m: cannot concatenate 'str' and 'float' objects"
       ]
      }
     ],
     "prompt_number": 26
    },
    {
     "cell_type": "markdown",
     "metadata": {},
     "source": [
      "Aunque el operador de suma est\u00e1 de hecho definido para las cadenas su significado es la concatenaci\u00f3n como se puede ver en el mensaje de error."
     ]
    },
    {
     "cell_type": "markdown",
     "metadata": {},
     "source": [
      "### Complejos\n",
      "\n",
      "Python es uno de los pocos lenguajes de prop\u00f3sito general que dispone de n\u00fameros complejos como un tipo \u00abempotrado\u00bb (_builtin_) y su uso es absolutamente equivalente a los enteros o flotantes:"
     ]
    },
    {
     "cell_type": "code",
     "collapsed": false,
     "input": [
      "n = 3 + 4j\n",
      "n * 2"
     ],
     "language": "python",
     "metadata": {},
     "outputs": []
    },
    {
     "cell_type": "code",
     "collapsed": false,
     "input": [
      "n.imag"
     ],
     "language": "python",
     "metadata": {},
     "outputs": []
    },
    {
     "cell_type": "code",
     "collapsed": false,
     "input": [
      "abs(n)"
     ],
     "language": "python",
     "metadata": {},
     "outputs": []
    },
    {
     "cell_type": "code",
     "collapsed": false,
     "input": [
      "type(n)"
     ],
     "language": "python",
     "metadata": {},
     "outputs": []
    },
    {
     "cell_type": "code",
     "collapsed": false,
     "input": [
      "1j * 1j"
     ],
     "language": "python",
     "metadata": {},
     "outputs": []
    },
    {
     "cell_type": "markdown",
     "metadata": {},
     "source": [
      "### Booleanos\n",
      "\n",
      "El booleano (**bool**) solo puede tener dos valores **True** y **False** (con esa capitalizaci\u00f3n concreta)."
     ]
    },
    {
     "cell_type": "code",
     "collapsed": false,
     "input": [
      "b1 = True"
     ],
     "language": "python",
     "metadata": {},
     "outputs": []
    },
    {
     "cell_type": "markdown",
     "metadata": {},
     "source": [
      "Soporta los operadores cl\u00e1sicos: and, or y not:"
     ]
    },
    {
     "cell_type": "code",
     "collapsed": false,
     "input": [
      "not b1"
     ],
     "language": "python",
     "metadata": {},
     "outputs": []
    },
    {
     "cell_type": "code",
     "collapsed": false,
     "input": [
      "b1 and False"
     ],
     "language": "python",
     "metadata": {},
     "outputs": []
    },
    {
     "cell_type": "code",
     "collapsed": false,
     "input": [
      "b1 or False"
     ],
     "language": "python",
     "metadata": {},
     "outputs": []
    },
    {
     "cell_type": "markdown",
     "metadata": {},
     "source": [
      "Como ocurre en C, cualquier expresi\u00f3n genera (o puede convertirse) a un valor l\u00f3gico, lo que resulta muy \u00fatil y permite simplificar el c\u00f3digo en muchos casos:"
     ]
    },
    {
     "cell_type": "code",
     "collapsed": false,
     "input": [
      "3 > 5"
     ],
     "language": "python",
     "metadata": {},
     "outputs": []
    },
    {
     "cell_type": "code",
     "collapsed": false,
     "input": [
      "bool(3.7)"
     ],
     "language": "python",
     "metadata": {},
     "outputs": []
    },
    {
     "cell_type": "markdown",
     "metadata": {},
     "source": [
      "El 0 (entero, flotante o complejo) se eval\u00faa como falso. Las secuencias vac\u00edas, incluidas las cadenas tambi\u00e9n se consideran **False**."
     ]
    },
    {
     "cell_type": "code",
     "collapsed": false,
     "input": [
      "bool(\"\")"
     ],
     "language": "python",
     "metadata": {},
     "outputs": [
      {
       "metadata": {},
       "output_type": "pyout",
       "prompt_number": 27,
       "text": [
        "False"
       ]
      }
     ],
     "prompt_number": 27
    },
    {
     "cell_type": "markdown",
     "metadata": {},
     "source": [
      "Las operaciones **and** y **or** tienen un tratamiento interesante de sus operandos. La operaci\u00f3n **and** realmente no devuelve un booleano. Es su lugar devuelve el primer operando que se eval\u00fae como falso, y los dem\u00e1s no llegan a ejecutarse nunca:"
     ]
    },
    {
     "cell_type": "code",
     "collapsed": false,
     "input": [
      "4 and (2 -2) and (5 - 3)"
     ],
     "language": "python",
     "metadata": {},
     "outputs": [
      {
       "metadata": {},
       "output_type": "pyout",
       "prompt_number": 30,
       "text": [
        "0"
       ]
      }
     ],
     "prompt_number": 30
    },
    {
     "cell_type": "markdown",
     "metadata": {},
     "source": [
      "El 0 que devuelve la sentencia es el resultado de la operaci\u00f3n 2 - 2, y la operaci\u00f3n 5 - 3 no se ha ejecutado. La operaci\u00f3n **or** realiza algo similar. Devuelve el primer valor que se eval\u00fae como cierto, y no eval\u00faa ning\u00fan operando m\u00e1s."
     ]
    },
    {
     "cell_type": "code",
     "collapsed": false,
     "input": [
      "2 > 3 or 2 + 3 or 3 - 1"
     ],
     "language": "python",
     "metadata": {},
     "outputs": [
      {
       "metadata": {},
       "output_type": "pyout",
       "prompt_number": 31,
       "text": [
        "5"
       ]
      }
     ],
     "prompt_number": 31
    },
    {
     "cell_type": "markdown",
     "metadata": {},
     "source": [
      "Python eval\u00faa 2 > 3 (que es falso), despu\u00e9s eval\u00faa 2 + 3, y como es cierto (distinto de cero), lo devuelve sin ejecutar nada m\u00e1s."
     ]
    },
    {
     "cell_type": "markdown",
     "metadata": {},
     "source": [
      "### None\n",
      "\n",
      "Es un valor nulo (de tipo **NoneType**), que como su nombre indica, se utilizar para indicar que una variable no tiene valor. Se puede utilizar como un valor literal en cualquier expresi\u00f3n y se eval\u00faa como Falso en la operaciones l\u00f3gicas:"
     ]
    },
    {
     "cell_type": "code",
     "collapsed": false,
     "input": [
      "a = \"example\"\n",
      "a = None\n",
      "bool(a)"
     ],
     "language": "python",
     "metadata": {},
     "outputs": [
      {
       "metadata": {},
       "output_type": "pyout",
       "prompt_number": 32,
       "text": [
        "False"
       ]
      }
     ],
     "prompt_number": 32
    },
    {
     "cell_type": "markdown",
     "metadata": {},
     "source": [
      "## Operadores y precedencia\n",
      "\n",
      "Hay una relaci\u00f3nd de precedencia (una prioridad) cuando se eval\u00faan expresiones aritm\u00e9ticas o l\u00f3gicas en un programa."
     ]
    },
    {
     "cell_type": "code",
     "collapsed": false,
     "input": [
      "2 + 3 * 4"
     ],
     "language": "python",
     "metadata": {},
     "outputs": [
      {
       "metadata": {},
       "output_type": "pyout",
       "prompt_number": 33,
       "text": [
        "14"
       ]
      }
     ],
     "prompt_number": 33
    },
    {
     "cell_type": "markdown",
     "metadata": {},
     "source": [
      "Para modificar las reglas de precedencia se pueden utilizar par\u00e9ntesis:"
     ]
    },
    {
     "cell_type": "code",
     "collapsed": false,
     "input": [
      "(2 + 3) * 4"
     ],
     "language": "python",
     "metadata": {},
     "outputs": [
      {
       "metadata": {},
       "output_type": "pyout",
       "prompt_number": 34,
       "text": [
        "20"
       ]
      }
     ],
     "prompt_number": 34
    },
    {
     "cell_type": "markdown",
     "metadata": {},
     "source": [
      "Como se puede comprobar, la multiplicaci\u00f3n tiene prioridad sobre la suma. En concreto, las reglas para los operadores matem\u00e1ticos son:\n",
      "\n",
      "<table>\n",
      "<tr>\n",
      "<th>Operador</th>\n",
      "<th>Significado</th>\n",
      "</tr>\n",
      "<tr>\n",
      "<td>\\*\\*</td>\n",
      "<td>potencia</td>\n",
      "</tr>\n",
      "<tr>\n",
      "<td>+ y - (un operando)</td>\n",
      "<td>signo del valor</td>\n",
      "</tr>\n",
      "<tr>\n",
      "<td>\\*, / y % (dos operandos)</td>\n",
      "<td>multiplicaci\u00f3n, divisi\u00f3n y m\u00f3dulo</td>\n",
      "</tr>\n",
      "<tr>\n",
      "<td>+ y - (dos operandos)</td>\n",
      "<td>suma y resta</td>\n",
      "</tr>\n",
      "</table>\n",
      "\n",
      "En caso de la m\u00e1s m\u00ednima duda, mejor poner par\u00e9ntesis."
     ]
    },
    {
     "cell_type": "markdown",
     "metadata": {},
     "source": [
      "## Contenedores\n",
      "\n",
      "Las contenedores de Python son aquellos tipos de datos que permiten grupos valores. Todos permiten almacenar valores de tipos diferentes en el mismo contenedor de forma directa. Todos los contenedores son indexables, y eso es mucho decir en el caso de Python. En este momento se muestran los m\u00e1s sencillos: cadenas, listas, tuplas, diccionarios y conjuntos.\n",
      "\n",
      "Desde el punto de vista l\u00f3gico, todas los contenedores se eval\u00faan como falso cuando est\u00e1n vac\u00edos."
     ]
    },
    {
     "cell_type": "markdown",
     "metadata": {},
     "source": [
      "### Cadenas (**str**)\n",
      "\n",
      "En el primer ejemplo ya se ha visto la cadena \"Hello World\" y el resultado de invocar tu m\u00e9todo **lower()**. Las cadenas se delimitan con comillas simples (') o dobles (\") indistintamente, siempre que est\u00e9n correctamente pareados:"
     ]
    },
    {
     "cell_type": "code",
     "collapsed": false,
     "input": [
      "what = \"Hello\"\n",
      "who = 'World'\n",
      "what + ' ' + who"
     ],
     "language": "python",
     "metadata": {},
     "outputs": [
      {
       "metadata": {},
       "output_type": "pyout",
       "prompt_number": 35,
       "text": [
        "'Hello World'"
       ]
      }
     ],
     "prompt_number": 35
    },
    {
     "cell_type": "markdown",
     "metadata": {},
     "source": [
      "Como se puede apreciar en ese ejemplo, soportan el operador de concatenaci\u00f3n. Tambi\u00e9n el de multiplicaci\u00f3n (siempre que sea con un entero):"
     ]
    },
    {
     "cell_type": "code",
     "collapsed": false,
     "input": [
      "\"hello \" * 3"
     ],
     "language": "python",
     "metadata": {},
     "outputs": [
      {
       "metadata": {},
       "output_type": "pyout",
       "prompt_number": 36,
       "text": [
        "'hello hello hello '"
       ]
      }
     ],
     "prompt_number": 36
    },
    {
     "cell_type": "markdown",
     "metadata": {},
     "source": [
      "### Indexaci\u00f3n y slicing\n",
      "\n",
      "Y la indexaci\u00f3n por suspuesto es una operaci\u00f3n b\u00e1sica:"
     ]
    },
    {
     "cell_type": "code",
     "collapsed": false,
     "input": [
      "what[0]"
     ],
     "language": "python",
     "metadata": {},
     "outputs": [
      {
       "metadata": {},
       "output_type": "pyout",
       "prompt_number": 37,
       "text": [
        "'H'"
       ]
      }
     ],
     "prompt_number": 37
    },
    {
     "cell_type": "markdown",
     "metadata": {},
     "source": [
      "Como en muchos lenguajes, el primer elemento corresponde con el \u00edndice 0. Pero tambi\u00e9n permite indexar desde el final si el indice es negativo (realmente muy \u00fatil!)."
     ]
    },
    {
     "cell_type": "code",
     "collapsed": false,
     "input": [
      "what[-1]"
     ],
     "language": "python",
     "metadata": {},
     "outputs": [
      {
       "metadata": {},
       "output_type": "pyout",
       "prompt_number": 42,
       "text": [
        "'o'"
       ]
      }
     ],
     "prompt_number": 42
    },
    {
     "cell_type": "markdown",
     "metadata": {},
     "source": [
      "Algo no tan com\u00fan es el _slicing_, que permite indicar un rango mediante dos \u00edndices separados por ':':"
     ]
    },
    {
     "cell_type": "code",
     "collapsed": false,
     "input": [
      "who[1:4]"
     ],
     "language": "python",
     "metadata": {},
     "outputs": [
      {
       "metadata": {},
       "output_type": "pyout",
       "prompt_number": 43,
       "text": [
        "'orl'"
       ]
      }
     ],
     "prompt_number": 43
    },
    {
     "cell_type": "code",
     "collapsed": false,
     "input": [
      "who[-4:-1]"
     ],
     "language": "python",
     "metadata": {},
     "outputs": [
      {
       "metadata": {},
       "output_type": "pyout",
       "prompt_number": 44,
       "text": [
        "'orl'"
       ]
      }
     ],
     "prompt_number": 44
    },
    {
     "cell_type": "markdown",
     "metadata": {},
     "source": [
      "Adem\u00e1s, los indices son opcionales si corresponden con el principio y final respectivamente."
     ]
    },
    {
     "cell_type": "code",
     "collapsed": false,
     "input": [
      "who[:4]"
     ],
     "language": "python",
     "metadata": {},
     "outputs": [
      {
       "metadata": {},
       "output_type": "pyout",
       "prompt_number": 45,
       "text": [
        "'Worl'"
       ]
      }
     ],
     "prompt_number": 45
    },
    {
     "cell_type": "code",
     "collapsed": false,
     "input": [
      "who[2:]"
     ],
     "language": "python",
     "metadata": {},
     "outputs": []
    },
    {
     "cell_type": "markdown",
     "metadata": {},
     "source": [
      "Un tercer \u00edndice permite adem\u00e1s indicar un \"paso\", es decir, la cantidad de elementos que debe saltar. Y ese paso puede ser negativo."
     ]
    },
    {
     "cell_type": "code",
     "collapsed": false,
     "input": [
      "(what + who)[2:9:2]"
     ],
     "language": "python",
     "metadata": {},
     "outputs": [
      {
       "metadata": {},
       "output_type": "pyout",
       "prompt_number": 46,
       "text": [
        "'lool'"
       ]
      }
     ],
     "prompt_number": 46
    },
    {
     "cell_type": "code",
     "collapsed": false,
     "input": [
      "(what + who)[::-1]"
     ],
     "language": "python",
     "metadata": {},
     "outputs": [
      {
       "metadata": {},
       "output_type": "pyout",
       "prompt_number": 47,
       "text": [
        "'dlroWolleH'"
       ]
      }
     ],
     "prompt_number": 47
    },
    {
     "cell_type": "markdown",
     "metadata": {},
     "source": [
      "Las cadenas son tipos inmutables, es decir, no se puede modificar su valor:"
     ]
    },
    {
     "cell_type": "code",
     "collapsed": false,
     "input": [
      "who[2] = \"K\""
     ],
     "language": "python",
     "metadata": {},
     "outputs": [
      {
       "ename": "TypeError",
       "evalue": "'str' object does not support item assignment",
       "output_type": "pyerr",
       "traceback": [
        "\u001b[0;31m---------------------------------------------------------------------------\u001b[0m\n\u001b[0;31mTypeError\u001b[0m                                 Traceback (most recent call last)",
        "\u001b[0;32m<ipython-input-48-cb3eb96f633e>\u001b[0m in \u001b[0;36m<module>\u001b[0;34m()\u001b[0m\n\u001b[0;32m----> 1\u001b[0;31m \u001b[0mwho\u001b[0m\u001b[0;34m[\u001b[0m\u001b[0;36m2\u001b[0m\u001b[0;34m]\u001b[0m \u001b[0;34m=\u001b[0m \u001b[0;34m\"K\"\u001b[0m\u001b[0;34m\u001b[0m\u001b[0m\n\u001b[0m",
        "\u001b[0;31mTypeError\u001b[0m: 'str' object does not support item assignment"
       ]
      }
     ],
     "prompt_number": 48
    },
    {
     "cell_type": "markdown",
     "metadata": {},
     "source": [
      "### Tuplas (**tuple**)\n",
      "\n",
      "Las tuplas son agrupaciones de valores de tipos cualesquiera. Se representan como una secuencia entre par\u00e9ntesis con los valores separados por comas:"
     ]
    },
    {
     "cell_type": "code",
     "collapsed": false,
     "input": [
      "t1 = (1, \"a\", 3.2)"
     ],
     "language": "python",
     "metadata": {},
     "outputs": [],
     "prompt_number": 49
    },
    {
     "cell_type": "markdown",
     "metadata": {},
     "source": [
      "Son indexables igual que las cadenas y soportan los mismo operadores de slicing, y tambi\u00e9n son inmutables."
     ]
    },
    {
     "cell_type": "code",
     "collapsed": false,
     "input": [
      "t1[1]"
     ],
     "language": "python",
     "metadata": {},
     "outputs": [
      {
       "metadata": {},
       "output_type": "pyout",
       "prompt_number": 50,
       "text": [
        "'a'"
       ]
      }
     ],
     "prompt_number": 50
    },
    {
     "cell_type": "markdown",
     "metadata": {},
     "source": [
      "Se pueden crear a partir de varias variables independientes (empaquetar):"
     ]
    },
    {
     "cell_type": "code",
     "collapsed": false,
     "input": [
      "text = \"hi\"\n",
      "num = 42\n",
      "t2 = text, num\n",
      "t2"
     ],
     "language": "python",
     "metadata": {},
     "outputs": [
      {
       "metadata": {},
       "output_type": "pyout",
       "prompt_number": 51,
       "text": [
        "('hi', 42)"
       ]
      }
     ],
     "prompt_number": 51
    },
    {
     "cell_type": "markdown",
     "metadata": {},
     "source": [
      "Y tambi\u00e9n obtener los valores por separado (desempaquetar). Esto es interesante porque gracias a las tuplas, las funciones Python pueden devolver varios valores:"
     ]
    },
    {
     "cell_type": "code",
     "collapsed": false,
     "input": [
      "a, b = t2\n",
      "a"
     ],
     "language": "python",
     "metadata": {},
     "outputs": [
      {
       "metadata": {},
       "output_type": "pyout",
       "prompt_number": 52,
       "text": [
        "'hi'"
       ]
      }
     ],
     "prompt_number": 52
    },
    {
     "cell_type": "markdown",
     "metadata": {},
     "source": [
      "### Listas (**list**)\n",
      "\n",
      "Las listas son muy similares a las tuplas. Las listas se representan mediante valores entre corchetes. La diferencia m\u00e1s importante es que las listas son *mutables*:"
     ]
    },
    {
     "cell_type": "code",
     "collapsed": false,
     "input": [
      "x = [\"hi\", 3, 1j]\n",
      "x[1] = \"other\"\n",
      "x"
     ],
     "language": "python",
     "metadata": {},
     "outputs": [
      {
       "metadata": {},
       "output_type": "pyout",
       "prompt_number": 53,
       "text": [
        "['hi', 'other', 1j]"
       ]
      }
     ],
     "prompt_number": 53
    },
    {
     "cell_type": "code",
     "collapsed": false,
     "input": [
      "x.append(1000.)\n",
      "x"
     ],
     "language": "python",
     "metadata": {},
     "outputs": [
      {
       "metadata": {},
       "output_type": "pyout",
       "prompt_number": 54,
       "text": [
        "['hi', 'other', 1j, 1000.0]"
       ]
      }
     ],
     "prompt_number": 54
    },
    {
     "cell_type": "markdown",
     "metadata": {},
     "source": [
      "### Diccionarios (**dict**)\n",
      "Los tablas asociativas, similars a los _hash-maps_ de otros lenguajes. Tanto las claves como los vallores pueden ser de cualquier tipo. La \u00fanica limitaci\u00f3n es que el tipo de la clave debe ser _hashable_. Los diccionarios se representan como pares clave:valor entre corchetes."
     ]
    },
    {
     "cell_type": "code",
     "collapsed": false,
     "input": [
      "sizes = {\"big\":100, \"medium\":50, \"small\":10, 3: 10}\n",
      "sizes[\"big\"]"
     ],
     "language": "python",
     "metadata": {},
     "outputs": [
      {
       "metadata": {},
       "output_type": "pyout",
       "prompt_number": 55,
       "text": [
        "100"
       ]
      }
     ],
     "prompt_number": 55
    },
    {
     "cell_type": "markdown",
     "metadata": {},
     "source": [
      "Los diccionares tambi\u00e9n son mutables e iterables (por claves), pero no permiten hacer slicing:"
     ]
    },
    {
     "cell_type": "code",
     "collapsed": false,
     "input": [
      "for key in sizes:\n",
      "    print(key)"
     ],
     "language": "python",
     "metadata": {},
     "outputs": [
      {
       "output_type": "stream",
       "stream": "stdout",
       "text": [
        "small\n",
        "big\n",
        "medium\n",
        "3\n"
       ]
      }
     ],
     "prompt_number": 56
    },
    {
     "cell_type": "code",
     "collapsed": false,
     "input": [
      "sizes[\"big\"] = 200\n",
      "sizes"
     ],
     "language": "python",
     "metadata": {},
     "outputs": [
      {
       "metadata": {},
       "output_type": "pyout",
       "prompt_number": 57,
       "text": [
        "{3: 10, 'big': 200, 'medium': 50, 'small': 10}"
       ]
      }
     ],
     "prompt_number": 57
    },
    {
     "cell_type": "markdown",
     "metadata": {},
     "source": [
      "### Conjuntos (**set**)\n",
      "\n",
      "Los conjuntos son agrupaciones de valores de tipos cualesquiera sin ning\u00fan criterio de orden. El conjunto no puede contener dos valores que sean considerados equivalentes. Se representa como una secuencias de valores entre llaves."
     ]
    },
    {
     "cell_type": "code",
     "collapsed": false,
     "input": [
      "s = set()\n",
      "s.add(\"letter\")\n",
      "s.add(4.0)\n",
      "s"
     ],
     "language": "python",
     "metadata": {},
     "outputs": [
      {
       "metadata": {},
       "output_type": "pyout",
       "prompt_number": 58,
       "text": [
        "{4.0, 'letter'}"
       ]
      }
     ],
     "prompt_number": 58
    },
    {
     "cell_type": "markdown",
     "metadata": {},
     "source": [
      "El conjunto soporta las t\u00edpicas operaciones algebr\u00e1icas como uni\u00f3n, intersecci\u00f3n, diferencia, etc."
     ]
    },
    {
     "cell_type": "code",
     "collapsed": false,
     "input": [
      "set([1, 2]).union(set([2, 3]))"
     ],
     "language": "python",
     "metadata": {},
     "outputs": [
      {
       "metadata": {},
       "output_type": "pyout",
       "prompt_number": 59,
       "text": [
        "{1, 2, 3}"
       ]
      }
     ],
     "prompt_number": 59
    },
    {
     "cell_type": "code",
     "collapsed": false,
     "input": [
      "set([1, 2]).intersection(set([2, 3]))"
     ],
     "language": "python",
     "metadata": {},
     "outputs": [
      {
       "metadata": {},
       "output_type": "pyout",
       "prompt_number": 60,
       "text": [
        "{2}"
       ]
      }
     ],
     "prompt_number": 60
    },
    {
     "cell_type": "code",
     "collapsed": false,
     "input": [
      "set([1, 2]).difference(set([2, 3]))"
     ],
     "language": "python",
     "metadata": {},
     "outputs": [
      {
       "metadata": {},
       "output_type": "pyout",
       "prompt_number": 61,
       "text": [
        "{1}"
       ]
      }
     ],
     "prompt_number": 61
    }
   ],
   "metadata": {}
  }
 ]
}