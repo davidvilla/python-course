{
 "metadata": {
  "name": "",
  "signature": "sha256:ebdf978855668b788bb8bc06eae08af0c64dd3b1d8242c6a04529a954901e2f7"
 },
 "nbformat": 3,
 "nbformat_minor": 0,
 "worksheets": [
  {
   "cells": [
    {
     "cell_type": "markdown",
     "metadata": {},
     "source": [
      "## Creando un iterador"
     ]
    },
    {
     "cell_type": "code",
     "collapsed": false,
     "input": [
      "class ThingIterator(object):\n",
      "    def __init__(self, thing):\n",
      "        self.thing = thing\n",
      "        self.index = 0\n",
      "    \n",
      "    def __iter__(self):\n",
      "        return self\n",
      "    \n",
      "    def next(self):\n",
      "        if self.index >= len(self.thing.data):\n",
      "            raise StopIteration\n",
      "            \n",
      "        retval = self.thing.data[self.index]\n",
      "        self.index += 1\n",
      "        return retval ** 2\n",
      "\n",
      "class Thing(object):\n",
      "    def __init__(self, data):\n",
      "        self.data = data\n",
      "        \n",
      "    def __iter__(self):\n",
      "        return ThingIterator(self)\n",
      "    \n",
      "    def iter_squares(self):\n",
      "        return ThingIterator(self)\n",
      "        \n",
      "def iter_squares(x):\n",
      "    return x.iter_squares()\n",
      "    \n",
      "t = Thing([1, 2, 3])\n",
      "for i in t.iter_squares():\n",
      "    print(i)"
     ],
     "language": "python",
     "metadata": {},
     "outputs": [
      {
       "output_type": "stream",
       "stream": "stdout",
       "text": [
        "1\n",
        "4\n",
        "9\n"
       ]
      }
     ],
     "prompt_number": 2
    },
    {
     "cell_type": "markdown",
     "metadata": {},
     "source": [
      "## `yield`"
     ]
    },
    {
     "cell_type": "markdown",
     "metadata": {},
     "source": [
      "## itertools"
     ]
    }
   ],
   "metadata": {}
  }
 ]
}