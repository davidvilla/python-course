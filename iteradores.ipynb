{
 "metadata": {
  "name": "",
  "signature": "sha256:aecedc9996af45fc57408c5a0e8e47ebf9a40244087ac323522ec0b9556afa64"
 },
 "nbformat": 3,
 "nbformat_minor": 0,
 "worksheets": [
  {
   "cells": [
    {
     "cell_type": "markdown",
     "metadata": {},
     "source": [
      "## Creando un iterador"
     ]
    },
    {
     "cell_type": "code",
     "collapsed": false,
     "input": [
      "class ThingIterator(object):\n",
      "    def __init__(self, thing):\n",
      "        self.thing = thing\n",
      "        self.index = 0\n",
      "    \n",
      "    def __iter__(self):\n",
      "        return self\n",
      "    \n",
      "    def next(self):\n",
      "        if self.index >= len(self.thing.data):\n",
      "            raise StopIteration\n",
      "            \n",
      "        retval = self.thing.data[self.index]\n",
      "        self.index += 1\n",
      "        return retval ** 2\n",
      "    \n",
      "    # python3 way\n",
      "    __next__ = next \n",
      "\n",
      "class Thing(object):\n",
      "    def __init__(self, data):\n",
      "        self.data = data\n",
      "        \n",
      "    def __iter__(self):\n",
      "        return ThingIterator(self)\n",
      "    \n",
      "    def iter_squares(self):\n",
      "        return ThingIterator(self)\n",
      "        \n",
      "def iter_squares(x):\n",
      "    return x.iter_squares()\n",
      "    \n",
      "t = Thing([1, 2, 3])\n",
      "for x in t.iter_squares():\n",
      "    print(x)"
     ],
     "language": "python",
     "metadata": {},
     "outputs": [
      {
       "output_type": "stream",
       "stream": "stdout",
       "text": [
        "1\n",
        "4\n",
        "9\n"
       ]
      }
     ],
     "prompt_number": 5
    },
    {
     "cell_type": "markdown",
     "metadata": {},
     "source": [
      "## Generadores\n",
      "\n",
      "Los generadores son funciones que se comportan como iteradores, evitando al programador escribir el c\u00f3digo de soporte que hemos visto en la secci\u00f3n anterior. Esto es gracias a la palabra reservada `yield` que permite al generador emitir un valor sin terminar."
     ]
    },
    {
     "cell_type": "code",
     "collapsed": false,
     "input": [
      "def more():\n",
      "    yield 20\n",
      "    yield 300\n",
      "    yield 4000\n",
      "    \n",
      "for x in more():\n",
      "    print(x)"
     ],
     "language": "python",
     "metadata": {},
     "outputs": [
      {
       "output_type": "stream",
       "stream": "stdout",
       "text": [
        "20\n",
        "300\n",
        "4000\n"
       ]
      }
     ],
     "prompt_number": 24
    },
    {
     "cell_type": "code",
     "collapsed": false,
     "input": [
      "def get_squares(seq):\n",
      "    for x in seq:\n",
      "        yield x ** 2\n",
      "        \n",
      "for x in get_squares([1, 2, 3]):\n",
      "    print(x)"
     ],
     "language": "python",
     "metadata": {},
     "outputs": [
      {
       "output_type": "stream",
       "stream": "stdout",
       "text": [
        "1\n",
        "4\n",
        "9\n"
       ]
      }
     ],
     "prompt_number": 7
    },
    {
     "cell_type": "code",
     "collapsed": false,
     "input": [
      "for x in get_squares(xrange(1, 4)):\n",
      "    print(x)"
     ],
     "language": "python",
     "metadata": {},
     "outputs": [
      {
       "output_type": "stream",
       "stream": "stdout",
       "text": [
        "1\n",
        "4\n",
        "9\n"
       ]
      }
     ],
     "prompt_number": 9
    },
    {
     "cell_type": "code",
     "collapsed": false,
     "input": [
      "gen = get_squares([1, 2, 3])\n",
      "print(gen)\n",
      "print(gen.next())\n",
      "print(gen.next())"
     ],
     "language": "python",
     "metadata": {},
     "outputs": [
      {
       "output_type": "stream",
       "stream": "stdout",
       "text": [
        "<generator object get_squares at 0x7f4db07f54b0>\n",
        "1\n",
        "4\n"
       ]
      }
     ],
     "prompt_number": 14
    },
    {
     "cell_type": "markdown",
     "metadata": {},
     "source": [
      "### _generator expressions_\n",
      "\n",
      "Son equivalentes la comprensi\u00f3n de listas para generadores."
     ]
    },
    {
     "cell_type": "code",
     "collapsed": false,
     "input": [
      "gen = (x ** 2 for x in [1, 2, 3])\n",
      "print(gen)"
     ],
     "language": "python",
     "metadata": {},
     "outputs": [
      {
       "output_type": "stream",
       "stream": "stdout",
       "text": [
        "<generator object <genexpr> at 0x7f4db07f54b0>\n"
       ]
      }
     ],
     "prompt_number": 16
    },
    {
     "cell_type": "code",
     "collapsed": false,
     "input": [
      "sum(x**2 for x in xrange(100) if x % 2)"
     ],
     "language": "python",
     "metadata": {},
     "outputs": [
      {
       "metadata": {},
       "output_type": "pyout",
       "prompt_number": 19,
       "text": [
        "166650"
       ]
      }
     ],
     "prompt_number": 19
    },
    {
     "cell_type": "markdown",
     "metadata": {},
     "source": [
      "## `itertools`\n",
      "\n",
      "Es un m\u00f3dulo con unas cuantas utilidades interesantes implementadas como iteradores. Aqu\u00ed vemos algunas:"
     ]
    },
    {
     "cell_type": "code",
     "collapsed": false,
     "input": [
      "import itertools as it"
     ],
     "language": "python",
     "metadata": {},
     "outputs": [],
     "prompt_number": 4
    },
    {
     "cell_type": "code",
     "collapsed": false,
     "input": [
      "x = it.count(5, 3)\n",
      "print(x.next())\n",
      "print(x.next())\n",
      "print(x.next())\n",
      "print(x.next())"
     ],
     "language": "python",
     "metadata": {},
     "outputs": [
      {
       "output_type": "stream",
       "stream": "stdout",
       "text": [
        "5\n",
        "8\n",
        "11\n",
        "14\n"
       ]
      }
     ],
     "prompt_number": 5
    },
    {
     "cell_type": "code",
     "collapsed": false,
     "input": [
      "x = it.cycle([2, 4, 8])\n",
      "print(x.next())\n",
      "print(x.next())\n",
      "print(x.next())\n",
      "print(x.next())"
     ],
     "language": "python",
     "metadata": {},
     "outputs": [
      {
       "output_type": "stream",
       "stream": "stdout",
       "text": [
        "2\n",
        "4\n",
        "8\n",
        "2\n"
       ]
      }
     ],
     "prompt_number": 6
    },
    {
     "cell_type": "code",
     "collapsed": false,
     "input": [
      "for x in it.repeat(\"a\", 5):\n",
      "    print(x)"
     ],
     "language": "python",
     "metadata": {},
     "outputs": [
      {
       "output_type": "stream",
       "stream": "stdout",
       "text": [
        "a\n",
        "a\n",
        "a\n",
        "a\n",
        "a\n"
       ]
      }
     ],
     "prompt_number": 7
    },
    {
     "cell_type": "code",
     "collapsed": false,
     "input": [
      "for x in it.chain(\"foo\", \"bar\", \"bizz\"):\n",
      "    print(x)"
     ],
     "language": "python",
     "metadata": {},
     "outputs": [
      {
       "output_type": "stream",
       "stream": "stdout",
       "text": [
        "f\n",
        "o\n",
        "o\n",
        "b\n",
        "a\n",
        "r\n",
        "b\n",
        "i\n",
        "z\n",
        "z\n"
       ]
      }
     ],
     "prompt_number": 8
    },
    {
     "cell_type": "markdown",
     "metadata": {},
     "source": [
      "`imap()` e `ifilter()` son versiones _lazy_ de `map()` y `filter()`."
     ]
    },
    {
     "cell_type": "code",
     "collapsed": false,
     "input": [
      "for x in it.takewhile(lambda x: x<5, [1,4,6,4,1]):\n",
      "    print(x)"
     ],
     "language": "python",
     "metadata": {},
     "outputs": [
      {
       "output_type": "stream",
       "stream": "stdout",
       "text": [
        "1\n",
        "4\n"
       ]
      }
     ],
     "prompt_number": 9
    },
    {
     "cell_type": "code",
     "collapsed": false,
     "input": [
      "for x in it.dropwhile(lambda x: x<5, [1,4,6,4,1]):\n",
      "    print(x)"
     ],
     "language": "python",
     "metadata": {},
     "outputs": [
      {
       "output_type": "stream",
       "stream": "stdout",
       "text": [
        "6\n",
        "4\n",
        "1\n"
       ]
      }
     ],
     "prompt_number": 12
    },
    {
     "cell_type": "code",
     "collapsed": false,
     "input": [
      "print([str.join('', list(x)) for x in it.product('ABCD', repeat=2)])"
     ],
     "language": "python",
     "metadata": {},
     "outputs": [
      {
       "output_type": "stream",
       "stream": "stdout",
       "text": [
        "['AA', 'AB', 'AC', 'AD', 'BA', 'BB', 'BC', 'BD', 'CA', 'CB', 'CC', 'CD', 'DA', 'DB', 'DC', 'DD']\n"
       ]
      }
     ],
     "prompt_number": 16
    },
    {
     "cell_type": "code",
     "collapsed": false,
     "input": [
      "for i,j in it.product(range(5), repeat=2):\n",
      "    print(i, j)"
     ],
     "language": "python",
     "metadata": {},
     "outputs": [
      {
       "output_type": "stream",
       "stream": "stdout",
       "text": [
        "(0, 0)\n",
        "(0, 1)\n",
        "(0, 2)\n",
        "(0, 3)\n",
        "(0, 4)\n",
        "(1, 0)\n",
        "(1, 1)\n",
        "(1, 2)\n",
        "(1, 3)\n",
        "(1, 4)\n",
        "(2, 0)\n",
        "(2, 1)\n",
        "(2, 2)\n",
        "(2, 3)\n",
        "(2, 4)\n",
        "(3, 0)\n",
        "(3, 1)\n",
        "(3, 2)\n",
        "(3, 3)\n",
        "(3, 4)\n",
        "(4, 0)\n",
        "(4, 1)\n",
        "(4, 2)\n",
        "(4, 3)\n",
        "(4, 4)\n"
       ]
      }
     ],
     "prompt_number": 17
    },
    {
     "cell_type": "code",
     "collapsed": false,
     "input": [],
     "language": "python",
     "metadata": {},
     "outputs": []
    }
   ],
   "metadata": {}
  }
 ]
}