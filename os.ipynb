{
 "metadata": {
  "name": "",
  "signature": "sha256:985eee7a9ac153d4112f13b0068b02752214cabba01ea82d670954ebcc20ec8e"
 },
 "nbformat": 3,
 "nbformat_minor": 0,
 "worksheets": [
  {
   "cells": [
    {
     "cell_type": "markdown",
     "metadata": {},
     "source": [
      "# Servicios del sistema operativo"
     ]
    },
    {
     "cell_type": "markdown",
     "metadata": {},
     "source": [
      "La librer\u00eda est\u00e1ndar de Python (en particular el m\u00f3dulo [`os`](https://docs.python.org/2/library/os.html)) es en muchos sentidos una adaptaci\u00f3n de las llamadas al sistema [POSIX](http://es.wikipedia.org/wiki/POSIX). Hasta tal punto que la propia documentaci\u00f3n hace referencia en varias funciones al manual en l\u00ednea (p\u00e1ginas man) equivalentes."
     ]
    },
    {
     "cell_type": "markdown",
     "metadata": {},
     "source": [
      "## L\u00ednea de comandos\n",
      "\n",
      "Los argumentos en l\u00ednea de comandos est\u00e1 disponibles en una lista de cadenas: `sys.argv`. El m\u00f3dulo \"oficial\" para tratamiento de la l\u00ednea de comando es [`argparse`](https://docs.python.org/dev/library/argparse.html). "
     ]
    },
    {
     "cell_type": "code",
     "collapsed": false,
     "input": [
      "import sys\n",
      "sys.argv"
     ],
     "language": "python",
     "metadata": {},
     "outputs": [
      {
       "metadata": {},
       "output_type": "pyout",
       "prompt_number": 14,
       "text": [
        "['-c',\n",
        " '-f',\n",
        " '/home/david/.ipython/profile_default/security/kernel-6e8291b9-a0ec-4663-b471-6df27d548bb5.json',\n",
        " \"--IPKernelApp.parent_appname='ipython-notebook'\",\n",
        " '--profile-dir',\n",
        " '/home/david/.ipython/profile_default',\n",
        " '--parent=1']"
       ]
      }
     ],
     "prompt_number": 14
    },
    {
     "cell_type": "code",
     "collapsed": false,
     "input": [
      "import argparse\n",
      "parser = argparse.ArgumentParser()\n",
      "parser.add_argument(\"--verbosity\", help=\"increase output verbosity\")\n",
      "args = parser.parse_args()\n",
      "if args.verbosity:\n",
      "    print(\"verbosity turned on\")"
     ],
     "language": "python",
     "metadata": {},
     "outputs": [
      {
       "output_type": "stream",
       "stream": "stderr",
       "text": [
        "usage: -c [-h] [--verbosity VERBOSITY]\n",
        "-c: error: unrecognized arguments: -f /home/david/.ipython/profile_default/security/kernel-6e8291b9-a0ec-4663-b471-6df27d548bb5.json --IPKernelApp.parent_appname='ipython-notebook' --profile-dir /home/david/.ipython/profile_default --parent=1\n"
       ]
      },
      {
       "ename": "SystemExit",
       "evalue": "2",
       "output_type": "pyerr",
       "traceback": [
        "An exception has occurred, use %tb to see the full traceback.\n",
        "\u001b[0;31mSystemExit\u001b[0m\u001b[0;31m:\u001b[0m 2\n"
       ]
      },
      {
       "output_type": "stream",
       "stream": "stderr",
       "text": [
        "To exit: use 'exit', 'quit', or Ctrl-D.\n"
       ]
      }
     ],
     "prompt_number": 12
    },
    {
     "cell_type": "markdown",
     "metadata": {},
     "source": [
      "## Informaci\u00f3n b\u00e1sica"
     ]
    },
    {
     "cell_type": "code",
     "collapsed": false,
     "input": [
      "import os\n",
      "os.name"
     ],
     "language": "python",
     "metadata": {},
     "outputs": [
      {
       "metadata": {},
       "output_type": "pyout",
       "prompt_number": 2,
       "text": [
        "'posix'"
       ]
      }
     ],
     "prompt_number": 2
    },
    {
     "cell_type": "markdown",
     "metadata": {},
     "source": [
      "## Variables de entorno"
     ]
    },
    {
     "cell_type": "code",
     "collapsed": true,
     "input": [
      "os.environ"
     ],
     "language": "python",
     "metadata": {},
     "outputs": [
      {
       "metadata": {},
       "output_type": "pyout",
       "prompt_number": 3,
       "text": [
        "{'WINDOWID': '29360134', 'LESS': '-rMRg', 'ALIOTH_USER': 'davidvilla-guest', 'GJS_DEBUG_OUTPUT': 'stderr', 'LESSOPEN': '| /usr/bin/lesspipe %s', 'LOGNAME': 'david', 'USER': 'david', 'HOME': '/home/david', 'XDG_VTNR': '7', 'PATH': '/home/david/repos/omnetpp-4.2.1/bin:/home/david/bin:/home/david/bin:/usr/local/bin:/usr/bin:/bin:/usr/local/games:/usr/games', 'QUILT_COLORS': 'diff_hdr=1;32:diff_add=1;34:diff_rem=1;31:diff_hunk=1;33:diff_ctx=35:diff_cctx=33', 'DEBFULLNAME': 'David Villa Alises', 'DISPLAY': ':0', 'GLOBIGNORE': '.svn:.cvs:.hg', 'SSH_AGENT_PID': '1770', 'LANG': 'es_ES.UTF-8', 'TERM': 'xterm-color', 'SHELL': '/bin/bash', 'XAUTHORITY': '/var/run/gdm3/auth-for-david-IiRjc1/database', 'SESSION_MANAGER': 'local/amy:@/tmp/.ICE-unix/1711,unix/amy:/tmp/.ICE-unix/1711', 'SHLVL': '1', 'GNOME_DESKTOP_SESSION_ID': 'this-is-deprecated', 'WINDOWPATH': '7', 'EDITOR': 'jed', 'QUILT_PATCHES': 'debian/patches', 'DEBEMAIL': 'David.Villa@gmail.com', 'USERNAME': 'david', 'QUILT_REFRESH_ARGS': '-p ab --no-timestamps --no-index', 'XDG_RUNTIME_DIR': '/run/user/1000', 'PYTHONPATH': '/home/david/repos/qoogol', 'COMP_WORDBREAKS': ' \\t\\n\"\\'><;|&(:', 'VTE_VERSION': '3602', 'SSH_AUTH_SOCK': '/run/user/1000/keyring/ssh', 'GDMSESSION': 'default', 'DEBREPO_URL': 'arcorepo@babel.esi.uclm.es/var/arcorepo', 'GIT_PAGER': 'cat', 'QUILT_PATCH_OPTS': '--reject-format=unified', 'XDG_SESSION_ID': '1', 'DBUS_SESSION_BUS_ADDRESS': 'unix:abstract=/tmp/dbus-5bY9II4nes,guid=a8fbbb2fa446ab1388d433c453ba4d91', '_': '/usr/bin/ipython', 'DESKTOP_SESSION': 'default', 'GPG_AGENT_INFO': '/run/user/1000/keyring/gpg:0:1', 'LESSCLOSE': '/usr/bin/lesspipe %s %s', 'DEBSIGN_KEYID': '201B8868', 'OLDPWD': '/home/david', 'GDM_LANG': 'es_ES.UTF-8', 'CLICOLOR': '1', 'HISTCONTROL': 'ignoreboth', 'XDG_DATA_DIRS': '/usr/share/gnome:/usr/local/share/:/usr/share/', 'PWD': '/home/david/repos/python-intro', 'DJANGO_SETTINGS_MODULE': 'settings', 'FIGNORE': '.svn:.cvs:.hg', 'COLORTERM': 'gnome-terminal', 'XDG_MENU_PREFIX': 'gnome-', 'LS_COLORS': 'rs=0:di=01;34:ln=01;36:mh=00:pi=40;33:so=01;35:do=01;35:bd=40;33;01:cd=40;33;01:or=40;31;01:su=37;41:sg=30;43:ca=30;41:tw=30;42:ow=34;42:st=37;44:ex=01;32:*.tar=01;31:*.tgz=01;31:*.arj=01;31:*.taz=01;31:*.lzh=01;31:*.lzma=01;31:*.tlz=01;31:*.txz=01;31:*.zip=01;31:*.z=01;31:*.Z=01;31:*.dz=01;31:*.gz=01;31:*.lz=01;31:*.xz=01;31:*.bz2=01;31:*.bz=01;31:*.tbz=01;31:*.tbz2=01;31:*.tz=01;31:*.deb=01;31:*.rpm=01;31:*.jar=01;31:*.war=01;31:*.ear=01;31:*.sar=01;31:*.rar=01;31:*.ace=01;31:*.zoo=01;31:*.cpio=01;31:*.7z=01;31:*.rz=01;31:*.jpg=01;35:*.jpeg=01;35:*.gif=01;35:*.bmp=01;35:*.pbm=01;35:*.pgm=01;35:*.ppm=01;35:*.tga=01;35:*.xbm=01;35:*.xpm=01;35:*.tif=01;35:*.tiff=01;35:*.png=01;35:*.svg=01;35:*.svgz=01;35:*.mng=01;35:*.pcx=01;35:*.mov=01;35:*.mpg=01;35:*.mpeg=01;35:*.m2v=01;35:*.mkv=01;35:*.webm=01;35:*.ogm=01;35:*.mp4=01;35:*.m4v=01;35:*.mp4v=01;35:*.vob=01;35:*.qt=01;35:*.nuv=01;35:*.wmv=01;35:*.asf=01;35:*.rm=01;35:*.rmvb=01;35:*.flc=01;35:*.avi=01;35:*.fli=01;35:*.flv=01;35:*.gl=01;35:*.dl=01;35:*.xcf=01;35:*.xwd=01;35:*.yuv=01;35:*.cgm=01;35:*.emf=01;35:*.axv=01;35:*.anx=01;35:*.ogv=01;35:*.ogx=01;35:*.aac=00;36:*.au=00;36:*.flac=00;36:*.mid=00;36:*.midi=00;36:*.mka=00;36:*.mp3=00;36:*.mpc=00;36:*.ogg=00;36:*.ra=00;36:*.wav=00;36:*.axa=00;36:*.oga=00;36:*.spx=00;36:*.xspf=00;36:', 'PAGER': 'cat', 'GJS_DEBUG_TOPICS': 'JS ERROR;JS LOG', 'QUILT_DIFF_ARGS': '-p ab --no-timestamps --no-index --color=auto', 'XDG_SEAT': 'seat0'}"
       ]
      }
     ],
     "prompt_number": 3
    },
    {
     "cell_type": "code",
     "collapsed": false,
     "input": [
      "os.getenv('SHELL')"
     ],
     "language": "python",
     "metadata": {},
     "outputs": [
      {
       "metadata": {},
       "output_type": "pyout",
       "prompt_number": 4,
       "text": [
        "'/bin/bash'"
       ]
      }
     ],
     "prompt_number": 4
    },
    {
     "cell_type": "code",
     "collapsed": false,
     "input": [
      "os.putenv('PATH', '/usr/bin:/usr/sbin:/usr/local/bin')"
     ],
     "language": "python",
     "metadata": {},
     "outputs": [],
     "prompt_number": 37
    },
    {
     "cell_type": "code",
     "collapsed": false,
     "input": [
      "os.unsetenv('FOO')"
     ],
     "language": "python",
     "metadata": {},
     "outputs": [],
     "prompt_number": 38
    },
    {
     "cell_type": "markdown",
     "metadata": {},
     "source": [
      "## Sistema de ficheros"
     ]
    },
    {
     "cell_type": "code",
     "collapsed": false,
     "input": [
      "os.chdir('/tmp/')"
     ],
     "language": "python",
     "metadata": {},
     "outputs": [],
     "prompt_number": 4
    },
    {
     "cell_type": "code",
     "collapsed": false,
     "input": [
      "os.getcwd()"
     ],
     "language": "python",
     "metadata": {},
     "outputs": [
      {
       "metadata": {},
       "output_type": "pyout",
       "prompt_number": 5,
       "text": [
        "'/tmp'"
       ]
      }
     ],
     "prompt_number": 5
    },
    {
     "cell_type": "markdown",
     "metadata": {},
     "source": [
      "Crear un directorio:"
     ]
    },
    {
     "cell_type": "code",
     "collapsed": false,
     "input": [
      "os.mkdir('/tmp/foo-dir')"
     ],
     "language": "python",
     "metadata": {},
     "outputs": [],
     "prompt_number": 33
    },
    {
     "cell_type": "markdown",
     "metadata": {},
     "source": [
      "Borrar un directorio:"
     ]
    },
    {
     "cell_type": "code",
     "collapsed": false,
     "input": [
      "os.rmdir('/tmp/foo-dir')"
     ],
     "language": "python",
     "metadata": {},
     "outputs": [],
     "prompt_number": 32
    },
    {
     "cell_type": "code",
     "collapsed": false,
     "input": [
      "os.stat('/etc/motd')"
     ],
     "language": "python",
     "metadata": {},
     "outputs": [
      {
       "metadata": {},
       "output_type": "pyout",
       "prompt_number": 11,
       "text": [
        "posix.stat_result(st_mode=33188, st_ino=131214, st_dev=2054L, st_nlink=1, st_uid=0, st_gid=0, st_size=286, st_atime=1404899737, st_mtime=1390906391, st_ctime=1394548950)"
       ]
      }
     ],
     "prompt_number": 11
    },
    {
     "cell_type": "markdown",
     "metadata": {},
     "source": [
      "Crear una _pipe__:"
     ]
    },
    {
     "cell_type": "code",
     "collapsed": false,
     "input": [
      "os.pipe()"
     ],
     "language": "python",
     "metadata": {},
     "outputs": [
      {
       "metadata": {},
       "output_type": "pyout",
       "prompt_number": 14,
       "text": [
        "(43, 44)"
       ]
      }
     ],
     "prompt_number": 14
    },
    {
     "cell_type": "markdown",
     "metadata": {},
     "source": [
      "Crear un FIFO (una _named pipe_):"
     ]
    },
    {
     "cell_type": "code",
     "collapsed": false,
     "input": [
      "os.mkfifo('/tmp/fifo')"
     ],
     "language": "python",
     "metadata": {},
     "outputs": [],
     "prompt_number": 27
    },
    {
     "cell_type": "markdown",
     "metadata": {},
     "source": [
      "Comprobar el acceso a un fichero para el usuario efectivo:"
     ]
    },
    {
     "cell_type": "code",
     "collapsed": false,
     "input": [
      "os.access('/etc/motd', os.R_OK)"
     ],
     "language": "python",
     "metadata": {},
     "outputs": [
      {
       "metadata": {},
       "output_type": "pyout",
       "prompt_number": 15,
       "text": [
        "True"
       ]
      }
     ],
     "prompt_number": 15
    },
    {
     "cell_type": "markdown",
     "metadata": {},
     "source": [
      "Cambiar los permisos de acceso a un fichero:"
     ]
    },
    {
     "cell_type": "code",
     "collapsed": false,
     "input": [
      "!touch /tmp/foo"
     ],
     "language": "python",
     "metadata": {},
     "outputs": [],
     "prompt_number": 17
    },
    {
     "cell_type": "code",
     "collapsed": false,
     "input": [
      "import stat\n",
      "os.chmod('/tmp/foo', stat.S_IWUSR)"
     ],
     "language": "python",
     "metadata": {},
     "outputs": [],
     "prompt_number": 20
    },
    {
     "cell_type": "markdown",
     "metadata": {},
     "source": [
      "Cambiar el propietario de un fichero:"
     ]
    },
    {
     "cell_type": "code",
     "collapsed": false,
     "input": [
      "uid = os.getuid()\n",
      "gid = os.getgid()\n",
      "os.chown('/tmp/foo', uid, gid)"
     ],
     "language": "python",
     "metadata": {},
     "outputs": [],
     "prompt_number": 22
    },
    {
     "cell_type": "markdown",
     "metadata": {},
     "source": [
      "Crear un enlace \"duro\":"
     ]
    },
    {
     "cell_type": "code",
     "collapsed": false,
     "input": [
      "os.link('/tmp/foo', '/tmp/bar')"
     ],
     "language": "python",
     "metadata": {},
     "outputs": [],
     "prompt_number": 30
    },
    {
     "cell_type": "markdown",
     "metadata": {},
     "source": [
      "Borrar un fichero:"
     ]
    },
    {
     "cell_type": "code",
     "collapsed": true,
     "input": [
      "os.remove('/tmp/bar')"
     ],
     "language": "python",
     "metadata": {},
     "outputs": [],
     "prompt_number": 34
    },
    {
     "cell_type": "markdown",
     "metadata": {},
     "source": [
      "Crear un enlace simb\u00f3lico:"
     ]
    },
    {
     "cell_type": "code",
     "collapsed": true,
     "input": [
      "os.symlink('/tmp/foo', '/tmp/bar')"
     ],
     "language": "python",
     "metadata": {},
     "outputs": [],
     "prompt_number": 35
    },
    {
     "cell_type": "markdown",
     "metadata": {},
     "source": [
      "Listar el contenido de un directorio:"
     ]
    },
    {
     "cell_type": "code",
     "collapsed": false,
     "input": [
      "print(os.listdir('/'))"
     ],
     "language": "python",
     "metadata": {},
     "outputs": [
      {
       "output_type": "stream",
       "stream": "stdout",
       "text": [
        "['tmp', 'proc', 'usr', 'boot', 'root', 'dev', 'srv', 'run', 'bin', 'lost+found', 'salt-syndic.log', 'sys', '.bash_history', 'etc', 'vmlinuz.old', 'dropbox', 'bootx64.efi', 'initrd.img', 'vmlinuz', 'sbin', 'lib', 'media', 'home', 'opt', 'lib64', 'var', 'mnt', 'initrd.img.old']\n"
       ]
      }
     ],
     "prompt_number": 5
    },
    {
     "cell_type": "code",
     "collapsed": false,
     "input": [
      "os.curdir"
     ],
     "language": "python",
     "metadata": {},
     "outputs": [
      {
       "metadata": {},
       "output_type": "pyout",
       "prompt_number": 8,
       "text": [
        "'.'"
       ]
      }
     ],
     "prompt_number": 8
    },
    {
     "cell_type": "code",
     "collapsed": false,
     "input": [
      "os.pardir"
     ],
     "language": "python",
     "metadata": {},
     "outputs": [
      {
       "metadata": {},
       "output_type": "pyout",
       "prompt_number": 9,
       "text": [
        "'..'"
       ]
      }
     ],
     "prompt_number": 9
    },
    {
     "cell_type": "code",
     "collapsed": false,
     "input": [
      "os.sep"
     ],
     "language": "python",
     "metadata": {},
     "outputs": [
      {
       "metadata": {},
       "output_type": "pyout",
       "prompt_number": 10,
       "text": [
        "'/'"
       ]
      }
     ],
     "prompt_number": 10
    },
    {
     "cell_type": "code",
     "collapsed": false,
     "input": [
      "os.devnull"
     ],
     "language": "python",
     "metadata": {},
     "outputs": [
      {
       "metadata": {},
       "output_type": "pyout",
       "prompt_number": 11,
       "text": [
        "'/dev/null'"
       ]
      }
     ],
     "prompt_number": 11
    },
    {
     "cell_type": "markdown",
     "metadata": {},
     "source": [
      "## Procesos"
     ]
    },
    {
     "cell_type": "markdown",
     "metadata": {},
     "source": [
      "Crear un subproceso:"
     ]
    },
    {
     "cell_type": "code",
     "collapsed": false,
     "input": [
      "os.fork()"
     ],
     "language": "python",
     "metadata": {},
     "outputs": [
      {
       "metadata": {},
       "output_type": "pyout",
       "prompt_number": 36,
       "text": [
        "3875"
       ]
      }
     ],
     "prompt_number": 36
    },
    {
     "cell_type": "markdown",
     "metadata": {},
     "source": [
      "Esperar la terminaci\u00f3n de un subproceso (y recoger su valor de retorno);:"
     ]
    },
    {
     "cell_type": "code",
     "collapsed": false,
     "input": [
      "os.wait()"
     ],
     "language": "python",
     "metadata": {},
     "outputs": []
    },
    {
     "cell_type": "markdown",
     "metadata": {},
     "source": [
      "Terminar (con error) el proceso actual:"
     ]
    },
    {
     "cell_type": "code",
     "collapsed": false,
     "input": [
      "# os.abort()"
     ],
     "language": "python",
     "metadata": {},
     "outputs": []
    },
    {
     "cell_type": "markdown",
     "metadata": {},
     "source": [
      "Ejecutar un binario en el proceso actual:"
     ]
    },
    {
     "cell_type": "code",
     "collapsed": false,
     "input": [
      "# os.execl('/bin/ls', '')"
     ],
     "language": "python",
     "metadata": {},
     "outputs": []
    },
    {
     "cell_type": "markdown",
     "metadata": {},
     "source": [
      "Ejecutar un binario en un proceso nuevo:"
     ]
    },
    {
     "cell_type": "code",
     "collapsed": false,
     "input": [
      "os.spawnl('/bin/ls', '')"
     ],
     "language": "python",
     "metadata": {},
     "outputs": []
    },
    {
     "cell_type": "markdown",
     "metadata": {},
     "source": [
      "Ejecutar un binario en un subproceso y obtener la salida est\u00e1ndar:"
     ]
    },
    {
     "cell_type": "code",
     "collapsed": true,
     "input": [
      "os.system('ls /')"
     ],
     "language": "python",
     "metadata": {},
     "outputs": [
      {
       "metadata": {},
       "output_type": "pyout",
       "prompt_number": 7,
       "text": [
        "0"
       ]
      }
     ],
     "prompt_number": 7
    },
    {
     "cell_type": "markdown",
     "metadata": {},
     "source": [
      "Obtener el PID actual:"
     ]
    },
    {
     "cell_type": "code",
     "collapsed": false,
     "input": [
      "os.getpid()"
     ],
     "language": "python",
     "metadata": {},
     "outputs": [
      {
       "metadata": {},
       "output_type": "pyout",
       "prompt_number": 20,
       "text": [
        "1776"
       ]
      }
     ],
     "prompt_number": 20
    },
    {
     "cell_type": "markdown",
     "metadata": {},
     "source": [
      "El PID del padre del proceso actual:"
     ]
    },
    {
     "cell_type": "code",
     "collapsed": false,
     "input": [
      "os.getppid()"
     ],
     "language": "python",
     "metadata": {},
     "outputs": [
      {
       "metadata": {},
       "output_type": "pyout",
       "prompt_number": 21,
       "text": [
        "10972"
       ]
      }
     ],
     "prompt_number": 21
    },
    {
     "cell_type": "markdown",
     "metadata": {},
     "source": [
      "UID del propietario del proceso actual:"
     ]
    },
    {
     "cell_type": "code",
     "collapsed": false,
     "input": [
      "os.getuid()"
     ],
     "language": "python",
     "metadata": {},
     "outputs": [
      {
       "metadata": {},
       "output_type": "pyout",
       "prompt_number": 10,
       "text": [
        "1000"
       ]
      }
     ],
     "prompt_number": 10
    },
    {
     "cell_type": "markdown",
     "metadata": {},
     "source": [
      "GID del propietario del proceso actual"
     ]
    },
    {
     "cell_type": "code",
     "collapsed": false,
     "input": [
      "os.getgid()"
     ],
     "language": "python",
     "metadata": {},
     "outputs": [
      {
       "metadata": {},
       "output_type": "pyout",
       "prompt_number": 11,
       "text": [
        "1000"
       ]
      }
     ],
     "prompt_number": 11
    },
    {
     "cell_type": "code",
     "collapsed": true,
     "input": [
      "os.getgroups()"
     ],
     "language": "python",
     "metadata": {},
     "outputs": [
      {
       "metadata": {},
       "output_type": "pyout",
       "prompt_number": 3,
       "text": [
        "[24, 25, 29, 30, 44, 46, 104, 113, 114, 1000]"
       ]
      }
     ],
     "prompt_number": 3
    },
    {
     "cell_type": "markdown",
     "metadata": {},
     "source": [
      "Identificador del grupo de procesos:"
     ]
    },
    {
     "cell_type": "code",
     "collapsed": false,
     "input": [
      "os.getpgid(0)"
     ],
     "language": "python",
     "metadata": {},
     "outputs": [
      {
       "metadata": {},
       "output_type": "pyout",
       "prompt_number": 16,
       "text": [
        "10972"
       ]
      }
     ],
     "prompt_number": 16
    },
    {
     "cell_type": "code",
     "collapsed": false,
     "input": [
      "os.getpgrp()"
     ],
     "language": "python",
     "metadata": {},
     "outputs": [
      {
       "metadata": {},
       "output_type": "pyout",
       "prompt_number": 18,
       "text": [
        "10972"
       ]
      }
     ],
     "prompt_number": 18
    },
    {
     "cell_type": "markdown",
     "metadata": {},
     "source": [
      "Crear una sesi\u00f3n y asignar un identificador de grupo."
     ]
    },
    {
     "cell_type": "code",
     "collapsed": false,
     "input": [
      "os.setsid()"
     ],
     "language": "python",
     "metadata": {},
     "outputs": []
    },
    {
     "cell_type": "code",
     "collapsed": false,
     "input": [
      "os.getsid(os.fork())"
     ],
     "language": "python",
     "metadata": {},
     "outputs": [
      {
       "metadata": {},
       "output_type": "pyout",
       "prompt_number": 36,
       "text": [
        "1776"
       ]
      }
     ],
     "prompt_number": 36
    },
    {
     "cell_type": "markdown",
     "metadata": {},
     "source": [
      "Creaci\u00f3n de un subproceso con acceso a su entrada/salida: os.popen, os.popen2, os.popen3. Estas funciones son equivalentes a la llamadasal sistema POSIX, pero est\u00e1n obsoletas en favor del m\u00f3dulo [subprocess](https://docs.python.org/2/library/subprocess.html)."
     ]
    },
    {
     "cell_type": "code",
     "collapsed": false,
     "input": [
      "print(os.popen('ls /').read())"
     ],
     "language": "python",
     "metadata": {},
     "outputs": [
      {
       "output_type": "stream",
       "stream": "stdout",
       "text": [
        "bin\n",
        "boot\n",
        "bootx64.efi\n",
        "dev\n",
        "dropbox\n",
        "etc\n",
        "home\n",
        "initrd.img\n",
        "initrd.img.old\n",
        "lib\n",
        "lib64\n",
        "lost+found\n",
        "media\n",
        "mnt\n",
        "opt\n",
        "proc\n",
        "root\n",
        "run\n",
        "salt-syndic.log\n",
        "sbin\n",
        "srv\n",
        "sys\n",
        "tmp\n",
        "usr\n",
        "var\n",
        "vmlinuz\n",
        "vmlinuz.old\n",
        "\n"
       ]
      }
     ],
     "prompt_number": 3
    },
    {
     "cell_type": "markdown",
     "metadata": {},
     "source": [
      "### Se\u00f1ales"
     ]
    },
    {
     "cell_type": "markdown",
     "metadata": {},
     "source": [
      "Enviar una se\u00f1al a un proceso (dado su PID):"
     ]
    },
    {
     "cell_type": "code",
     "collapsed": false,
     "input": [
      "import signal\n",
      "\n",
      "child = os.fork()\n",
      "os.kill(child, signal.SIGQUIT)\n",
      "os.wait()"
     ],
     "language": "python",
     "metadata": {},
     "outputs": [
      {
       "metadata": {},
       "output_type": "pyout",
       "prompt_number": 10,
       "text": [
        "(28184, 3)"
       ]
      }
     ],
     "prompt_number": 10
    },
    {
     "cell_type": "markdown",
     "metadata": {},
     "source": [
      "Enviar una se\u00f1al a un grupo de procesos"
     ]
    },
    {
     "cell_type": "code",
     "collapsed": true,
     "input": [
      "pid = os.fork()\n",
      "if not pid:\n",
      "    os.setsid()\n",
      "    os.system('sleep 100')\n",
      "    os.exit(0)\n",
      "\n",
      "os.killpg(pid, signal.SIGKILL)\n",
      "os.wait()"
     ],
     "language": "python",
     "metadata": {},
     "outputs": [
      {
       "metadata": {},
       "output_type": "pyout",
       "prompt_number": 11,
       "text": [
        "(28185, 9)"
       ]
      }
     ],
     "prompt_number": 11
    },
    {
     "cell_type": "code",
     "collapsed": false,
     "input": [
      "def handler(num, *args):\n",
      "    print num, args\n",
      "\n",
      "signal.signal(signal.SIGQUIT, handler)"
     ],
     "language": "python",
     "metadata": {},
     "outputs": [],
     "prompt_number": 12
    },
    {
     "cell_type": "markdown",
     "metadata": {},
     "source": [
      "## Usuarios"
     ]
    },
    {
     "cell_type": "code",
     "collapsed": false,
     "input": [
      "os.getlogin()"
     ],
     "language": "python",
     "metadata": {},
     "outputs": [
      {
       "metadata": {},
       "output_type": "pyout",
       "prompt_number": 13,
       "text": [
        "'david'"
       ]
      }
     ],
     "prompt_number": 13
    },
    {
     "cell_type": "code",
     "collapsed": false,
     "input": [],
     "language": "python",
     "metadata": {},
     "outputs": []
    }
   ],
   "metadata": {}
  }
 ]
}