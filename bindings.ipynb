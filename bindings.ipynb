{
 "metadata": {
  "name": "",
  "signature": "sha256:927dd835280e6b7ab8c214b688145926951aca4e95b08994770048a27221582b"
 },
 "nbformat": 3,
 "nbformat_minor": 0,
 "worksheets": [
  {
   "cells": [
    {
     "cell_type": "markdown",
     "metadata": {},
     "source": [
      "## Invocando Python desde C++\n",
      "\n",
      "En el argot de Python, invocar c\u00f3digo Python desde otro lenguaje se llama \"[empotrar](https://docs.python.org/2/extending/embedding.html)\" (embed) Python."
     ]
    },
    {
     "cell_type": "markdown",
     "metadata": {},
     "source": [
      "### Con `libpython`\n",
      "\n",
      "Aunque el ejemplo que vemos a continuaci\u00f3n es extremadamente rudimentario, la librer\u00eda `libpython` permite realizar cualquier cualquier m\u00f3dulo Python y ejecutar cualquier estructura del lenguaje. Sin embargo, la interacci\u00f3n entre ambos lenguajes resulta compleja y exenta de todo soporte de orientaci\u00f3n a objetos, dado que es una librer\u00eda C."
     ]
    },
    {
     "cell_type": "code",
     "collapsed": false,
     "input": [
      "!mkdir -p bindings/embed/libpython"
     ],
     "language": "python",
     "metadata": {},
     "outputs": [],
     "prompt_number": 19
    },
    {
     "cell_type": "code",
     "collapsed": false,
     "input": [
      "%%file bindings/embed/libpython/version.cc\n",
      "\n",
      "#include <Python.h>\n",
      "\n",
      "int main(int argc, char *argv[]) {\n",
      "  Py_Initialize();\n",
      "  PyRun_SimpleString(\"import sys; print('{}'.format(sys.version_info[:2]))\\n\");\n",
      "  Py_Finalize();\n",
      "  return 0; \n",
      "}"
     ],
     "language": "python",
     "metadata": {},
     "outputs": [
      {
       "output_type": "stream",
       "stream": "stdout",
       "text": [
        "Writing bindings/embed/libpython/version.cc\n"
       ]
      }
     ],
     "prompt_number": 20
    },
    {
     "cell_type": "code",
     "collapsed": false,
     "input": [
      "%%file bindings/embed/libpython/Makefile\n",
      "#!/usr/bin/make -f\n",
      "# -*- mode:makefile -*-\n",
      "\n",
      "CXXFLAGS = -I/usr/include -I/usr/include/python2.7/\n",
      "LDFLAGS = -lpython2.7\n",
      "TARGET = $(patsubst %.cc, %, $(wildcard *.cc))\n",
      "\n",
      "all: $(TARGET)\n",
      "\n",
      "clean:\n",
      "\t$(RM) $(TARGET) *.o *~"
     ],
     "language": "python",
     "metadata": {},
     "outputs": [
      {
       "output_type": "stream",
       "stream": "stdout",
       "text": [
        "Overwriting bindings/embed/libpython/Makefile\n"
       ]
      }
     ],
     "prompt_number": 56
    },
    {
     "cell_type": "code",
     "collapsed": false,
     "input": [
      "!make -C bindings/embed/libpython/ clean all"
     ],
     "language": "python",
     "metadata": {},
     "outputs": [
      {
       "output_type": "stream",
       "stream": "stdout",
       "text": [
        "make: Entering directory '/home/david/repos/python-intro/bindings/embed/libpython'\r\n",
        "rm -f  version *.o *~\r\n",
        "g++ -I/usr/include -I/usr/include/python2.7/  -lpython2.7  version.cc   -o version\r\n"
       ]
      },
      {
       "output_type": "stream",
       "stream": "stdout",
       "text": [
        "make: Leaving directory '/home/david/repos/python-intro/bindings/embed/libpython'\r\n"
       ]
      }
     ],
     "prompt_number": 57
    },
    {
     "cell_type": "code",
     "collapsed": false,
     "input": [
      "!./bindings/embed/libpython/version"
     ],
     "language": "python",
     "metadata": {},
     "outputs": [
      {
       "output_type": "stream",
       "stream": "stdout",
       "text": [
        "(2, 7)\r\n"
       ]
      }
     ],
     "prompt_number": 58
    },
    {
     "cell_type": "markdown",
     "metadata": {},
     "source": [
      "## Con `boost`"
     ]
    },
    {
     "cell_type": "code",
     "collapsed": false,
     "input": [
      "!mkdir -p bindings/embed/boost"
     ],
     "language": "python",
     "metadata": {},
     "outputs": [],
     "prompt_number": 35
    },
    {
     "cell_type": "code",
     "collapsed": false,
     "input": [
      "%%file bindings/embed/boost/version.cc\n",
      "#include <boost/python.hpp>\n",
      "#include <boost/python/import.hpp>\n",
      "#include <iostream>\n",
      "\n",
      "using namespace boost::python;\n",
      "using namespace std;\n",
      "\n",
      "int main(int argc, char *argv[]) {\n",
      "  Py_Initialize();\n",
      "\n",
      "  PyRun_SimpleString(\"import sys; result = sys.version_info[:2]\");\n",
      "  object mainobj = import(\"__main__\");\n",
      "  object dictionary = mainobj.attr(\"__dict__\");\n",
      "  object result = dictionary[\"result\"];\n",
      "\n",
      "  tuple tup = extract<tuple>(result);\n",
      "  if (!extract<int>(tup[0]).check() || !extract<int>(tup[1]).check())\n",
      "    return 0; \n",
      "\n",
      "  int major = extract<int>(tup[0]);\n",
      "  int minor = extract<int>(tup[1]);\n",
      "\n",
      "  cout << major << \".\" << minor << endl;\n",
      "\n",
      "  Py_Finalize();\n",
      "  return 0; \n",
      "}"
     ],
     "language": "python",
     "metadata": {},
     "outputs": [
      {
       "output_type": "stream",
       "stream": "stdout",
       "text": [
        "Overwriting bindings/embed/boost/version.cc\n"
       ]
      }
     ],
     "prompt_number": 64
    },
    {
     "cell_type": "code",
     "collapsed": false,
     "input": [
      "%%file bindings/embed/boost/Makefile\n",
      "#!/usr/bin/make -f\n",
      "# -*- mode:makefile -*-\n",
      "\n",
      "CXXFLAGS = -Wall -g -I/usr/include -I/usr/include/python2.7/\n",
      "LDFLAGS = -lpython2.7 -lboost_python-py27\n",
      "TARGET = $(patsubst %.cc, %, $(wildcard *.cc))\n",
      "\n",
      "all: $(TARGET)\n",
      "\n",
      "clean:\n",
      "\t$(RM) $(TARGET) *.o *~"
     ],
     "language": "python",
     "metadata": {},
     "outputs": [
      {
       "output_type": "stream",
       "stream": "stdout",
       "text": [
        "Overwriting bindings/embed/boost/Makefile\n"
       ]
      }
     ],
     "prompt_number": 61
    },
    {
     "cell_type": "code",
     "collapsed": false,
     "input": [
      "!make -C bindings/embed/boost clean all"
     ],
     "language": "python",
     "metadata": {},
     "outputs": [
      {
       "output_type": "stream",
       "stream": "stdout",
       "text": [
        "make: Entering directory '/home/david/repos/python-intro/bindings/embed/boost'\r\n",
        "rm -f  version *.o *~\r\n",
        "g++ -Wall -g -I/usr/include -I/usr/include/python2.7/  -lpython2.7 -lboost_python-py27  version.cc   -o version\r\n"
       ]
      },
      {
       "output_type": "stream",
       "stream": "stdout",
       "text": [
        "make: Leaving directory '/home/david/repos/python-intro/bindings/embed/boost'\r\n"
       ]
      }
     ],
     "prompt_number": 62
    },
    {
     "cell_type": "code",
     "collapsed": false,
     "input": [
      "!./bindings/embed/boost/version"
     ],
     "language": "python",
     "metadata": {},
     "outputs": [
      {
       "output_type": "stream",
       "stream": "stdout",
       "text": [
        "2.7\r\n"
       ]
      }
     ],
     "prompt_number": 65
    },
    {
     "cell_type": "markdown",
     "metadata": {},
     "source": [
      "## Invocando C++ desde Python\n",
      "\n",
      "Cuando desde un programa escrito en Python podemos llamar a c\u00f3digo escrito en otro lenguaje (mayoritariamente C y C++) se dice que \"[extendemos](https://docs.python.org/2/extending/extending.html)\" Python."
     ]
    },
    {
     "cell_type": "markdown",
     "metadata": {},
     "source": [
      "### Con libpython"
     ]
    },
    {
     "cell_type": "code",
     "collapsed": false,
     "input": [
      "!mkdir -p ./bindings/extend/libpython/"
     ],
     "language": "python",
     "metadata": {},
     "outputs": [],
     "prompt_number": 82
    },
    {
     "cell_type": "code",
     "collapsed": false,
     "input": [
      "%%file ./bindings/extend/libpython/greet.c\n",
      "#include <Python.h>\n",
      "\n",
      "static PyObject* greet(PyObject* self, PyObject* args) {\n",
      "  char* msg = \"Hello World (libpython)\";\n",
      "  return Py_BuildValue(\"s\", msg);\n",
      "}\n",
      "\n",
      "static PyMethodDef function_binder[] = {\n",
      "  {\"greet\", greet, METH_VARARGS},\n",
      "  {NULL, NULL}\n",
      "};\n",
      "\n",
      "void initgreet() {\n",
      "    Py_InitModule(\"greet\", function_binder);\n",
      "}"
     ],
     "language": "python",
     "metadata": {},
     "outputs": [
      {
       "output_type": "stream",
       "stream": "stdout",
       "text": [
        "Overwriting ./bindings/extend/libpython/greet.c\n"
       ]
      }
     ],
     "prompt_number": 97
    },
    {
     "cell_type": "code",
     "collapsed": false,
     "input": [
      "%%file ./bindings/extend/libpython/Makefile\n",
      "#!/usr/bin/make -f\n",
      "# -*- mode:makefile -*-\n",
      "\n",
      "CFLAGS = -Wall -g -I/usr/include -I/usr/include/python2.7/ -fPIC\n",
      "LDFLAGS = -lpython2.7 -shared -fPIC\n",
      "TARGET = $(patsubst %.c, %.so, $(wildcard *.c))\n",
      "\n",
      "all: $(TARGET)\n",
      "\n",
      "greet.so: greet.o\n",
      "\tgcc $(LDFLAGS) -o $@ $^\n",
      "\n",
      "clean:\n",
      "\t$(RM) $(TARGET) *.o *~"
     ],
     "language": "python",
     "metadata": {},
     "outputs": [
      {
       "output_type": "stream",
       "stream": "stdout",
       "text": [
        "Overwriting ./bindings/extend/libpython/Makefile\n"
       ]
      }
     ],
     "prompt_number": 98
    },
    {
     "cell_type": "code",
     "collapsed": false,
     "input": [
      "!make -C ./bindings/extend/libpython clean all"
     ],
     "language": "python",
     "metadata": {},
     "outputs": [
      {
       "output_type": "stream",
       "stream": "stdout",
       "text": [
        "make: Entering directory '/home/david/repos/python-intro/bindings/extend/libpython'\r\n",
        "rm -f  greet.so *.o *~\r\n",
        "cc -Wall -g -I/usr/include -I/usr/include/python2.7/ -fPIC   -c -o greet.o greet.c\r\n"
       ]
      },
      {
       "output_type": "stream",
       "stream": "stdout",
       "text": [
        "gcc -lpython2.7 -shared -fPIC -o greet.so greet.o\r\n"
       ]
      },
      {
       "output_type": "stream",
       "stream": "stdout",
       "text": [
        "make: Leaving directory '/home/david/repos/python-intro/bindings/extend/libpython'\r\n"
       ]
      }
     ],
     "prompt_number": 99
    },
    {
     "cell_type": "code",
     "collapsed": false,
     "input": [
      "!rm greet.so\n",
      "!ln -s bindings/extend/libpython/greet.so ."
     ],
     "language": "python",
     "metadata": {},
     "outputs": [],
     "prompt_number": 100
    },
    {
     "cell_type": "code",
     "collapsed": false,
     "input": [
      "import greet\n",
      "greet.greet()"
     ],
     "language": "python",
     "metadata": {},
     "outputs": [
      {
       "metadata": {},
       "output_type": "pyout",
       "prompt_number": 1,
       "text": [
        "'Hello World (libpython)'"
       ]
      }
     ],
     "prompt_number": 1
    },
    {
     "cell_type": "markdown",
     "metadata": {},
     "source": [
      "### Con `ctypes`\n",
      "\n",
      "`ctypes` es un m\u00f3dulo de la librer\u00eda est\u00e1ndar que permite acceder a s\u00edmbolos de una librer\u00eda C."
     ]
    },
    {
     "cell_type": "code",
     "collapsed": false,
     "input": [
      "import ctypes\n",
      "\n",
      "libc = ctypes.cdll.LoadLibrary('libc.so.6')\n",
      "libc.time()"
     ],
     "language": "python",
     "metadata": {},
     "outputs": [
      {
       "metadata": {},
       "output_type": "pyout",
       "prompt_number": 4,
       "text": [
        "1404942957"
       ]
      }
     ],
     "prompt_number": 4
    },
    {
     "cell_type": "markdown",
     "metadata": {},
     "source": [
      "### Con `boost`\n",
      "\n",
      "_(del tutorial de boost-python)_"
     ]
    },
    {
     "cell_type": "code",
     "collapsed": false,
     "input": [
      "!mkdir -p ./bindings/extend/boost/"
     ],
     "language": "python",
     "metadata": {},
     "outputs": [],
     "prompt_number": 66
    },
    {
     "cell_type": "code",
     "collapsed": false,
     "input": [
      "%%file ./bindings/extend/boost/greet.cc\n",
      "#include <boost/python.hpp>\n",
      "\n",
      "char const* greet() {\n",
      "  return \"Hello World (boost)\";\n",
      "}\n",
      "\n",
      "BOOST_PYTHON_MODULE(greet) {\n",
      "  using namespace boost::python;\n",
      "  def(\"greet\", greet);\n",
      "}"
     ],
     "language": "python",
     "metadata": {},
     "outputs": [
      {
       "output_type": "stream",
       "stream": "stdout",
       "text": [
        "Overwriting ./bindings/extend/boost/greet.cc\n"
       ]
      }
     ],
     "prompt_number": 2
    },
    {
     "cell_type": "code",
     "collapsed": false,
     "input": [
      "%%file ./bindings/extend/boost/setup.py\n",
      "from distutils.core import setup, Extension\n",
      "\n",
      "greet = Extension('greet', sources = ['greet.cc'],\n",
      "                  libraries = ['boost_python-py27'])\n",
      "\n",
      "setup(name = 'greet',\n",
      "      version = '1.0',\n",
      "      description = 'C++ package for python',\n",
      "      ext_modules = [greet])"
     ],
     "language": "python",
     "metadata": {},
     "outputs": [
      {
       "output_type": "stream",
       "stream": "stdout",
       "text": [
        "Overwriting ./bindings/extend/boost/setup.py\n"
       ]
      }
     ],
     "prompt_number": 3
    },
    {
     "cell_type": "code",
     "collapsed": false,
     "input": [
      "!cd bindings/extend/boost && python setup.py build"
     ],
     "language": "python",
     "metadata": {},
     "outputs": [
      {
       "output_type": "stream",
       "stream": "stdout",
       "text": [
        "running build\r\n",
        "running build_ext\r\n",
        "building 'greet' extension\r\n",
        "x86_64-linux-gnu-gcc -pthread -fno-strict-aliasing -DNDEBUG -g -fwrapv -O2 -Wall -Wstrict-prototypes -fPIC -I/usr/include/python2.7 -c greet.cc -o build/temp.linux-x86_64-2.7/greet.o\r\n",
        "cc1plus: warning: command line option \u2018-Wstrict-prototypes\u2019 is valid for C/ObjC but not for C++ [enabled by default]\r\n"
       ]
      },
      {
       "output_type": "stream",
       "stream": "stdout",
       "text": [
        "c++ -pthread -shared -Wl,-O1 -Wl,-Bsymbolic-functions -Wl,-z,relro -fno-strict-aliasing -DNDEBUG -g -fwrapv -O2 -Wall -Wstrict-prototypes -D_FORTIFY_SOURCE=2 -g -fstack-protector --param=ssp-buffer-size=4 -Wformat -Werror=format-security build/temp.linux-x86_64-2.7/greet.o -lboost_python-py27 -o build/lib.linux-x86_64-2.7/greet.so\r\n"
       ]
      }
     ],
     "prompt_number": 4
    },
    {
     "cell_type": "code",
     "collapsed": false,
     "input": [
      "!rm greet.so\n",
      "!ln bindings/extend/boost/build/lib.linux-x86_64-2.7/greet.so ."
     ],
     "language": "python",
     "metadata": {},
     "outputs": [],
     "prompt_number": 5
    },
    {
     "cell_type": "code",
     "collapsed": false,
     "input": [
      "import greet\n",
      "greet.greet()"
     ],
     "language": "python",
     "metadata": {},
     "outputs": [
      {
       "metadata": {},
       "output_type": "pyout",
       "prompt_number": 6,
       "text": [
        "'Hello World (boost)'"
       ]
      }
     ],
     "prompt_number": 6
    },
    {
     "cell_type": "markdown",
     "metadata": {},
     "source": [
      "El ejemplo anterior \"expone\" una funci\u00f3n. Por supuesto es posible exponer una clase C++ para ser utilizada desde Python:\n",
      "* http://www.boost.org/doc/libs/1_55_0/libs/python/doc/tutorial/doc/html/python/exposing.html"
     ]
    }
   ],
   "metadata": {}
  }
 ]
}