{
 "metadata": {
  "name": "",
  "signature": "sha256:b2c6b63633de46f21d7e507ff9b026fb5bdf7b9f4c98c469bbc08e92526e25b9"
 },
 "nbformat": 3,
 "nbformat_minor": 0,
 "worksheets": [
  {
   "cells": [
    {
     "cell_type": "markdown",
     "metadata": {},
     "source": [
      "# numpy\n",
      "\n",
      "Es un m\u00f3dulo Python para el manejo de arrays (vectores) y matrices. El componente esencial es el tipo **array**. Este notebook es un resumen de http://goo.gl/fiLYpb.\n",
      "\n",
      "Cuando uses numpy/matplotlib en IPython, [evitar usar pylab](http://nbviewer.ipython.org/github/Carreau/posts/blob/master/10-No-PyLab-Thanks.ipynb)"
     ]
    },
    {
     "cell_type": "code",
     "collapsed": false,
     "input": [
      "import numpy as np\n",
      "a1 = np.array([])\n",
      "a1"
     ],
     "language": "python",
     "metadata": {},
     "outputs": [
      {
       "metadata": {},
       "output_type": "pyout",
       "prompt_number": 1,
       "text": [
        "array([], dtype=float64)"
       ]
      }
     ],
     "prompt_number": 1
    },
    {
     "cell_type": "markdown",
     "metadata": {},
     "source": [
      "A diferencia de la lista est\u00e1ndar de Python, todos los elementos de un array deben ser del mismo tipo."
     ]
    },
    {
     "cell_type": "code",
     "collapsed": false,
     "input": [
      "a1.dtype"
     ],
     "language": "python",
     "metadata": {},
     "outputs": [
      {
       "metadata": {},
       "output_type": "pyout",
       "prompt_number": 2,
       "text": [
        "dtype('float64')"
       ]
      }
     ],
     "prompt_number": 2
    },
    {
     "cell_type": "markdown",
     "metadata": {},
     "source": [
      "Pero se puede convertir a otro:"
     ]
    },
    {
     "cell_type": "code",
     "collapsed": false,
     "input": [
      "aux = a1.astype(int)\n",
      "print(aux.dtype)\n",
      "print(aux)"
     ],
     "language": "python",
     "metadata": {},
     "outputs": [
      {
       "output_type": "stream",
       "stream": "stdout",
       "text": [
        "int64\n",
        "[]\n"
       ]
      }
     ],
     "prompt_number": 3
    },
    {
     "cell_type": "markdown",
     "metadata": {},
     "source": [
      "Para especificar el tipo de los datos se pueden utilizar los tipos de Python, sus nombres como cadenas o variables definidas en el m\u00f3dulo **numpy**:"
     ]
    },
    {
     "cell_type": "code",
     "collapsed": false,
     "input": [
      "np.array([1], dtype=int)\n",
      "np.array([1], dtype='float64')\n",
      "np.array([1], dtype=np.complex128)"
     ],
     "language": "python",
     "metadata": {},
     "outputs": [
      {
       "metadata": {},
       "output_type": "pyout",
       "prompt_number": 4,
       "text": [
        "array([ 1.+0.j])"
       ]
      }
     ],
     "prompt_number": 4
    },
    {
     "cell_type": "markdown",
     "metadata": {},
     "source": [
      "Los operadores est\u00e1n sobrecargados con su sem\u00e1ntica matem\u00e1tica:"
     ]
    },
    {
     "cell_type": "code",
     "collapsed": false,
     "input": [
      "a1 = np.array([1, 2, 3])\n",
      "\n",
      "print(a1 + [4, 5, 6])\n",
      "print(a1 * 3)\n",
      "print(a1 * [4, 5, 6])\n",
      "print(a1 >= 2)"
     ],
     "language": "python",
     "metadata": {},
     "outputs": [
      {
       "output_type": "stream",
       "stream": "stdout",
       "text": [
        "[5 7 9]\n",
        "[3 6 9]\n",
        "[ 4 10 18]\n",
        "[False  True  True]\n"
       ]
      }
     ],
     "prompt_number": 5
    },
    {
     "cell_type": "markdown",
     "metadata": {},
     "source": [
      "Y adem\u00e1s son multidimencionales:"
     ]
    },
    {
     "cell_type": "code",
     "collapsed": false,
     "input": [
      "a2 = np.array([[1, 2, 3, 4], [5, 6, 7, 8], [9, 10, 11, 12]])\n",
      "a2"
     ],
     "language": "python",
     "metadata": {},
     "outputs": [
      {
       "metadata": {},
       "output_type": "pyout",
       "prompt_number": 6,
       "text": [
        "array([[ 1,  2,  3,  4],\n",
        "       [ 5,  6,  7,  8],\n",
        "       [ 9, 10, 11, 12]])"
       ]
      }
     ],
     "prompt_number": 6
    },
    {
     "cell_type": "code",
     "collapsed": false,
     "input": [
      "print(\"El array tiene {} dimensiones\".format(a2.ndim))\n",
      "print(\"Su tama\u00f1o es {0[0]} filas y {0[1]} columnas\".format(a2.shape))"
     ],
     "language": "python",
     "metadata": {},
     "outputs": [
      {
       "output_type": "stream",
       "stream": "stdout",
       "text": [
        "El array tiene 2 dimensiones\n",
        "Su tama\u00f1o es 3 filas y 4 columnas\n"
       ]
      }
     ],
     "prompt_number": 7
    },
    {
     "cell_type": "markdown",
     "metadata": {},
     "source": [
      "Es posible ver un array con un estructura diferente. Es importante se\u00f1alar que esta operaci\u00f3n no crea un array nuevo ni mueve los datos, solo los accede de un modo diferente."
     ]
    },
    {
     "cell_type": "code",
     "collapsed": false,
     "input": [
      "a3 = np.array(range(8))\n",
      "a3"
     ],
     "language": "python",
     "metadata": {},
     "outputs": [
      {
       "metadata": {},
       "output_type": "pyout",
       "prompt_number": 8,
       "text": [
        "array([0, 1, 2, 3, 4, 5, 6, 7])"
       ]
      }
     ],
     "prompt_number": 8
    },
    {
     "cell_type": "code",
     "collapsed": false,
     "input": [
      "a3.reshape(2, 4)"
     ],
     "language": "python",
     "metadata": {},
     "outputs": [
      {
       "metadata": {},
       "output_type": "pyout",
       "prompt_number": 9,
       "text": [
        "array([[0, 1, 2, 3],\n",
        "       [4, 5, 6, 7]])"
       ]
      }
     ],
     "prompt_number": 9
    },
    {
     "cell_type": "code",
     "collapsed": false,
     "input": [
      "x = np.arange(1,5).reshape(2,2)\n",
      "y = np.arange(5,9).reshape(2,2)\n",
      "print(x * y)\n",
      "print(np.dot(x, y))"
     ],
     "language": "python",
     "metadata": {},
     "outputs": [
      {
       "output_type": "stream",
       "stream": "stdout",
       "text": [
        "[[ 5 12]\n",
        " [21 32]]\n",
        "[[19 22]\n",
        " [43 50]]\n"
       ]
      }
     ],
     "prompt_number": 10
    },
    {
     "cell_type": "markdown",
     "metadata": {},
     "source": [
      "## Construir arrays\n",
      "\n",
      "La funci\u00f3n `arange` es similar al `range` est\u00e1ndar, pero devuelve un `numpy.array`."
     ]
    },
    {
     "cell_type": "code",
     "collapsed": false,
     "input": [
      "np.arange(10)"
     ],
     "language": "python",
     "metadata": {},
     "outputs": [
      {
       "metadata": {},
       "output_type": "pyout",
       "prompt_number": 11,
       "text": [
        "array([0, 1, 2, 3, 4, 5, 6, 7, 8, 9])"
       ]
      }
     ],
     "prompt_number": 11
    },
    {
     "cell_type": "markdown",
     "metadata": {},
     "source": [
      "La funci\u00f3n `linspace()` es similar, pero es m\u00e1s adecuada para valores flotantes. Se puede indicar la cantidad de valores a crear entre los l\u00edmites indicados."
     ]
    },
    {
     "cell_type": "code",
     "collapsed": false,
     "input": [
      "x = np.linspace(0, 10, num=20)\n",
      "x"
     ],
     "language": "python",
     "metadata": {},
     "outputs": [
      {
       "metadata": {},
       "output_type": "pyout",
       "prompt_number": 12,
       "text": [
        "array([  0.        ,   0.52631579,   1.05263158,   1.57894737,\n",
        "         2.10526316,   2.63157895,   3.15789474,   3.68421053,\n",
        "         4.21052632,   4.73684211,   5.26315789,   5.78947368,\n",
        "         6.31578947,   6.84210526,   7.36842105,   7.89473684,\n",
        "         8.42105263,   8.94736842,   9.47368421,  10.        ])"
       ]
      }
     ],
     "prompt_number": 12
    },
    {
     "cell_type": "code",
     "collapsed": false,
     "input": [
      "np.zeros((2,3))"
     ],
     "language": "python",
     "metadata": {},
     "outputs": [
      {
       "metadata": {},
       "output_type": "pyout",
       "prompt_number": 13,
       "text": [
        "array([[ 0.,  0.,  0.],\n",
        "       [ 0.,  0.,  0.]])"
       ]
      }
     ],
     "prompt_number": 13
    },
    {
     "cell_type": "code",
     "collapsed": false,
     "input": [
      "np.ones(6)"
     ],
     "language": "python",
     "metadata": {},
     "outputs": [
      {
       "metadata": {},
       "output_type": "pyout",
       "prompt_number": 14,
       "text": [
        "array([ 1.,  1.,  1.,  1.,  1.,  1.])"
       ]
      }
     ],
     "prompt_number": 14
    },
    {
     "cell_type": "code",
     "collapsed": false,
     "input": [
      "np.identity(5)"
     ],
     "language": "python",
     "metadata": {},
     "outputs": [
      {
       "metadata": {},
       "output_type": "pyout",
       "prompt_number": 15,
       "text": [
        "array([[ 1.,  0.,  0.,  0.,  0.],\n",
        "       [ 0.,  1.,  0.,  0.,  0.],\n",
        "       [ 0.,  0.,  1.,  0.,  0.],\n",
        "       [ 0.,  0.,  0.,  1.,  0.],\n",
        "       [ 0.,  0.,  0.,  0.,  1.]])"
       ]
      }
     ],
     "prompt_number": 15
    },
    {
     "cell_type": "code",
     "collapsed": false,
     "input": [
      "np.diag([1, 2, 3])"
     ],
     "language": "python",
     "metadata": {},
     "outputs": [
      {
       "metadata": {},
       "output_type": "pyout",
       "prompt_number": 16,
       "text": [
        "array([[1, 0, 0],\n",
        "       [0, 2, 0],\n",
        "       [0, 0, 3]])"
       ]
      }
     ],
     "prompt_number": 16
    },
    {
     "cell_type": "code",
     "collapsed": false,
     "input": [
      "np.random.rand(5)"
     ],
     "language": "python",
     "metadata": {},
     "outputs": [
      {
       "metadata": {},
       "output_type": "pyout",
       "prompt_number": 17,
       "text": [
        "array([ 0.01921827,  0.93944384,  0.68174967,  0.04461026,  0.64737613])"
       ]
      }
     ],
     "prompt_number": 17
    },
    {
     "cell_type": "code",
     "collapsed": false,
     "input": [
      "np.random.rand(3, 4)"
     ],
     "language": "python",
     "metadata": {},
     "outputs": [
      {
       "metadata": {},
       "output_type": "pyout",
       "prompt_number": 18,
       "text": [
        "array([[ 0.85878249,  0.38752053,  0.49107638,  0.67692526],\n",
        "       [ 0.53540974,  0.31223857,  0.62396065,  0.2384783 ],\n",
        "       [ 0.18899872,  0.57617881,  0.89084486,  0.80863298]])"
       ]
      }
     ],
     "prompt_number": 18
    },
    {
     "cell_type": "code",
     "collapsed": false,
     "input": [
      "np.empty((2,3))"
     ],
     "language": "python",
     "metadata": {},
     "outputs": [
      {
       "metadata": {},
       "output_type": "pyout",
       "prompt_number": 19,
       "text": [
        "array([[  6.93918287e-310,   6.93918287e-310,   0.00000000e+000],\n",
        "       [  1.27319747e-313,   1.27319747e-313,   1.27319747e-313]])"
       ]
      }
     ],
     "prompt_number": 19
    },
    {
     "cell_type": "markdown",
     "metadata": {},
     "source": [
      "Las funciones matem\u00e1ticas de `numpy` aceptan y devuelven arrays en lugar de valores escalares."
     ]
    },
    {
     "cell_type": "code",
     "collapsed": false,
     "input": [
      "sin_x = np.sin(x)\n",
      "print(sin_x)\n",
      "\n",
      "abs_sin_x = abs(sin_x)\n",
      "print(abs_sin_x)"
     ],
     "language": "python",
     "metadata": {},
     "outputs": [
      {
       "output_type": "stream",
       "stream": "stdout",
       "text": [
        "[ 0.          0.50235115  0.86872962  0.99996678  0.86054034  0.48818921\n",
        " -0.01630136 -0.5163796  -0.87668803 -0.99970104 -0.85212237 -0.47389753\n",
        "  0.03259839  0.53027082  0.88441346  0.99916962  0.84347795  0.4594799\n",
        " -0.04888676 -0.54402111]\n",
        "[ 0.          0.50235115  0.86872962  0.99996678  0.86054034  0.48818921\n",
        "  0.01630136  0.5163796   0.87668803  0.99970104  0.85212237  0.47389753\n",
        "  0.03259839  0.53027082  0.88441346  0.99916962  0.84347795  0.4594799\n",
        "  0.04888676  0.54402111]\n"
       ]
      }
     ],
     "prompt_number": 20
    },
    {
     "cell_type": "markdown",
     "metadata": {},
     "source": [
      "Por tanto, `linspace` nos da un espacio unidimensional discreto. `mgrid` ofrece algo parecido para un espacio bidimensional. Devuelve dos arrays bidimensionales, uno creciente por columnas y otro por filas."
     ]
    },
    {
     "cell_type": "code",
     "collapsed": false,
     "input": [
      "a_2D = np.mgrid[0:5,0:5]\n",
      "a_2D"
     ],
     "language": "python",
     "metadata": {},
     "outputs": [
      {
       "metadata": {},
       "output_type": "pyout",
       "prompt_number": 21,
       "text": [
        "array([[[0, 0, 0, 0, 0],\n",
        "        [1, 1, 1, 1, 1],\n",
        "        [2, 2, 2, 2, 2],\n",
        "        [3, 3, 3, 3, 3],\n",
        "        [4, 4, 4, 4, 4]],\n",
        "\n",
        "       [[0, 1, 2, 3, 4],\n",
        "        [0, 1, 2, 3, 4],\n",
        "        [0, 1, 2, 3, 4],\n",
        "        [0, 1, 2, 3, 4],\n",
        "        [0, 1, 2, 3, 4]]])"
       ]
      }
     ],
     "prompt_number": 21
    },
    {
     "cell_type": "code",
     "collapsed": false,
     "input": [
      "x, y = a_2D\n",
      "z = (x+y) ** 2\n",
      "z"
     ],
     "language": "python",
     "metadata": {},
     "outputs": [
      {
       "metadata": {},
       "output_type": "pyout",
       "prompt_number": 22,
       "text": [
        "array([[ 0,  1,  4,  9, 16],\n",
        "       [ 1,  4,  9, 16, 25],\n",
        "       [ 4,  9, 16, 25, 36],\n",
        "       [ 9, 16, 25, 36, 49],\n",
        "       [16, 25, 36, 49, 64]])"
       ]
      }
     ],
     "prompt_number": 22
    },
    {
     "cell_type": "markdown",
     "metadata": {},
     "source": [
      "## Indexaci\u00f3n"
     ]
    },
    {
     "cell_type": "code",
     "collapsed": false,
     "input": [
      "a2"
     ],
     "language": "python",
     "metadata": {},
     "outputs": [
      {
       "metadata": {},
       "output_type": "pyout",
       "prompt_number": 23,
       "text": [
        "array([[ 1,  2,  3,  4],\n",
        "       [ 5,  6,  7,  8],\n",
        "       [ 9, 10, 11, 12]])"
       ]
      }
     ],
     "prompt_number": 23
    },
    {
     "cell_type": "code",
     "collapsed": false,
     "input": [
      "a2[1,2]"
     ],
     "language": "python",
     "metadata": {},
     "outputs": [
      {
       "metadata": {},
       "output_type": "pyout",
       "prompt_number": 24,
       "text": [
        "7"
       ]
      }
     ],
     "prompt_number": 24
    },
    {
     "cell_type": "code",
     "collapsed": false,
     "input": [
      "a2[:,2]"
     ],
     "language": "python",
     "metadata": {},
     "outputs": [
      {
       "metadata": {},
       "output_type": "pyout",
       "prompt_number": 25,
       "text": [
        "array([ 3,  7, 11])"
       ]
      }
     ],
     "prompt_number": 25
    },
    {
     "cell_type": "code",
     "collapsed": false,
     "input": [
      "a2[1,1:]"
     ],
     "language": "python",
     "metadata": {},
     "outputs": [
      {
       "metadata": {},
       "output_type": "pyout",
       "prompt_number": 26,
       "text": [
        "array([6, 7, 8])"
       ]
      }
     ],
     "prompt_number": 26
    },
    {
     "cell_type": "code",
     "collapsed": false,
     "input": [
      "a4d = np.arange(256).reshape(4,4,4,-1)\n",
      "a4d[1,:,:,2]"
     ],
     "language": "python",
     "metadata": {},
     "outputs": [
      {
       "metadata": {},
       "output_type": "pyout",
       "prompt_number": 27,
       "text": [
        "array([[ 66,  70,  74,  78],\n",
        "       [ 82,  86,  90,  94],\n",
        "       [ 98, 102, 106, 110],\n",
        "       [114, 118, 122, 126]])"
       ]
      }
     ],
     "prompt_number": 27
    },
    {
     "cell_type": "markdown",
     "metadata": {},
     "source": [
      "Es posible indexar un array usando una lista:"
     ]
    },
    {
     "cell_type": "code",
     "collapsed": false,
     "input": [
      "a = np.array(list(reversed(range(20))))\n",
      "indexes = [2, 4, 8, 12]\n",
      "a[indexes]"
     ],
     "language": "python",
     "metadata": {},
     "outputs": [
      {
       "metadata": {},
       "output_type": "pyout",
       "prompt_number": 28,
       "text": [
        "array([17, 15, 11,  7])"
       ]
      }
     ],
     "prompt_number": 28
    },
    {
     "cell_type": "markdown",
     "metadata": {},
     "source": [
      "Tambi\u00e9n con un array de booleanos:"
     ]
    },
    {
     "cell_type": "code",
     "collapsed": false,
     "input": [
      "a = np.arange(20)\n",
      "indexes = np.array([i > 16 or not i%3 for i in a], dtype=bool)\n",
      "indexes = np.array([True] * 15)\n",
      "print(indexes)\n",
      "a[indexes]"
     ],
     "language": "python",
     "metadata": {},
     "outputs": [
      {
       "output_type": "stream",
       "stream": "stdout",
       "text": [
        "[ True  True  True  True  True  True  True  True  True  True  True  True\n",
        "  True  True  True]\n"
       ]
      },
      {
       "metadata": {},
       "output_type": "pyout",
       "prompt_number": 69,
       "text": [
        "array([ 0,  1,  2,  3,  4,  5,  6,  7,  8,  9, 10, 11, 12, 13, 14])"
       ]
      }
     ],
     "prompt_number": 69
    },
    {
     "cell_type": "markdown",
     "metadata": {},
     "source": [
      "Y estas indexaci\u00f3n se pueden usar en una asignaci\u00f3n m\u00faltiple:"
     ]
    },
    {
     "cell_type": "code",
     "collapsed": false,
     "input": [
      "a[indexes] = -1\n",
      "a"
     ],
     "language": "python",
     "metadata": {},
     "outputs": [
      {
       "metadata": {},
       "output_type": "pyout",
       "prompt_number": 30,
       "text": [
        "array([-1,  1,  2, -1,  4,  5, -1,  7,  8, -1, 10, 11, -1, 13, 14, -1, 16,\n",
        "       -1, -1, -1])"
       ]
      }
     ],
     "prompt_number": 30
    },
    {
     "cell_type": "markdown",
     "metadata": {},
     "source": [
      "## Iteraci\u00f3n\n",
      "\n",
      "Un array de dos dimensiones se itera por filas:"
     ]
    },
    {
     "cell_type": "code",
     "collapsed": false,
     "input": [
      "a25 = np.arange(25).reshape(5, 5)\n",
      "for row in a25:\n",
      "    print(row)"
     ],
     "language": "python",
     "metadata": {},
     "outputs": [
      {
       "output_type": "stream",
       "stream": "stdout",
       "text": [
        "[0 1 2 3 4]\n",
        "[5 6 7 8 9]\n",
        "[10 11 12 13 14]\n",
        "[15 16 17 18 19]\n",
        "[20 21 22 23 24]\n"
       ]
      }
     ],
     "prompt_number": 31
    },
    {
     "cell_type": "markdown",
     "metadata": {},
     "source": [
      "Se puede iterar como un array plano (el array no es modificado):"
     ]
    },
    {
     "cell_type": "code",
     "collapsed": false,
     "input": [
      "for x in a25.flat:\n",
      "    print(x)"
     ],
     "language": "python",
     "metadata": {},
     "outputs": [
      {
       "output_type": "stream",
       "stream": "stdout",
       "text": [
        "0\n",
        "1\n",
        "2\n",
        "3\n",
        "4\n",
        "5\n",
        "6\n",
        "7\n",
        "8\n",
        "9\n",
        "10\n",
        "11\n",
        "12\n",
        "13\n",
        "14\n",
        "15\n",
        "16\n",
        "17\n",
        "18\n",
        "19\n",
        "20\n",
        "21\n",
        "22\n",
        "23\n",
        "24\n"
       ]
      }
     ],
     "prompt_number": 32
    },
    {
     "cell_type": "markdown",
     "metadata": {},
     "source": [
      "## Vistas\n",
      "\n",
      "Los array's son _vistas_ de otros arrays (a menos que sean copias expl\u00edcitas):"
     ]
    },
    {
     "cell_type": "code",
     "collapsed": false,
     "input": [
      "b = a2.copy()\n",
      "\n",
      "b1 = b[:,2]\n",
      "print(b1)\n",
      "\n",
      "b1[2]= 3000\n",
      "print(b)\n",
      "\n",
      "b[1,:] = 666\n",
      "print(b)\n",
      "\n",
      "print(b1)"
     ],
     "language": "python",
     "metadata": {},
     "outputs": [
      {
       "output_type": "stream",
       "stream": "stdout",
       "text": [
        "[ 3  7 11]\n",
        "[[   1    2    3    4]\n",
        " [   5    6    7    8]\n",
        " [   9   10 3000   12]]\n",
        "[[   1    2    3    4]\n",
        " [ 666  666  666  666]\n",
        " [   9   10 3000   12]]\n",
        "[   3  666 3000]\n"
       ]
      }
     ],
     "prompt_number": 70
    },
    {
     "cell_type": "code",
     "collapsed": false,
     "input": [
      "a2"
     ],
     "language": "python",
     "metadata": {},
     "outputs": [
      {
       "metadata": {},
       "output_type": "pyout",
       "prompt_number": 34,
       "text": [
        "array([[ 1,  2,  3,  4],\n",
        "       [ 5,  6,  7,  8],\n",
        "       [ 9, 10, 11, 12]])"
       ]
      }
     ],
     "prompt_number": 34
    },
    {
     "cell_type": "markdown",
     "metadata": {},
     "source": [
      "A\u00f1adir elementos crea un array nuevo:"
     ]
    },
    {
     "cell_type": "code",
     "collapsed": false,
     "input": [
      "np.append(a2, 3)"
     ],
     "language": "python",
     "metadata": {},
     "outputs": [
      {
       "metadata": {},
       "output_type": "pyout",
       "prompt_number": 35,
       "text": [
        "array([ 1,  2,  3,  4,  5,  6,  7,  8,  9, 10, 11, 12,  3])"
       ]
      }
     ],
     "prompt_number": 35
    },
    {
     "cell_type": "code",
     "collapsed": false,
     "input": [
      "a2"
     ],
     "language": "python",
     "metadata": {},
     "outputs": [
      {
       "metadata": {},
       "output_type": "pyout",
       "prompt_number": 36,
       "text": [
        "array([[ 1,  2,  3,  4],\n",
        "       [ 5,  6,  7,  8],\n",
        "       [ 9, 10, 11, 12]])"
       ]
      }
     ],
     "prompt_number": 36
    },
    {
     "cell_type": "markdown",
     "metadata": {},
     "source": [
      "Se puede crear una vista de un array completo:"
     ]
    },
    {
     "cell_type": "code",
     "collapsed": false,
     "input": [
      "aux = a2.view()\n",
      "aux.shape = 2,6\n",
      "print(aux)\n",
      "print(a2)"
     ],
     "language": "python",
     "metadata": {},
     "outputs": [
      {
       "output_type": "stream",
       "stream": "stdout",
       "text": [
        "[[ 1  2  3  4  5  6]\n",
        " [ 7  8  9 10 11 12]]\n",
        "[[ 1  2  3  4]\n",
        " [ 5  6  7  8]\n",
        " [ 9 10 11 12]]\n"
       ]
      }
     ],
     "prompt_number": 37
    },
    {
     "cell_type": "markdown",
     "metadata": {},
     "source": [
      "## Interface de la clase array"
     ]
    },
    {
     "cell_type": "code",
     "collapsed": false,
     "input": [
      "a2"
     ],
     "language": "python",
     "metadata": {},
     "outputs": [
      {
       "metadata": {},
       "output_type": "pyout",
       "prompt_number": 38,
       "text": [
        "array([[ 1,  2,  3,  4],\n",
        "       [ 5,  6,  7,  8],\n",
        "       [ 9, 10, 11, 12]])"
       ]
      }
     ],
     "prompt_number": 38
    },
    {
     "cell_type": "code",
     "collapsed": false,
     "input": [
      "a2.flags"
     ],
     "language": "python",
     "metadata": {},
     "outputs": [
      {
       "metadata": {},
       "output_type": "pyout",
       "prompt_number": 39,
       "text": [
        "  C_CONTIGUOUS : True\n",
        "  F_CONTIGUOUS : False\n",
        "  OWNDATA : True\n",
        "  WRITEABLE : True\n",
        "  ALIGNED : True\n",
        "  UPDATEIFCOPY : False"
       ]
      }
     ],
     "prompt_number": 39
    },
    {
     "cell_type": "code",
     "collapsed": false,
     "input": [
      "for attr in ['shape', 'strides', 'ndim', 'size', 'dtype', 'itemsize', 'nbytes']:\n",
      "    print(\"- {:10} {}\".format(attr, getattr(a2, attr)))"
     ],
     "language": "python",
     "metadata": {},
     "outputs": [
      {
       "output_type": "stream",
       "stream": "stdout",
       "text": [
        "- shape      (3, 4)\n",
        "- strides    (32, 8)\n",
        "- ndim       2\n",
        "- size       12\n",
        "- dtype      int64\n",
        "- itemsize   8\n",
        "- nbytes     96\n"
       ]
      }
     ],
     "prompt_number": 40
    },
    {
     "cell_type": "code",
     "collapsed": false,
     "input": [
      "a2.item((1,0))"
     ],
     "language": "python",
     "metadata": {},
     "outputs": [
      {
       "metadata": {},
       "output_type": "pyout",
       "prompt_number": 41,
       "text": [
        "5"
       ]
      }
     ],
     "prompt_number": 41
    },
    {
     "cell_type": "code",
     "collapsed": false,
     "input": [
      "a2.tolist()"
     ],
     "language": "python",
     "metadata": {},
     "outputs": [
      {
       "metadata": {},
       "output_type": "pyout",
       "prompt_number": 42,
       "text": [
        "[[1, 2, 3, 4], [5, 6, 7, 8], [9, 10, 11, 12]]"
       ]
      }
     ],
     "prompt_number": 42
    },
    {
     "cell_type": "code",
     "collapsed": false,
     "input": [
      "a2.tostring()"
     ],
     "language": "python",
     "metadata": {},
     "outputs": [
      {
       "metadata": {},
       "output_type": "pyout",
       "prompt_number": 43,
       "text": [
        "'\\x01\\x00\\x00\\x00\\x00\\x00\\x00\\x00\\x02\\x00\\x00\\x00\\x00\\x00\\x00\\x00\\x03\\x00\\x00\\x00\\x00\\x00\\x00\\x00\\x04\\x00\\x00\\x00\\x00\\x00\\x00\\x00\\x05\\x00\\x00\\x00\\x00\\x00\\x00\\x00\\x06\\x00\\x00\\x00\\x00\\x00\\x00\\x00\\x07\\x00\\x00\\x00\\x00\\x00\\x00\\x00\\x08\\x00\\x00\\x00\\x00\\x00\\x00\\x00\\t\\x00\\x00\\x00\\x00\\x00\\x00\\x00\\n\\x00\\x00\\x00\\x00\\x00\\x00\\x00\\x0b\\x00\\x00\\x00\\x00\\x00\\x00\\x00\\x0c\\x00\\x00\\x00\\x00\\x00\\x00\\x00'"
       ]
      }
     ],
     "prompt_number": 43
    },
    {
     "cell_type": "code",
     "collapsed": false,
     "input": [
      "a2.copy()"
     ],
     "language": "python",
     "metadata": {},
     "outputs": [
      {
       "metadata": {},
       "output_type": "pyout",
       "prompt_number": 44,
       "text": [
        "array([[ 1,  2,  3,  4],\n",
        "       [ 5,  6,  7,  8],\n",
        "       [ 9, 10, 11, 12]])"
       ]
      }
     ],
     "prompt_number": 44
    },
    {
     "cell_type": "code",
     "collapsed": false,
     "input": [
      "a2.view(dtype=np.int16)"
     ],
     "language": "python",
     "metadata": {},
     "outputs": [
      {
       "metadata": {},
       "output_type": "pyout",
       "prompt_number": 45,
       "text": [
        "array([[ 1,  0,  0,  0,  2,  0,  0,  0,  3,  0,  0,  0,  4,  0,  0,  0],\n",
        "       [ 5,  0,  0,  0,  6,  0,  0,  0,  7,  0,  0,  0,  8,  0,  0,  0],\n",
        "       [ 9,  0,  0,  0, 10,  0,  0,  0, 11,  0,  0,  0, 12,  0,  0,  0]], dtype=int16)"
       ]
      }
     ],
     "prompt_number": 45
    },
    {
     "cell_type": "code",
     "collapsed": false,
     "input": [
      "a2.fill(1)\n",
      "a2"
     ],
     "language": "python",
     "metadata": {},
     "outputs": [
      {
       "metadata": {},
       "output_type": "pyout",
       "prompt_number": 46,
       "text": [
        "array([[1, 1, 1, 1],\n",
        "       [1, 1, 1, 1],\n",
        "       [1, 1, 1, 1]])"
       ]
      }
     ],
     "prompt_number": 46
    },
    {
     "cell_type": "code",
     "collapsed": false,
     "input": [
      "a2 = np.array([[1, 2, 3, 4], [5, 6, 7, 8], [9, 10, 11, 12]])\n",
      "a2.transpose()"
     ],
     "language": "python",
     "metadata": {},
     "outputs": [
      {
       "metadata": {},
       "output_type": "pyout",
       "prompt_number": 47,
       "text": [
        "array([[ 1,  5,  9],\n",
        "       [ 2,  6, 10],\n",
        "       [ 3,  7, 11],\n",
        "       [ 4,  8, 12]])"
       ]
      }
     ],
     "prompt_number": 47
    },
    {
     "cell_type": "code",
     "collapsed": false,
     "input": [
      "aux = a2.copy()\n",
      "aux.resize(5,5)\n",
      "aux"
     ],
     "language": "python",
     "metadata": {},
     "outputs": [
      {
       "metadata": {},
       "output_type": "pyout",
       "prompt_number": 48,
       "text": [
        "array([[ 1,  2,  3,  4,  5],\n",
        "       [ 6,  7,  8,  9, 10],\n",
        "       [11, 12,  0,  0,  0],\n",
        "       [ 0,  0,  0,  0,  0],\n",
        "       [ 0,  0,  0,  0,  0]])"
       ]
      }
     ],
     "prompt_number": 48
    },
    {
     "cell_type": "code",
     "collapsed": false,
     "input": [
      "a2"
     ],
     "language": "python",
     "metadata": {},
     "outputs": [
      {
       "metadata": {},
       "output_type": "pyout",
       "prompt_number": 49,
       "text": [
        "array([[ 1,  2,  3,  4],\n",
        "       [ 5,  6,  7,  8],\n",
        "       [ 9, 10, 11, 12]])"
       ]
      }
     ],
     "prompt_number": 49
    },
    {
     "cell_type": "code",
     "collapsed": false,
     "input": [
      "aux = np.array([[3, 2], [1, 6]])\n",
      "aux.sort(axis=1)\n",
      "aux"
     ],
     "language": "python",
     "metadata": {},
     "outputs": [
      {
       "metadata": {},
       "output_type": "pyout",
       "prompt_number": 50,
       "text": [
        "array([[2, 3],\n",
        "       [1, 6]])"
       ]
      }
     ],
     "prompt_number": 50
    },
    {
     "cell_type": "code",
     "collapsed": false,
     "input": [
      "aux.sort(axis=0)\n",
      "aux"
     ],
     "language": "python",
     "metadata": {},
     "outputs": [
      {
       "metadata": {},
       "output_type": "pyout",
       "prompt_number": 51,
       "text": [
        "array([[1, 3],\n",
        "       [2, 6]])"
       ]
      }
     ],
     "prompt_number": 51
    },
    {
     "cell_type": "code",
     "collapsed": false,
     "input": [
      "a2.diagonal()"
     ],
     "language": "python",
     "metadata": {},
     "outputs": [
      {
       "metadata": {},
       "output_type": "pyout",
       "prompt_number": 52,
       "text": [
        "array([ 1,  6, 11])"
       ]
      }
     ],
     "prompt_number": 52
    },
    {
     "cell_type": "markdown",
     "metadata": {},
     "source": [
      "## Operaciones como m\u00e9todos"
     ]
    },
    {
     "cell_type": "code",
     "collapsed": false,
     "input": [
      "a2"
     ],
     "language": "python",
     "metadata": {},
     "outputs": [
      {
       "metadata": {},
       "output_type": "pyout",
       "prompt_number": 53,
       "text": [
        "array([[ 1,  2,  3,  4],\n",
        "       [ 5,  6,  7,  8],\n",
        "       [ 9, 10, 11, 12]])"
       ]
      }
     ],
     "prompt_number": 53
    },
    {
     "cell_type": "code",
     "collapsed": false,
     "input": [
      "print(a2.min())\n",
      "print(a2.max())\n",
      "print(a2.sum())\n",
      "print(a2.mean())\n",
      "print(a2.var())\n",
      "\n",
      "print(a2.sum(axis=0))\n",
      "print(a2.sum(axis=1))"
     ],
     "language": "python",
     "metadata": {},
     "outputs": [
      {
       "output_type": "stream",
       "stream": "stdout",
       "text": [
        "1\n",
        "12\n",
        "78\n",
        "6.5\n",
        "11.9166666667\n",
        "[15 18 21 24]\n",
        "[10 26 42]\n"
       ]
      }
     ],
     "prompt_number": 54
    },
    {
     "cell_type": "markdown",
     "metadata": {},
     "source": [
      "## Resolver sistema de ecuaciones"
     ]
    },
    {
     "cell_type": "code",
     "collapsed": false,
     "input": [
      "from numpy.linalg import solve\n",
      "\n",
      "# The system of equations we want to solve for (x0,x1,x2):\n",
      "# 3 * x0 + 1 * x1 + 5 * x2 = 6\n",
      "# 1 * x0 + 8 * x2 = 7\n",
      "# 2 * x0 + 1 * x1 + 4 * x2 = 8\n",
      "\n",
      "a = np.array([[3, 1, 5], [1, 0, 8],[2, 1, 4]])\n",
      "b = np.array([6, 7, 8])\n",
      "solution = solve(a, b)\n",
      "print(solution)\n",
      "\n",
      "print(np.dot(a, solution)) # Just checking if we indeed obtain the righthand side"
     ],
     "language": "python",
     "metadata": {},
     "outputs": [
      {
       "output_type": "stream",
       "stream": "stdout",
       "text": [
        "[-3.28571429  9.42857143  1.28571429]\n",
        "[ 6.  7.  8.]\n"
       ]
      }
     ],
     "prompt_number": 55
    },
    {
     "cell_type": "markdown",
     "metadata": {},
     "source": [
      "## grid\n",
      "\n",
      "Usando mesh-grids, como con `mgrid` y `ogrid`."
     ]
    },
    {
     "cell_type": "code",
     "collapsed": false,
     "input": [
      "a = np.arange(4)\n",
      "b = np.array([[x] for x in range(4)])\n",
      "b = a.reshape(4,1)\n",
      "print(a)\n",
      "print(b)\n",
      "a * b"
     ],
     "language": "python",
     "metadata": {},
     "outputs": [
      {
       "output_type": "stream",
       "stream": "stdout",
       "text": [
        "[0 1 2 3]\n",
        "[[0]\n",
        " [1]\n",
        " [2]\n",
        " [3]]\n"
       ]
      },
      {
       "metadata": {},
       "output_type": "pyout",
       "prompt_number": 56,
       "text": [
        "array([[0, 0, 0, 0],\n",
        "       [0, 1, 2, 3],\n",
        "       [0, 2, 4, 6],\n",
        "       [0, 3, 6, 9]])"
       ]
      }
     ],
     "prompt_number": 56
    },
    {
     "cell_type": "markdown",
     "metadata": {},
     "source": [
      "## Cargar y guardar `np.array`"
     ]
    },
    {
     "cell_type": "code",
     "collapsed": false,
     "input": [
      "np.fromstring(\"1 2 3 4 5\", sep=\" \", dtype=int)"
     ],
     "language": "python",
     "metadata": {},
     "outputs": [
      {
       "metadata": {},
       "output_type": "pyout",
       "prompt_number": 57,
       "text": [
        "array([1, 2, 3, 4, 5])"
       ]
      }
     ],
     "prompt_number": 57
    },
    {
     "cell_type": "code",
     "collapsed": false,
     "input": [
      "a2 = np.array([[1, 2, 3, 4], [5, 6, 7, 8], [9, 10, 11, 12]])"
     ],
     "language": "python",
     "metadata": {},
     "outputs": [],
     "prompt_number": 58
    },
    {
     "cell_type": "code",
     "collapsed": false,
     "input": [
      "np.array2string(a2)"
     ],
     "language": "python",
     "metadata": {},
     "outputs": [
      {
       "metadata": {},
       "output_type": "pyout",
       "prompt_number": 59,
       "text": [
        "'[[ 1  2  3  4]\\n [ 5  6  7  8]\\n [ 9 10 11 12]]'"
       ]
      }
     ],
     "prompt_number": 59
    },
    {
     "cell_type": "code",
     "collapsed": false,
     "input": [
      "with file('tmp/array', 'w') as fd:\n",
      "    a2.tofile(fd)\n",
      "    \n",
      "fd = file('tmp/array')\n",
      "np.fromfile(fd, np.int64)\n",
      "fd.close()"
     ],
     "language": "python",
     "metadata": {},
     "outputs": [
      {
       "metadata": {},
       "output_type": "pyout",
       "prompt_number": 60,
       "text": [
        "array([ 1,  2,  3,  4,  5,  6,  7,  8,  9, 10, 11, 12])"
       ]
      }
     ],
     "prompt_number": 60
    },
    {
     "cell_type": "code",
     "collapsed": false,
     "input": [
      "!hexdump tmp/array"
     ],
     "language": "python",
     "metadata": {},
     "outputs": [
      {
       "output_type": "stream",
       "stream": "stdout",
       "text": [
        "0000000 0001 0000 0000 0000 0002 0000 0000 0000\r\n",
        "0000010 0003 0000 0000 0000 0004 0000 0000 0000\r\n",
        "0000020 0005 0000 0000 0000 0006 0000 0000 0000\r\n",
        "0000030 0007 0000 0000 0000 0008 0000 0000 0000\r\n",
        "0000040 0009 0000 0000 0000 000a 0000 0000 0000\r\n",
        "0000050 000b 0000 0000 0000 000c 0000 0000 0000\r\n",
        "0000060\r\n"
       ]
      }
     ],
     "prompt_number": 61
    },
    {
     "cell_type": "code",
     "collapsed": false,
     "input": [
      "with file('tmp/array_pickle', 'w') as fd:\n",
      "    a2.dump(fd)\n",
      "    \n",
      "np.load(file('tmp/array_pickle'))"
     ],
     "language": "python",
     "metadata": {},
     "outputs": [
      {
       "metadata": {},
       "output_type": "pyout",
       "prompt_number": 62,
       "text": [
        "array([[ 1,  2,  3,  4],\n",
        "       [ 5,  6,  7,  8],\n",
        "       [ 9, 10, 11, 12]])"
       ]
      }
     ],
     "prompt_number": 62
    },
    {
     "cell_type": "code",
     "collapsed": false,
     "input": [
      "!hexdump -C tmp/array_pickle"
     ],
     "language": "python",
     "metadata": {},
     "outputs": [
      {
       "output_type": "stream",
       "stream": "stdout",
       "text": [
        "00000000  80 02 63 6e 75 6d 70 79  2e 63 6f 72 65 2e 6d 75  |..cnumpy.core.mu|\r\n",
        "00000010  6c 74 69 61 72 72 61 79  0a 5f 72 65 63 6f 6e 73  |ltiarray._recons|\r\n",
        "00000020  74 72 75 63 74 0a 71 01  63 6e 75 6d 70 79 0a 6e  |truct.q.cnumpy.n|\r\n",
        "00000030  64 61 72 72 61 79 0a 71  02 4b 00 85 55 01 62 87  |darray.q.K..U.b.|\r\n",
        "00000040  52 71 03 28 4b 01 4b 03  4b 04 86 63 6e 75 6d 70  |Rq.(K.K.K..cnump|\r\n",
        "00000050  79 0a 64 74 79 70 65 0a  71 04 55 02 69 38 4b 00  |y.dtype.q.U.i8K.|\r\n",
        "00000060  4b 01 87 52 71 05 28 4b  03 55 01 3c 4e 4e 4e 4a  |K..Rq.(K.U.<NNNJ|\r\n",
        "00000070  ff ff ff ff 4a ff ff ff  ff 4b 00 74 62 89 55 60  |....J....K.tb.U`|\r\n",
        "00000080  01 00 00 00 00 00 00 00  02 00 00 00 00 00 00 00  |................|\r\n",
        "00000090  03 00 00 00 00 00 00 00  04 00 00 00 00 00 00 00  |................|\r\n",
        "000000a0  05 00 00 00 00 00 00 00  06 00 00 00 00 00 00 00  |................|\r\n",
        "000000b0  07 00 00 00 00 00 00 00  08 00 00 00 00 00 00 00  |................|\r\n",
        "000000c0  09 00 00 00 00 00 00 00  0a 00 00 00 00 00 00 00  |................|\r\n",
        "000000d0  0b 00 00 00 00 00 00 00  0c 00 00 00 00 00 00 00  |................|\r\n",
        "000000e0  74 62 2e                                          |tb.|\r\n",
        "000000e3\r\n"
       ]
      }
     ],
     "prompt_number": 63
    },
    {
     "cell_type": "code",
     "collapsed": false,
     "input": [
      "!head -n8 graphs/dodecahedral.edgelist"
     ],
     "language": "python",
     "metadata": {},
     "outputs": [
      {
       "output_type": "stream",
       "stream": "stdout",
       "text": [
        "0 1\r\n",
        "0 10\r\n",
        "0 19\r\n",
        "1 8\r\n",
        "1 2\r\n",
        "2 3\r\n",
        "2 6\r\n",
        "3 19\r\n"
       ]
      }
     ],
     "prompt_number": 64
    },
    {
     "cell_type": "code",
     "collapsed": false,
     "input": [
      "np.loadtxt('graphs/dodecahedral.edgelist')[:8,:]"
     ],
     "language": "python",
     "metadata": {},
     "outputs": [
      {
       "metadata": {},
       "output_type": "pyout",
       "prompt_number": 65,
       "text": [
        "array([[  0.,   1.],\n",
        "       [  0.,  10.],\n",
        "       [  0.,  19.],\n",
        "       [  1.,   8.],\n",
        "       [  1.,   2.],\n",
        "       [  2.,   3.],\n",
        "       [  2.,   6.],\n",
        "       [  3.,  19.]])"
       ]
      }
     ],
     "prompt_number": 65
    },
    {
     "cell_type": "markdown",
     "metadata": {},
     "source": [
      "## Cargar datos de un CSV a partir de una URL"
     ]
    },
    {
     "cell_type": "code",
     "collapsed": false,
     "input": [
      "# url = 'https://gist.github.com/chriddyp/8818473/raw/d8c73ff66a190a84eb8c6c19df4d8865673234ca/2007gapminder.csv'\n",
      "url = 'http://arco.esi.uclm.es/~david.villa/puff/2007gapminder.csv'\n",
      "data = np.genfromtxt(url, delimiter=',', dtype=None, names=True)\n",
      "print(\"ndim: {}\".format(data.ndim))\n",
      "print(\"shape: {}\".format(data.shape))\n",
      "print(\"dtype: {}\".format(data.dtype))"
     ],
     "language": "python",
     "metadata": {},
     "outputs": [
      {
       "output_type": "stream",
       "stream": "stdout",
       "text": [
        "ndim: 1\n",
        "shape: (142,)\n",
        "dtype: [('Country', 'S24'), ('Population', '<i8'), ('Continent', 'S8'), ('lifeExp', '<f8'), ('gdpPercap', '<f8')]\n"
       ]
      }
     ],
     "prompt_number": 73
    },
    {
     "cell_type": "code",
     "collapsed": false,
     "input": [
      "data[:10]"
     ],
     "language": "python",
     "metadata": {},
     "outputs": [
      {
       "metadata": {},
       "output_type": "pyout",
       "prompt_number": 74,
       "text": [
        "array([('Afghanistan', 31889923, 'Asia', 43.828, 974.5803384),\n",
        "       ('Albania', 3600523, 'Europe', 76.423, 5937.029526),\n",
        "       ('Algeria', 33333216, 'Africa', 72.301, 6223.367465),\n",
        "       ('Angola', 12420476, 'Africa', 42.731, 4797.231267),\n",
        "       ('Argentina', 40301927, 'Americas', 75.32, 12779.37964),\n",
        "       ('Australia', 20434176, 'Oceania', 81.235, 34435.36744),\n",
        "       ('Austria', 8199783, 'Europe', 79.829, 36126.4927),\n",
        "       ('Bahrain', 708573, 'Asia', 75.635, 29796.04834),\n",
        "       ('Bangladesh', 150448339, 'Asia', 64.062, 1391.253792),\n",
        "       ('Belgium', 10392226, 'Europe', 79.441, 33692.60508)], \n",
        "      dtype=[('Country', 'S24'), ('Population', '<i8'), ('Continent', 'S8'), ('lifeExp', '<f8'), ('gdpPercap', '<f8')])"
       ]
      }
     ],
     "prompt_number": 74
    },
    {
     "cell_type": "code",
     "collapsed": false,
     "input": [
      "data['Country'][:30]"
     ],
     "language": "python",
     "metadata": {},
     "outputs": [
      {
       "metadata": {},
       "output_type": "pyout",
       "prompt_number": 75,
       "text": [
        "array(['Afghanistan', 'Albania', 'Algeria', 'Angola', 'Argentina',\n",
        "       'Australia', 'Austria', 'Bahrain', 'Bangladesh', 'Belgium', 'Benin',\n",
        "       'Bolivia', 'Bosnia and Herzegovina', 'Botswana', 'Brazil',\n",
        "       'Bulgaria', 'Burkina Faso', 'Burundi', 'Cambodia', 'Cameroon',\n",
        "       'Canada', 'Central African Republic', 'Chad', 'Chile', 'China',\n",
        "       'Colombia', 'Comoros', 'Congo Dem. Rep.', 'Congo Rep.', 'Costa Rica'], \n",
        "      dtype='|S24')"
       ]
      }
     ],
     "prompt_number": 75
    },
    {
     "cell_type": "markdown",
     "metadata": {},
     "source": [
      "Media de la rentas per c\u00e1pita de cada pais:"
     ]
    },
    {
     "cell_type": "code",
     "collapsed": false,
     "input": [
      "np.mean(data['gdpPercap'])"
     ],
     "language": "python",
     "metadata": {},
     "outputs": [
      {
       "metadata": {},
       "output_type": "pyout",
       "prompt_number": 78,
       "text": [
        "11680.071819878172"
       ]
      }
     ],
     "prompt_number": 78
    },
    {
     "cell_type": "markdown",
     "metadata": {},
     "source": [
      "Media de renta per c\u00e1pita en Europa"
     ]
    },
    {
     "cell_type": "code",
     "collapsed": false,
     "input": [
      "europe_index = data['Continent'] == 'Europe'\n",
      "europe_countries = data[europe_index]\n",
      "europe_countries['Country']"
     ],
     "language": "python",
     "metadata": {},
     "outputs": [
      {
       "metadata": {},
       "output_type": "pyout",
       "prompt_number": 79,
       "text": [
        "array(['Albania', 'Austria', 'Belgium', 'Bosnia and Herzegovina',\n",
        "       'Bulgaria', 'Croatia', 'Czech Republic', 'Denmark', 'Finland',\n",
        "       'France', 'Germany', 'Greece', 'Hungary', 'Iceland', 'Ireland',\n",
        "       'Italy', 'Montenegro', 'Netherlands', 'Norway', 'Poland',\n",
        "       'Portugal', 'Romania', 'Serbia', 'Slovak Republic', 'Slovenia',\n",
        "       'Spain', 'Sweden', 'Switzerland', 'Turkey', 'United Kingdom'], \n",
        "      dtype='|S24')"
       ]
      }
     ],
     "prompt_number": 79
    },
    {
     "cell_type": "code",
     "collapsed": false,
     "input": [
      "np.mean(europe_countries['gdpPercap'])"
     ],
     "language": "python",
     "metadata": {},
     "outputs": [
      {
       "metadata": {},
       "output_type": "pyout",
       "prompt_number": 80,
       "text": [
        "25054.481635933331"
       ]
      }
     ],
     "prompt_number": 80
    },
    {
     "cell_type": "markdown",
     "metadata": {},
     "source": [
      "Poblaci\u00f3n mundial"
     ]
    },
    {
     "cell_type": "code",
     "collapsed": false,
     "input": [
      "population = data['Population']\n",
      "np.sum(population)"
     ],
     "language": "python",
     "metadata": {},
     "outputs": [
      {
       "metadata": {},
       "output_type": "pyout",
       "prompt_number": 81,
       "text": [
        "6251013179"
       ]
      }
     ],
     "prompt_number": 81
    },
    {
     "cell_type": "markdown",
     "metadata": {},
     "source": [
      "Poblaci\u00f3n media (por p\u00e1is):"
     ]
    },
    {
     "cell_type": "code",
     "collapsed": false,
     "input": [
      "int(np.mean(population))"
     ],
     "language": "python",
     "metadata": {},
     "outputs": [
      {
       "metadata": {},
       "output_type": "pyout",
       "prompt_number": 82,
       "text": [
        "44021219"
       ]
      }
     ],
     "prompt_number": 82
    },
    {
     "cell_type": "markdown",
     "metadata": {},
     "source": [
      "Renta per c\u00e1pita media mundial"
     ]
    },
    {
     "cell_type": "code",
     "collapsed": false,
     "input": [
      "pib = np.sum(data['Population'] * data['gdpPercap'])\n",
      "pob_total = np.sum(data['Population'])\n",
      "print(pib/pob_total)"
     ],
     "language": "python",
     "metadata": {},
     "outputs": [
      {
       "output_type": "stream",
       "stream": "stdout",
       "text": [
        "9295.98659448\n"
       ]
      }
     ],
     "prompt_number": 77
    },
    {
     "cell_type": "markdown",
     "metadata": {},
     "source": [
      "Desviaci\u00f3n t\u00edpica de poblaci\u00f3n:"
     ]
    },
    {
     "cell_type": "code",
     "collapsed": false,
     "input": [
      "np.std(population)"
     ],
     "language": "python",
     "metadata": {},
     "outputs": [
      {
       "metadata": {},
       "output_type": "pyout",
       "prompt_number": 83,
       "text": [
        "147100685.88281167"
       ]
      }
     ],
     "prompt_number": 83
    },
    {
     "cell_type": "markdown",
     "metadata": {},
     "source": [
      "Pa\u00eds con mayor poblaci\u00f3n:"
     ]
    },
    {
     "cell_type": "code",
     "collapsed": false,
     "input": [
      "data[np.argmax(population)][0]"
     ],
     "language": "python",
     "metadata": {},
     "outputs": [
      {
       "metadata": {},
       "output_type": "pyout",
       "prompt_number": 84,
       "text": [
        "'China'"
       ]
      }
     ],
     "prompt_number": 84
    },
    {
     "cell_type": "markdown",
     "metadata": {},
     "source": [
      "Los cinco pa\u00edses con mayor renta per c\u00e1pita:"
     ]
    },
    {
     "cell_type": "code",
     "collapsed": false,
     "input": [
      "percap_sorted = np.sort(data, order='gdpPercap')\n",
      "percap_sorted[-5:][::-1]"
     ],
     "language": "python",
     "metadata": {},
     "outputs": [
      {
       "metadata": {},
       "output_type": "pyout",
       "prompt_number": 89,
       "text": [
        "array([('Norway', 4627926, 'Europe', 80.196, 49357.19017),\n",
        "       ('Kuwait', 2505559, 'Asia', 77.588, 47306.98978),\n",
        "       ('Singapore', 4553009, 'Asia', 79.972, 47143.17964),\n",
        "       ('United States', 301139947, 'Americas', 78.242, 42951.65309),\n",
        "       ('Ireland', 4109086, 'Europe', 78.885, 40675.99635)], \n",
        "      dtype=[('Country', 'S24'), ('Population', '<i8'), ('Continent', 'S8'), ('lifeExp', '<f8'), ('gdpPercap', '<f8')])"
       ]
      }
     ],
     "prompt_number": 89
    },
    {
     "cell_type": "markdown",
     "metadata": {},
     "source": [
      "PIB de todos los pa\u00edses:"
     ]
    },
    {
     "cell_type": "code",
     "collapsed": false,
     "input": [
      "import numpy.lib.recfunctions as rfn\n",
      "\n",
      "pibs = population * data['gdpPercap']\n",
      "arrays = data['Country'], pibs\n",
      "country_pibs = rfn.merge_arrays(arrays, flatten = True, usemask = False)\n",
      "country_pibs[:20]"
     ],
     "language": "python",
     "metadata": {},
     "outputs": [
      {
       "metadata": {},
       "output_type": "pyout",
       "prompt_number": 104,
       "text": [
        "array([('Afghanistan', 31079291948.889942), ('Albania', 21376411360.0421),\n",
        "       ('Algeria', 207444851958.21744), ('Angola', 59583895818.22309),\n",
        "       ('Argentina', 515033625356.5662), ('Australia', 703658358893.6295),\n",
        "       ('Austria', 296229400691.0841), ('Bahrain', 21112675360.41882),\n",
        "       ('Bangladesh', 209311822133.85147), ('Belgium', 350141166520.1081),\n",
        "       ('Benin', 11643151767.544123), ('Bolivia', 34854649033.83277),\n",
        "       ('Bosnia and Herzegovina', 33897026518.41899),\n",
        "       ('Botswana', 20603633701.61187), ('Brazil', 1722598680331.3838),\n",
        "       ('Bulgaria', 78213929148.27957),\n",
        "       ('Burkina Faso', 17435461729.74178), ('Burundi', 3608510288.223258),\n",
        "       ('Cambodia', 24218877033.97859), ('Cameroon', 36137515700.94532)], \n",
        "      dtype=[('f0', 'S24'), ('f1', '<f8')])"
       ]
      }
     ],
     "prompt_number": 104
    },
    {
     "cell_type": "markdown",
     "metadata": {},
     "source": [
      "Los cinco paises con el PIB m\u00e1s alto"
     ]
    },
    {
     "cell_type": "code",
     "collapsed": false,
     "input": [
      "np.sort(country_pibs, order='f1')[-5:][::-1]"
     ],
     "language": "python",
     "metadata": {},
     "outputs": [
      {
       "metadata": {},
       "output_type": "pyout",
       "prompt_number": 111,
       "text": [
        "array([('United States', 12934458535084.986), ('China', 6539500929092.309),\n",
        "       ('Japan', 4035134797102.1743), ('India', 2722925438772.817),\n",
        "       ('Germany', 2650870893900.9224)], \n",
        "      dtype=[('f0', 'S24'), ('f1', '<f8')])"
       ]
      }
     ],
     "prompt_number": 111
    }
   ],
   "metadata": {}
  }
 ]
}