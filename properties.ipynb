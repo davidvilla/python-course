{
 "metadata": {
  "name": "",
  "signature": "sha256:08766d7c3556de1b07a99a9407d4233d1462c3cc4aabc84a1d834625e9c4c9de"
 },
 "nbformat": 3,
 "nbformat_minor": 0,
 "worksheets": [
  {
   "cells": [
    {
     "cell_type": "markdown",
     "metadata": {},
     "source": [
      "# Propiedades\n",
      "\n",
      "Las propiedades permiten acceder a atributos ficticios por medio de m\u00e9todos especiales:"
     ]
    },
    {
     "cell_type": "code",
     "collapsed": false,
     "input": [
      "class A(object):\n",
      "    def __init__(self):\n",
      "        self._size = 0\n",
      "\n",
      "    @property\n",
      "    def size(self):\n",
      "        print(\"getting the property\")\n",
      "        return self._size\n",
      "\n",
      "    @size.setter\n",
      "    def size(self, value):\n",
      "        print(\"setting the property\")\n",
      "        self._size = value\n",
      "        \n",
      "a = A()\n",
      "print(a.size)\n",
      "a.size = 20\n",
      "print(a.size)"
     ],
     "language": "python",
     "metadata": {},
     "outputs": [
      {
       "output_type": "stream",
       "stream": "stdout",
       "text": [
        "getting the property\n",
        "0\n",
        "setting the property\n",
        "getting the property\n",
        "20\n"
       ]
      }
     ],
     "prompt_number": 2
    }
   ],
   "metadata": {}
  }
 ]
}