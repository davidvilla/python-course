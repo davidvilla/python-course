{
 "metadata": {
  "name": "",
  "signature": "sha256:c67350397816559f346e25af22452b96d9d17c34dad14184a491aed3dd87bf28"
 },
 "nbformat": 3,
 "nbformat_minor": 0,
 "worksheets": [
  {
   "cells": [
    {
     "cell_type": "markdown",
     "metadata": {},
     "source": [
      "# Reglas de \u00e1mbito"
     ]
    },
    {
     "cell_type": "code",
     "collapsed": false,
     "input": [
      "a = 1\n",
      "\n",
      "def f(b):\n",
      "    print(a, b)\n",
      "    \n",
      "f(3)\n",
      "a = 2\n",
      "f(8)"
     ],
     "language": "python",
     "metadata": {},
     "outputs": [
      {
       "output_type": "stream",
       "stream": "stdout",
       "text": [
        "(1, 3)\n",
        "(2, 8)\n"
       ]
      }
     ],
     "prompt_number": 5
    },
    {
     "cell_type": "code",
     "collapsed": false,
     "input": [
      "a = 1\n",
      "\n",
      "def f(b):\n",
      "    a = 10\n",
      "    print(a, b)\n",
      "    \n",
      "f(3)\n",
      "print(a)"
     ],
     "language": "python",
     "metadata": {},
     "outputs": [
      {
       "output_type": "stream",
       "stream": "stdout",
       "text": [
        "(10, 3)\n",
        "1\n"
       ]
      }
     ],
     "prompt_number": 1
    },
    {
     "cell_type": "code",
     "collapsed": false,
     "input": [
      "a = []\n",
      "\n",
      "def f(b):\n",
      "    a.append(5)\n",
      "    print(a, b)\n",
      "    \n",
      "f(3)\n",
      "print(a)"
     ],
     "language": "python",
     "metadata": {},
     "outputs": [
      {
       "output_type": "stream",
       "stream": "stdout",
       "text": [
        "([5], 3)\n",
        "[5]\n"
       ]
      }
     ],
     "prompt_number": 2
    },
    {
     "cell_type": "code",
     "collapsed": false,
     "input": [
      "a = 1\n",
      "\n",
      "def f(b):\n",
      "    global a\n",
      "    a = 10\n",
      "    print(a, b)\n",
      "    \n",
      "f(3)\n",
      "print(a)"
     ],
     "language": "python",
     "metadata": {},
     "outputs": [
      {
       "output_type": "stream",
       "stream": "stdout",
       "text": [
        "(10, 3)\n",
        "10\n"
       ]
      }
     ],
     "prompt_number": 4
    },
    {
     "cell_type": "markdown",
     "metadata": {},
     "source": [
      "## Clausuras\n",
      "\n",
      "Una clausura es una funci\u00f3n que tiene acceso al stack frame en que se cre\u00f3."
     ]
    },
    {
     "cell_type": "code",
     "collapsed": false,
     "input": [
      "def make_func(a):\n",
      "    def func(b, c):\n",
      "        print(a, b, c)\n",
      "    return func\n",
      "\n",
      "f = make_func(1)\n",
      "f(2, 3)"
     ],
     "language": "python",
     "metadata": {},
     "outputs": [
      {
       "output_type": "stream",
       "stream": "stdout",
       "text": [
        "(1, 2, 3)\n"
       ]
      }
     ],
     "prompt_number": 3
    },
    {
     "cell_type": "code",
     "collapsed": false,
     "input": [
      "def make_gt_predicate(value):\n",
      "    def predicate(x):\n",
      "        return x > value\n",
      "    return predicate\n",
      "    \n",
      "filter(make_gt_predicate(3), range(8))"
     ],
     "language": "python",
     "metadata": {},
     "outputs": [
      {
       "metadata": {},
       "output_type": "pyout",
       "prompt_number": 7,
       "text": [
        "[4, 5, 6, 7]"
       ]
      }
     ],
     "prompt_number": 7
    }
   ],
   "metadata": {}
  }
 ]
}