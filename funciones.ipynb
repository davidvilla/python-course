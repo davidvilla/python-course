{
 "metadata": {
  "name": "",
  "signature": "sha256:f47d2b01bd6b89bb66b23d6711208724cc27c5a21c4034540edcdcedb3ff522b"
 },
 "nbformat": 3,
 "nbformat_minor": 0,
 "worksheets": [
  {
   "cells": [
    {
     "cell_type": "markdown",
     "metadata": {},
     "source": [
      "# Funciones\n",
      "\n",
      "Las funciones son la forma m\u00e1s simple de organizar el c\u00f3digo de una aplicaci\u00f3n y su nombre hace referencia a las funciones matem\u00e1ticas. Es decir, una funci\u00f3n deber\u00eda realizar una tarea muy concreta y bien definida y probablemente devolver un resultado. En las secciones anteriores ya se han utilizado funciones, como **abs()**:"
     ]
    },
    {
     "cell_type": "code",
     "collapsed": false,
     "input": [
      "a = abs(-3.4)\n",
      "a"
     ],
     "language": "python",
     "metadata": {},
     "outputs": [
      {
       "metadata": {},
       "output_type": "pyout",
       "prompt_number": 3,
       "text": [
        "3.4"
       ]
      }
     ],
     "prompt_number": 3
    },
    {
     "cell_type": "markdown",
     "metadata": {},
     "source": [
      "Veremos ahora como escribir nuestras propias funciones. La funci\u00f3n tiene un formato muy simple:\n",
      "\n",
      "* La palabra reservada **def**\n",
      "* El _nombre_ de la funci\u00f3n (que deber\u00eda ser lo m\u00e1s descriptivo y concreto posible).\n",
      "* Una lista de par\u00e1metros entre par\u00e9ntesis\n",
      "* Un bloque de c\u00f3digo\n",
      "\n",
      "Veamos un ejemplo:"
     ]
    },
    {
     "cell_type": "code",
     "collapsed": false,
     "input": [
      "def factorial(n):\n",
      "    if n == 0:\n",
      "        return 1\n",
      "    \n",
      "    return n * factorial(n - 1)\n",
      "\n",
      "factorial(100)"
     ],
     "language": "python",
     "metadata": {},
     "outputs": [
      {
       "metadata": {},
       "output_type": "pyout",
       "prompt_number": 1,
       "text": [
        "93326215443944152681699238856266700490715968264381621468592963895217599993229915608941463976156518286253697920827223758251185210916864000000000000000000000000L"
       ]
      }
     ],
     "prompt_number": 1
    },
    {
     "cell_type": "markdown",
     "metadata": {},
     "source": [
      "Se trata de una funci\u00f3n recursiva (que realiza su trabajo llam\u00e1ndose a s\u00ed misma). Lo m\u00e1s destacable es el hecho de que los par\u00e1metros tambpoco tienen un tipo expl\u00edcito. Eso implica que nada impide que se pueda llamar con un valor no num\u00e9rico, pero obviamente fallar\u00e1."
     ]
    },
    {
     "cell_type": "code",
     "collapsed": false,
     "input": [
      "factorial(\"text\")"
     ],
     "language": "python",
     "metadata": {},
     "outputs": [
      {
       "ename": "TypeError",
       "evalue": "unsupported operand type(s) for -: 'str' and 'int'",
       "output_type": "pyerr",
       "traceback": [
        "\u001b[0;31m---------------------------------------------------------------------------\u001b[0m\n\u001b[0;31mTypeError\u001b[0m                                 Traceback (most recent call last)",
        "\u001b[0;32m<ipython-input-10-5268b995b58a>\u001b[0m in \u001b[0;36m<module>\u001b[0;34m()\u001b[0m\n\u001b[0;32m----> 1\u001b[0;31m \u001b[0mfactorial\u001b[0m\u001b[0;34m(\u001b[0m\u001b[0;34m\"text\"\u001b[0m\u001b[0;34m)\u001b[0m\u001b[0;34m\u001b[0m\u001b[0m\n\u001b[0m",
        "\u001b[0;32m<ipython-input-7-c7997581257e>\u001b[0m in \u001b[0;36mfactorial\u001b[0;34m(n)\u001b[0m\n\u001b[1;32m      3\u001b[0m         \u001b[0;32mreturn\u001b[0m \u001b[0;36m1\u001b[0m\u001b[0;34m\u001b[0m\u001b[0m\n\u001b[1;32m      4\u001b[0m \u001b[0;34m\u001b[0m\u001b[0m\n\u001b[0;32m----> 5\u001b[0;31m     \u001b[0;32mreturn\u001b[0m \u001b[0mn\u001b[0m \u001b[0;34m*\u001b[0m \u001b[0mfactorial\u001b[0m\u001b[0;34m(\u001b[0m\u001b[0mn\u001b[0m \u001b[0;34m-\u001b[0m\u001b[0;36m1\u001b[0m\u001b[0;34m)\u001b[0m\u001b[0;34m\u001b[0m\u001b[0m\n\u001b[0m\u001b[1;32m      6\u001b[0m \u001b[0;34m\u001b[0m\u001b[0m\n\u001b[1;32m      7\u001b[0m \u001b[0mfactorial\u001b[0m\u001b[0;34m(\u001b[0m\u001b[0;36m100\u001b[0m\u001b[0;34m)\u001b[0m\u001b[0;34m\u001b[0m\u001b[0m\n",
        "\u001b[0;31mTypeError\u001b[0m: unsupported operand type(s) for -: 'str' and 'int'"
       ]
      }
     ],
     "prompt_number": 10
    },
    {
     "cell_type": "markdown",
     "metadata": {},
     "source": [
      "## Paso de par\u00e1metros\n",
      "\n",
      "Las funciones Python pueden aceptar par\u00e1metros opciones (simpre que sean los \u00faltimos). Para ello debe definirse un valor por defecto:"
     ]
    },
    {
     "cell_type": "code",
     "collapsed": false,
     "input": [
      "def f(a, b, c=7, d=14):\n",
      "    print(\"a={}, b={}, c={}, d={}\".format(a, b, c, d))\n",
      "    \n",
      "f(1, 2)"
     ],
     "language": "python",
     "metadata": {},
     "outputs": [
      {
       "output_type": "stream",
       "stream": "stdout",
       "text": [
        "a=1, b=2, c=7, d=14\n"
       ]
      }
     ],
     "prompt_number": 17
    },
    {
     "cell_type": "code",
     "collapsed": false,
     "input": [
      "f(1, 2, 3)"
     ],
     "language": "python",
     "metadata": {},
     "outputs": [
      {
       "output_type": "stream",
       "stream": "stdout",
       "text": [
        "a=1, b=2, c=3, d=14\n"
       ]
      }
     ],
     "prompt_number": 18
    },
    {
     "cell_type": "markdown",
     "metadata": {},
     "source": [
      "Es posible pasar par\u00e1metros en la llamada indicado su nombre. Se les llama par\u00e1metros nombrados (_keyword arguments_). "
     ]
    },
    {
     "cell_type": "code",
     "collapsed": false,
     "input": [
      "f(1, d=20, b=100)"
     ],
     "language": "python",
     "metadata": {},
     "outputs": [
      {
       "output_type": "stream",
       "stream": "stdout",
       "text": [
        "a=1, b=100, c=7, d=20\n"
       ]
      }
     ],
     "prompt_number": 21
    },
    {
     "cell_type": "markdown",
     "metadata": {},
     "source": [
      "Notar que no es posible utilizar par\u00e1metros posicionales (sin nombre) despu\u00e9s de par\u00e1metros nombrados."
     ]
    },
    {
     "cell_type": "code",
     "collapsed": false,
     "input": [
      "f(a=10, 20)"
     ],
     "language": "python",
     "metadata": {},
     "outputs": [
      {
       "ename": "SyntaxError",
       "evalue": "non-keyword arg after keyword arg (<ipython-input-22-8b2658cb3547>, line 1)",
       "output_type": "pyerr",
       "traceback": [
        "\u001b[0;36m  File \u001b[0;32m\"<ipython-input-22-8b2658cb3547>\"\u001b[0;36m, line \u001b[0;32m1\u001b[0m\n\u001b[0;31m    f(a=10, 20)\u001b[0m\n\u001b[0;31mSyntaxError\u001b[0m\u001b[0;31m:\u001b[0m non-keyword arg after keyword arg\n"
       ]
      }
     ],
     "prompt_number": 22
    }
   ],
   "metadata": {}
  }
 ]
}